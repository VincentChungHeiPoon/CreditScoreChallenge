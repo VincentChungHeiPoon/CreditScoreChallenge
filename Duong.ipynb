{
 "cells": [
  {
   "cell_type": "code",
   "execution_count": 1,
   "metadata": {},
   "outputs": [],
   "source": [
    "import numpy as np\n",
    "import pandas as pd\n",
    "import matplotlib.pyplot as plt\n",
    "from numpy import random\n",
    "\n",
    "# ignore all warnings\n",
    "import warnings\n",
    "warnings.filterwarnings(\"ignore\")\n",
    "\n",
    "\n",
    "# import data\n",
    "train_set= pd.read_csv('./Data/train.csv', index_col= 'id')\n",
    "test_set= pd.read_csv('./Data/test.csv', index_col= 'id')\n"
   ]
  },
  {
   "cell_type": "code",
   "execution_count": 2,
   "metadata": {},
   "outputs": [],
   "source": [
    "# store all duplicated columns\n",
    "duplicated_cols_dict= {}\n",
    "duplicated_cols_list_full = []\n",
    "\n",
    "\n",
    "# THIS FUNCTION is to drop all duplicates columns\n",
    "for i, col in enumerate(train_set.columns):\n",
    "    duplicated_cols_list= []\n",
    "    # if the col is already one of the keys\n",
    "    # then skip\n",
    "    if col in duplicated_cols_list_full:\n",
    "        continue\n",
    "    for c in train_set.columns:\n",
    "        if (train_set[col].equals(train_set[c])):\n",
    "            duplicated_cols_list.append(c)\n",
    "            duplicated_cols_list_full.append(c)\n",
    "        \n",
    "           \n",
    "    if (len(duplicated_cols_list) > 1):\n",
    "        duplicated_cols_dict[col] = duplicated_cols_list   \n",
    "\n",
    "from matplotlib.cbook import flatten\n",
    "\n",
    "# determine duplicated columns to drop\n",
    "drop_cols = set(list(flatten(list(duplicated_cols_dict.values())))) - set(duplicated_cols_dict.keys())"
   ]
  },
  {
   "cell_type": "code",
   "execution_count": 3,
   "metadata": {},
   "outputs": [],
   "source": [
    "# drop the duplicates\n",
    "\n",
    "train_set= train_set.drop(drop_cols, axis= 1)\n",
    "test_set= test_set.drop(drop_cols, axis= 1)"
   ]
  },
  {
   "cell_type": "code",
   "execution_count": 4,
   "metadata": {
    "scrolled": true
   },
   "outputs": [],
   "source": [
    "cols_Vincent = train_set.columns[:int(len(train_set.columns)/2)]\n",
    "cols_Duong = train_set.columns[int(len(train_set.columns)/2):]"
   ]
  },
  {
   "cell_type": "code",
   "execution_count": 5,
   "metadata": {},
   "outputs": [
    {
     "data": {
      "text/plain": [
       "Text(0.5, 1.0, 'Percentages of missing values in each column')"
      ]
     },
     "execution_count": 5,
     "metadata": {},
     "output_type": "execute_result"
    },
    {
     "data": {
      "image/png": "[encoded data removed]",
      "text/plain": [
       "<Figure size 1440x1080 with 1 Axes>"
      ]
     },
     "metadata": {
      "needs_background": "light"
     },
     "output_type": "display_data"
    }
   ],
   "source": [
    "na_counts= train_set.isna().sum().sort_values()\n",
    "fig, ax = plt.subplots(figsize= (20,15))\n",
    "total_samples= len(train_set)\n",
    "\n",
    "ax.bar(na_counts.index,na_counts.values/total_samples)\n",
    "ax.set_xlabel(\"column \", fontsize= 30)\n",
    "ax.set_ylabel(\"counts\", fontsize= 30)\n",
    "ax.set_xticklabels([])\n",
    "ax.set_title(\"Percentages of missing values in each column\", fontsize= 35)"
   ]
  },
  {
   "cell_type": "code",
   "execution_count": 6,
   "metadata": {},
   "outputs": [
    {
     "data": {
      "text/html": [
       "<div>\n",
       "<style scoped>\n",
       "    .dataframe tbody tr th:only-of-type {\n",
       "        vertical-align: middle;\n",
       "    }\n",
       "\n",
       "    .dataframe tbody tr th {\n",
       "        vertical-align: top;\n",
       "    }\n",
       "\n",
       "    .dataframe thead th {\n",
       "        text-align: right;\n",
       "    }\n",
       "</style>\n",
       "<table border=\"1\" class=\"dataframe\">\n",
       "  <thead>\n",
       "    <tr style=\"text-align: right;\">\n",
       "      <th></th>\n",
       "      <th>label</th>\n",
       "      <th>Field_3</th>\n",
       "      <th>Field_10</th>\n",
       "      <th>Field_13</th>\n",
       "      <th>Field_19</th>\n",
       "      <th>Field_20</th>\n",
       "      <th>Field_21</th>\n",
       "      <th>Field_22</th>\n",
       "      <th>Field_23</th>\n",
       "      <th>Field_27</th>\n",
       "      <th>...</th>\n",
       "      <th>partner4_L</th>\n",
       "      <th>partner5_A</th>\n",
       "      <th>partner5_D</th>\n",
       "      <th>partner5_G</th>\n",
       "      <th>num_of_phone</th>\n",
       "      <th>Field_78</th>\n",
       "      <th>Field_79</th>\n",
       "      <th>Field_80</th>\n",
       "      <th>Field_81</th>\n",
       "      <th>Field_82</th>\n",
       "    </tr>\n",
       "  </thead>\n",
       "  <tbody>\n",
       "    <tr>\n",
       "      <th>count</th>\n",
       "      <td>53030.000000</td>\n",
       "      <td>25564.000000</td>\n",
       "      <td>25564.000000</td>\n",
       "      <td>25564.0</td>\n",
       "      <td>25564.000000</td>\n",
       "      <td>2.556400e+04</td>\n",
       "      <td>25564.000000</td>\n",
       "      <td>25564.000000</td>\n",
       "      <td>25564.000000</td>\n",
       "      <td>2.556400e+04</td>\n",
       "      <td>...</td>\n",
       "      <td>48283.000000</td>\n",
       "      <td>48283.000000</td>\n",
       "      <td>48283.000000</td>\n",
       "      <td>48283.000000</td>\n",
       "      <td>50518.000000</td>\n",
       "      <td>36397.00000</td>\n",
       "      <td>27782.000000</td>\n",
       "      <td>36320.000000</td>\n",
       "      <td>35981.000000</td>\n",
       "      <td>53030.000000</td>\n",
       "    </tr>\n",
       "    <tr>\n",
       "      <th>mean</th>\n",
       "      <td>0.316726</td>\n",
       "      <td>1.538687</td>\n",
       "      <td>1.096542</td>\n",
       "      <td>1.0</td>\n",
       "      <td>0.267022</td>\n",
       "      <td>3.603181e+06</td>\n",
       "      <td>4.485331</td>\n",
       "      <td>0.999452</td>\n",
       "      <td>31.472540</td>\n",
       "      <td>2.252840e+05</td>\n",
       "      <td>...</td>\n",
       "      <td>0.306464</td>\n",
       "      <td>0.254334</td>\n",
       "      <td>0.000124</td>\n",
       "      <td>0.000041</td>\n",
       "      <td>1.087236</td>\n",
       "      <td>20.80144</td>\n",
       "      <td>30.911307</td>\n",
       "      <td>-1.793163</td>\n",
       "      <td>-32.149412</td>\n",
       "      <td>1.668659</td>\n",
       "    </tr>\n",
       "    <tr>\n",
       "      <th>std</th>\n",
       "      <td>0.465204</td>\n",
       "      <td>0.498511</td>\n",
       "      <td>0.332593</td>\n",
       "      <td>0.0</td>\n",
       "      <td>0.835968</td>\n",
       "      <td>2.282034e+06</td>\n",
       "      <td>0.281697</td>\n",
       "      <td>0.053069</td>\n",
       "      <td>46.238001</td>\n",
       "      <td>8.423081e+05</td>\n",
       "      <td>...</td>\n",
       "      <td>0.461030</td>\n",
       "      <td>0.435491</td>\n",
       "      <td>0.011147</td>\n",
       "      <td>0.006436</td>\n",
       "      <td>0.297815</td>\n",
       "      <td>40.10993</td>\n",
       "      <td>35.968215</td>\n",
       "      <td>32.176041</td>\n",
       "      <td>63.442452</td>\n",
       "      <td>1.090910</td>\n",
       "    </tr>\n",
       "    <tr>\n",
       "      <th>min</th>\n",
       "      <td>0.000000</td>\n",
       "      <td>1.000000</td>\n",
       "      <td>0.000000</td>\n",
       "      <td>1.0</td>\n",
       "      <td>0.000000</td>\n",
       "      <td>0.000000e+00</td>\n",
       "      <td>0.000000</td>\n",
       "      <td>0.000000</td>\n",
       "      <td>0.000000</td>\n",
       "      <td>0.000000e+00</td>\n",
       "      <td>...</td>\n",
       "      <td>0.000000</td>\n",
       "      <td>0.000000</td>\n",
       "      <td>0.000000</td>\n",
       "      <td>0.000000</td>\n",
       "      <td>1.000000</td>\n",
       "      <td>-267.00000</td>\n",
       "      <td>0.000000</td>\n",
       "      <td>-267.000000</td>\n",
       "      <td>-290.000000</td>\n",
       "      <td>1.000000</td>\n",
       "    </tr>\n",
       "    <tr>\n",
       "      <th>25%</th>\n",
       "      <td>0.000000</td>\n",
       "      <td>1.000000</td>\n",
       "      <td>1.000000</td>\n",
       "      <td>1.0</td>\n",
       "      <td>0.000000</td>\n",
       "      <td>1.490000e+06</td>\n",
       "      <td>4.500000</td>\n",
       "      <td>1.000000</td>\n",
       "      <td>1.000000</td>\n",
       "      <td>0.000000e+00</td>\n",
       "      <td>...</td>\n",
       "      <td>0.000000</td>\n",
       "      <td>0.000000</td>\n",
       "      <td>0.000000</td>\n",
       "      <td>0.000000</td>\n",
       "      <td>1.000000</td>\n",
       "      <td>4.00000</td>\n",
       "      <td>5.326888</td>\n",
       "      <td>-5.600000</td>\n",
       "      <td>-69.000000</td>\n",
       "      <td>1.000000</td>\n",
       "    </tr>\n",
       "    <tr>\n",
       "      <th>50%</th>\n",
       "      <td>0.000000</td>\n",
       "      <td>2.000000</td>\n",
       "      <td>1.000000</td>\n",
       "      <td>1.0</td>\n",
       "      <td>0.000000</td>\n",
       "      <td>3.801000e+06</td>\n",
       "      <td>4.500000</td>\n",
       "      <td>1.000000</td>\n",
       "      <td>14.000000</td>\n",
       "      <td>0.000000e+00</td>\n",
       "      <td>...</td>\n",
       "      <td>0.000000</td>\n",
       "      <td>0.000000</td>\n",
       "      <td>0.000000</td>\n",
       "      <td>0.000000</td>\n",
       "      <td>1.000000</td>\n",
       "      <td>16.00000</td>\n",
       "      <td>15.556349</td>\n",
       "      <td>2.086957</td>\n",
       "      <td>0.000000</td>\n",
       "      <td>1.000000</td>\n",
       "    </tr>\n",
       "    <tr>\n",
       "      <th>75%</th>\n",
       "      <td>1.000000</td>\n",
       "      <td>2.000000</td>\n",
       "      <td>1.000000</td>\n",
       "      <td>1.0</td>\n",
       "      <td>0.000000</td>\n",
       "      <td>4.500000e+06</td>\n",
       "      <td>4.500000</td>\n",
       "      <td>1.000000</td>\n",
       "      <td>40.000000</td>\n",
       "      <td>0.000000e+00</td>\n",
       "      <td>...</td>\n",
       "      <td>1.000000</td>\n",
       "      <td>1.000000</td>\n",
       "      <td>0.000000</td>\n",
       "      <td>0.000000</td>\n",
       "      <td>1.000000</td>\n",
       "      <td>36.00000</td>\n",
       "      <td>46.013087</td>\n",
       "      <td>9.500000</td>\n",
       "      <td>1.000000</td>\n",
       "      <td>2.000000</td>\n",
       "    </tr>\n",
       "    <tr>\n",
       "      <th>max</th>\n",
       "      <td>1.000000</td>\n",
       "      <td>2.000000</td>\n",
       "      <td>5.000000</td>\n",
       "      <td>1.0</td>\n",
       "      <td>6.864000</td>\n",
       "      <td>2.980000e+07</td>\n",
       "      <td>6.000000</td>\n",
       "      <td>2.000000</td>\n",
       "      <td>464.000000</td>\n",
       "      <td>2.000000e+07</td>\n",
       "      <td>...</td>\n",
       "      <td>1.000000</td>\n",
       "      <td>1.000000</td>\n",
       "      <td>1.000000</td>\n",
       "      <td>1.000000</td>\n",
       "      <td>5.000000</td>\n",
       "      <td>242.00000</td>\n",
       "      <td>325.976226</td>\n",
       "      <td>238.000000</td>\n",
       "      <td>238.000000</td>\n",
       "      <td>4.000000</td>\n",
       "    </tr>\n",
       "  </tbody>\n",
       "</table>\n",
       "<p>8 rows × 89 columns</p>\n",
       "</div>"
      ],
      "text/plain": [
       "              label       Field_3      Field_10  Field_13      Field_19  \\\n",
       "count  53030.000000  25564.000000  25564.000000   25564.0  25564.000000   \n",
       "mean       0.316726      1.538687      1.096542       1.0      0.267022   \n",
       "std        0.465204      0.498511      0.332593       0.0      0.835968   \n",
       "min        0.000000      1.000000      0.000000       1.0      0.000000   \n",
       "25%        0.000000      1.000000      1.000000       1.0      0.000000   \n",
       "50%        0.000000      2.000000      1.000000       1.0      0.000000   \n",
       "75%        1.000000      2.000000      1.000000       1.0      0.000000   \n",
       "max        1.000000      2.000000      5.000000       1.0      6.864000   \n",
       "\n",
       "           Field_20      Field_21      Field_22      Field_23      Field_27  \\\n",
       "count  2.556400e+04  25564.000000  25564.000000  25564.000000  2.556400e+04   \n",
       "mean   3.603181e+06      4.485331      0.999452     31.472540  2.252840e+05   \n",
       "std    2.282034e+06      0.281697      0.053069     46.238001  8.423081e+05   \n",
       "min    0.000000e+00      0.000000      0.000000      0.000000  0.000000e+00   \n",
       "25%    1.490000e+06      4.500000      1.000000      1.000000  0.000000e+00   \n",
       "50%    3.801000e+06      4.500000      1.000000     14.000000  0.000000e+00   \n",
       "75%    4.500000e+06      4.500000      1.000000     40.000000  0.000000e+00   \n",
       "max    2.980000e+07      6.000000      2.000000    464.000000  2.000000e+07   \n",
       "\n",
       "       ...    partner4_L    partner5_A    partner5_D    partner5_G  \\\n",
       "count  ...  48283.000000  48283.000000  48283.000000  48283.000000   \n",
       "mean   ...      0.306464      0.254334      0.000124      0.000041   \n",
       "std    ...      0.461030      0.435491      0.011147      0.006436   \n",
       "min    ...      0.000000      0.000000      0.000000      0.000000   \n",
       "25%    ...      0.000000      0.000000      0.000000      0.000000   \n",
       "50%    ...      0.000000      0.000000      0.000000      0.000000   \n",
       "75%    ...      1.000000      1.000000      0.000000      0.000000   \n",
       "max    ...      1.000000      1.000000      1.000000      1.000000   \n",
       "\n",
       "       num_of_phone     Field_78      Field_79      Field_80      Field_81  \\\n",
       "count  50518.000000  36397.00000  27782.000000  36320.000000  35981.000000   \n",
       "mean       1.087236     20.80144     30.911307     -1.793163    -32.149412   \n",
       "std        0.297815     40.10993     35.968215     32.176041     63.442452   \n",
       "min        1.000000   -267.00000      0.000000   -267.000000   -290.000000   \n",
       "25%        1.000000      4.00000      5.326888     -5.600000    -69.000000   \n",
       "50%        1.000000     16.00000     15.556349      2.086957      0.000000   \n",
       "75%        1.000000     36.00000     46.013087      9.500000      1.000000   \n",
       "max        5.000000    242.00000    325.976226    238.000000    238.000000   \n",
       "\n",
       "           Field_82  \n",
       "count  53030.000000  \n",
       "mean       1.668659  \n",
       "std        1.090910  \n",
       "min        1.000000  \n",
       "25%        1.000000  \n",
       "50%        1.000000  \n",
       "75%        2.000000  \n",
       "max        4.000000  \n",
       "\n",
       "[8 rows x 89 columns]"
      ]
     },
     "execution_count": 6,
     "metadata": {},
     "output_type": "execute_result"
    }
   ],
   "source": [
    "train_set.describe()"
   ]
  },
  {
   "cell_type": "code",
   "execution_count": 7,
   "metadata": {},
   "outputs": [
    {
     "name": "stdout",
     "output_type": "stream",
     "text": [
      "Labels count\n"
     ]
    },
    {
     "data": {
      "text/plain": [
       "0    36234\n",
       "1    16796\n",
       "Name: label, dtype: int64"
      ]
     },
     "execution_count": 7,
     "metadata": {},
     "output_type": "execute_result"
    }
   ],
   "source": [
    "print (\"Labels count\")\n",
    "train_set.label.value_counts()"
   ]
  },
  {
   "cell_type": "code",
   "execution_count": 8,
   "metadata": {},
   "outputs": [
    {
     "data": {
      "text/plain": [
       "Text(0.5, 1.0, 'Correlation with labels')"
      ]
     },
     "execution_count": 8,
     "metadata": {},
     "output_type": "execute_result"
    },
    {
     "data": {
      "image/png": "[encoded data removed]",
      "text/plain": [
       "<Figure size 1440x1080 with 1 Axes>"
      ]
     },
     "metadata": {
      "needs_background": "light"
     },
     "output_type": "display_data"
    }
   ],
   "source": [
    "corrs = train_set.corr()['label'].sort_values()\n",
    "# exclude nan corrs\n",
    "corrs = corrs[corrs.values < 1]\n",
    "\n",
    "fig, ax = plt.subplots(figsize= (20,15))\n",
    "total_samples= len(train_set)\n",
    "\n",
    "ax.bar(corrs.index,corrs.values)\n",
    "ax.set_xlabel(\"column \", fontsize= 30)\n",
    "ax.set_ylabel(\"correlation\", fontsize= 30)\n",
    "ax.set_xticklabels([])\n",
    "ax.set_title(\"Correlation with labels\", fontsize= 35)"
   ]
  },
  {
   "cell_type": "markdown",
   "metadata": {},
   "source": [
    "## Duong's part"
   ]
  },
  {
   "cell_type": "code",
   "execution_count": 263,
   "metadata": {},
   "outputs": [],
   "source": [
    "def is_cat(df, col, cutoff_cat = 500):\n",
    "    \"\"\"\n",
    "    cutoff_cat: value to determine \n",
    "    \"\"\"\n",
    "    if (len(df[col].value_counts().index) < cutoff_cat):\n",
    "        return True\n",
    "    else:\n",
    "        return False"
   ]
  },
  {
   "cell_type": "code",
   "execution_count": 264,
   "metadata": {},
   "outputs": [],
   "source": [
    "def fill_numeric_var(df, col, std= True, round_up= True, seed= 76, cuttoff_skewness= 0.2):\n",
    "    \n",
    "    from numpy import random\n",
    "    import scipy\n",
    "    \n",
    "    random.seed(seed)\n",
    "\n",
    "    # if skewness > cuttoff_skewness \n",
    "    skewness = scipy.stats.skew(data_Duong[col].values, nan_policy= 'omit').data\n",
    "    \n",
    "    if (skewness > cuttoff_skewness):\n",
    "        mean_or_median = 'median'\n",
    "    else:\n",
    "        mean_or_median = 'mean'\n",
    "    \n",
    "    \n",
    "    if (mean_or_median == 'median'):\n",
    "        col_median = df[col].median()\n",
    "    else:\n",
    "        col_median = df[col].mean()\n",
    "    \n",
    "    \n",
    "    \n",
    "    if (std == True):\n",
    "        col_std = df[col].std()\n",
    "    else:\n",
    "        col_std = 0\n",
    "\n",
    "    col_random= col_median + col_std*random.randn(len(df))\n",
    "    # if want to round up to interger\n",
    "    if (round_up == True):\n",
    "        \n",
    "        col_random= np.round(col_random)\n",
    "\n",
    "    print (\"skewess =\", skewness, \". Fill NAs with\", mean_or_median)\n",
    "    # start fill in nulls\n",
    "    col_random = np.where(col_random <0, 0, col_random)\n",
    "    df[col] = np.where(df[col].isnull(), col_random, df[col])\n",
    "    \n",
    "    # TODO: return\n",
    "    "
   ]
  },
  {
   "cell_type": "code",
   "execution_count": 265,
   "metadata": {},
   "outputs": [],
   "source": [
    "def fill_cat_var(df, col_name, seed= 76):\n",
    "    random.seed(seed)\n",
    "    for name in col_name:\n",
    "        info = df[name].value_counts()/df[name].value_counts().sum()\n",
    "        random_val = random.choice(info.index, size= len(df), p = info.values)\n",
    "        df[name] = np.where(df[name].isnull(), random_val, df[name])"
   ]
  },
  {
   "cell_type": "code",
   "execution_count": 314,
   "metadata": {},
   "outputs": [],
   "source": [
    "data_Duong = train_set[cols_Duong].copy()\n",
    "\n",
    "#data_Duong['label']= train_set['label'].values"
   ]
  },
  {
   "cell_type": "code",
   "execution_count": 315,
   "metadata": {},
   "outputs": [],
   "source": [
    "\n",
    "from datetime import datetime\n",
    "\n",
    "data_Duong['E_endDate'] = data_Duong['E_endDate'].apply(lambda row: \\\n",
    "              np.nan \\\n",
    "                    if row is np.nan \\\n",
    "                else datetime.strptime(row, '%Y-%m-%d'))\n",
    "\n",
    "data_Duong['E_startDate'] = data_Duong['E_startDate'].apply(lambda row: \\\n",
    "              np.nan \\\n",
    "                    if row is np.nan \\\n",
    "                else datetime.strptime(row, '%Y-%m-%d'))\n",
    "\n",
    "\n",
    "data_Duong['F_endDate'] = data_Duong['F_endDate'].apply(lambda row: \\\n",
    "              np.nan \\\n",
    "                    if row is np.nan \\\n",
    "                else datetime.strptime(row, '%Y-%m-%d'))\n",
    "\n",
    "data_Duong['F_startDate'] = data_Duong['F_startDate'].apply(lambda row: \\\n",
    "              np.nan \\\n",
    "                    if row is np.nan \\\n",
    "                else datetime.strptime(row, '%Y-%m-%d'))\n",
    "\n",
    "data_Duong['G_startDate'] = data_Duong['G_startDate'].apply(lambda row: \\\n",
    "              np.nan \\\n",
    "                    if row is np.nan \\\n",
    "                else datetime.strptime(row, '%Y-%m-%d'))\n",
    "\n",
    "data_Duong['G_endDate'] = data_Duong['G_endDate'].apply(lambda row: \\\n",
    "              np.nan \\\n",
    "                    if row is np.nan \\\n",
    "                else datetime.strptime(row, '%Y-%m-%d'))               \n",
    "\n",
    "\n",
    "data_Duong['A_endDate'] = data_Duong['A_endDate'].apply(lambda row: \\\n",
    "              np.nan \\\n",
    "                    if row is np.nan \\\n",
    "                else datetime.strptime(row, '%Y-%m-%d'))\n",
    "\n",
    "data_Duong['A_startDate'] = data_Duong['A_startDate'].apply(lambda row: \\\n",
    "              np.nan \\\n",
    "                    if row is np.nan \\\n",
    "                else datetime.strptime(row, '%Y-%m-%d'))  \n",
    "\n",
    "data_Duong['E_diff_date']= (data_Duong['E_endDate'] - data_Duong['E_startDate']).dt.days\n",
    "\n",
    "data_Duong['F_diff_date']= (data_Duong['F_endDate'] - data_Duong['F_startDate']).dt.days\n",
    "\n",
    "data_Duong['G_diff_date']= (data_Duong['G_endDate'] - data_Duong['G_startDate']).dt.days\n",
    "\n",
    "data_Duong['A_diff_date']= (data_Duong['A_endDate'] - data_Duong['A_startDate']).dt.days"
   ]
  },
  {
   "cell_type": "code",
   "execution_count": 316,
   "metadata": {},
   "outputs": [],
   "source": [
    "data_Duong.drop(['E_endDate', 'E_startDate', 'F_endDate', 'F_startDate', 'G_endDate', 'G_startDate', 'A_endDate', 'A_startDate'],\\\n",
    "                    axis= 1, inplace= True)"
   ]
  },
  {
   "cell_type": "code",
   "execution_count": 317,
   "metadata": {},
   "outputs": [],
   "source": [
    "useless_cols = ['currentLocationLocationId', 'currentLocationLatitude', \n",
    "                'currentLocationLongitude', 'homeTownLocationId', \n",
    "                'homeTownLatitude', 'homeTownLongitude',\n",
    "                'data.basic_info.locale', 'currentLocationCity',\n",
    "                'currentLocationCountry', 'currentLocationName', \n",
    "                'currentLocationState', 'homeTownCity', \n",
    "                'homeTownCountry', 'homeTownName', 'homeTownState']\n",
    "\n",
    "data_Duong.drop(useless_cols, axis= 1, inplace= True)"
   ]
  },
  {
   "cell_type": "code",
   "execution_count": 310,
   "metadata": {
    "collapsed": true
   },
   "outputs": [
    {
     "name": "stdout",
     "output_type": "stream",
     "text": [
      "NaN       29779\n",
      "male      13775\n",
      "female     9476\n",
      "Name: info_social_sex, dtype: int64\n",
      "NaN       29130\n",
      "0.0       18335\n",
      "13.0         35\n",
      "47.0         30\n",
      "30.0         29\n",
      "          ...  \n",
      "1817.0        1\n",
      "1056.0        1\n",
      "620.0         1\n",
      "1220.0        1\n",
      "796.0         1\n",
      "Name: subscriberCount, Length: 1526, dtype: int64\n",
      "NaN    32364\n",
      "5.0    11696\n",
      "1.0     3339\n",
      "2.0     2401\n",
      "3.0     1828\n",
      "4.0     1402\n",
      "Name: topFriends, dtype: int64\n",
      "2.0     7800\n",
      "3.0     7693\n",
      "4.0     6565\n",
      "1.0     6524\n",
      "0.0     5613\n",
      "5.0     4967\n",
      "NaN     4753\n",
      "6.0     3499\n",
      "7.0     2333\n",
      "8.0     1365\n",
      "9.0      864\n",
      "10.0     523\n",
      "11.0     279\n",
      "12.0     142\n",
      "13.0      60\n",
      "14.0      27\n",
      "15.0      14\n",
      "16.0       6\n",
      "17.0       2\n",
      "19.0       1\n",
      "Name: numOrg, dtype: int64\n",
      "NaN    27914\n",
      "1.0    20414\n",
      "2.0     3922\n",
      "3.0      672\n",
      "4.0      101\n",
      "5.0        6\n",
      "6.0        1\n",
      "Name: F_numOrg, dtype: int64\n",
      "NaN     27914\n",
      "1.0     17532\n",
      "2.0      5102\n",
      "3.0      1647\n",
      "4.0       522\n",
      "5.0       181\n",
      "6.0        84\n",
      "7.0        22\n",
      "8.0        10\n",
      "9.0         7\n",
      "12.0        2\n",
      "10.0        2\n",
      "16.0        2\n",
      "15.0        1\n",
      "13.0        1\n",
      "11.0        1\n",
      "Name: F_numQuery, dtype: int64\n",
      "NaN    27320\n",
      "1.0    19406\n",
      "2.0     4977\n",
      "3.0     1105\n",
      "4.0      194\n",
      "5.0       25\n",
      "6.0        2\n",
      "7.0        1\n",
      "Name: E_numOrg, dtype: int64\n",
      "NaN     27320\n",
      "1.0     16361\n",
      "2.0      5683\n",
      "3.0      2206\n",
      "4.0       885\n",
      "5.0       354\n",
      "6.0       128\n",
      "7.0        48\n",
      "8.0        18\n",
      "9.0        12\n",
      "10.0       10\n",
      "12.0        1\n",
      "46.0        1\n",
      "11.0        1\n",
      "14.0        1\n",
      "16.0        1\n",
      "Name: E_numQuery, dtype: int64\n",
      "NaN    31130\n",
      "1.0    20419\n",
      "2.0     1397\n",
      "3.0       84\n",
      "Name: C_numOrg, dtype: int64\n",
      "NaN      31130\n",
      "1.0      17768\n",
      "2.0       2745\n",
      "3.0        442\n",
      "4.0        167\n",
      "         ...  \n",
      "166.0        1\n",
      "298.0        1\n",
      "40.0         1\n",
      "307.0        1\n",
      "75.0         1\n",
      "Name: C_numQuery, Length: 77, dtype: int64\n",
      "NaN           31130\n",
      "2019-10-01      278\n",
      "2019-10-07      248\n",
      "2019-09-25      246\n",
      "2019-09-30      242\n",
      "              ...  \n",
      "2019-08-12        1\n",
      "2019-08-01        1\n",
      "2019-07-30        1\n",
      "2019-08-28        1\n",
      "2019-08-15        1\n",
      "Name: C_startDate, Length: 198, dtype: int64\n",
      "NaN           31130\n",
      "2019-12-12      244\n",
      "2019-10-01      214\n",
      "2019-12-18      204\n",
      "2019-12-26      203\n",
      "              ...  \n",
      "2019-08-27        1\n",
      "2019-08-23        1\n",
      "2019-08-12        1\n",
      "2019-08-17        1\n",
      "2019-08-29        1\n",
      "Name: C_endDate, Length: 191, dtype: int64\n",
      "NaN    29372\n",
      "1.0    20789\n",
      "2.0     2639\n",
      "3.0      223\n",
      "4.0        7\n",
      "Name: G_numOrg, dtype: int64\n",
      "NaN     29372\n",
      "1.0     20239\n",
      "2.0      2628\n",
      "3.0       562\n",
      "4.0       144\n",
      "5.0        55\n",
      "6.0        18\n",
      "7.0         7\n",
      "14.0        3\n",
      "13.0        1\n",
      "8.0         1\n",
      "Name: G_numQuery, dtype: int64\n",
      "NaN     11708\n",
      "2.0      8979\n",
      "3.0      8403\n",
      "1.0      7902\n",
      "4.0      6336\n",
      "5.0      4101\n",
      "6.0      2661\n",
      "7.0      1436\n",
      "8.0       793\n",
      "9.0       417\n",
      "10.0      173\n",
      "11.0       74\n",
      "12.0       30\n",
      "13.0       14\n",
      "15.0        3\n",
      "Name: A_numOrg, dtype: int64\n",
      "NaN     11708\n",
      "2.0      7601\n",
      "3.0      7135\n",
      "1.0      7104\n",
      "4.0      5452\n",
      "5.0      4097\n",
      "6.0      2989\n",
      "7.0      2087\n",
      "8.0      1440\n",
      "9.0      1045\n",
      "10.0      715\n",
      "11.0      497\n",
      "12.0      329\n",
      "13.0      234\n",
      "14.0      169\n",
      "15.0      134\n",
      "16.0       85\n",
      "18.0       46\n",
      "17.0       44\n",
      "19.0       26\n",
      "20.0       18\n",
      "21.0       16\n",
      "23.0       11\n",
      "26.0        8\n",
      "25.0        7\n",
      "22.0        6\n",
      "24.0        6\n",
      "27.0        5\n",
      "33.0        4\n",
      "28.0        3\n",
      "34.0        2\n",
      "35.0        2\n",
      "63.0        1\n",
      "40.0        1\n",
      "42.0        1\n",
      "30.0        1\n",
      "38.0        1\n",
      "Name: A_numQuery, dtype: int64\n",
      "NaN      11174\n",
      "1.0       4279\n",
      "2.0       4081\n",
      "7.0       3348\n",
      "8.0       3127\n",
      "         ...  \n",
      "133.0        1\n",
      "107.0        1\n",
      "62.0         1\n",
      "298.0        1\n",
      "71.0         1\n",
      "Name: summary_6m, Length: 104, dtype: int64\n",
      "NaN      12556\n",
      "1.0       4762\n",
      "2.0       4127\n",
      "7.0       3403\n",
      "6.0       3339\n",
      "         ...  \n",
      "172.0        1\n",
      "60.0         1\n",
      "91.0         1\n",
      "320.0        1\n",
      "799.0        1\n",
      "Name: summary_3m, Length: 95, dtype: int64\n",
      "NaN      17509\n",
      "1.0       6382\n",
      "2.0       4652\n",
      "5.0       3884\n",
      "6.0       3509\n",
      "         ...  \n",
      "320.0        1\n",
      "66.0         1\n",
      "95.0         1\n",
      "109.0        1\n",
      "78.0         1\n",
      "Name: summary_1m, Length: 81, dtype: int64\n",
      "NaN      30255\n",
      "1.0       7521\n",
      "2.0       3716\n",
      "5.0       2833\n",
      "6.0       1860\n",
      "3.0       1809\n",
      "4.0       1592\n",
      "7.0       1190\n",
      "8.0        746\n",
      "9.0        475\n",
      "10.0       271\n",
      "11.0       196\n",
      "12.0       133\n",
      "13.0       112\n",
      "14.0        73\n",
      "15.0        51\n",
      "16.0        40\n",
      "17.0        22\n",
      "18.0        16\n",
      "20.0        16\n",
      "19.0        13\n",
      "21.0        12\n",
      "22.0         9\n",
      "24.0         6\n",
      "25.0         6\n",
      "23.0         6\n",
      "31.0         6\n",
      "28.0         5\n",
      "26.0         5\n",
      "30.0         5\n",
      "29.0         3\n",
      "35.0         3\n",
      "37.0         3\n",
      "33.0         2\n",
      "50.0         2\n",
      "53.0         1\n",
      "64.0         1\n",
      "95.0         1\n",
      "42.0         1\n",
      "40.0         1\n",
      "32.0         1\n",
      "96.0         1\n",
      "63.0         1\n",
      "39.0         1\n",
      "43.0         1\n",
      "27.0         1\n",
      "781.0        1\n",
      "47.0         1\n",
      "41.0         1\n",
      "48.0         1\n",
      "320.0        1\n",
      "46.0         1\n",
      "Name: summary_1w, dtype: int64\n",
      "0.0    25256\n",
      "1.0    23027\n",
      "NaN     4747\n",
      "Name: partner0_A, dtype: int64\n",
      "0.0    48283\n",
      "NaN     4747\n",
      "Name: partner0_B, dtype: int64\n",
      "0.0    26901\n",
      "1.0    21382\n",
      "NaN     4747\n",
      "Name: partner0_C, dtype: int64\n",
      "0.0    24727\n",
      "1.0    23556\n",
      "NaN     4747\n",
      "Name: partner0_D, dtype: int64\n",
      "0.0    24730\n",
      "1.0    23553\n",
      "NaN     4747\n",
      "Name: partner0_E, dtype: int64\n",
      "0.0    24726\n",
      "1.0    23557\n",
      "NaN     4747\n",
      "Name: partner0_F, dtype: int64\n",
      "0.0    26891\n",
      "1.0    21392\n",
      "NaN     4747\n",
      "Name: partner0_G, dtype: int64\n",
      "0.0    47759\n",
      "NaN     4747\n",
      "1.0      524\n",
      "Name: partner0_H, dtype: int64\n",
      "0.0    24310\n",
      "1.0    23973\n",
      "NaN     4747\n",
      "Name: partner1_A, dtype: int64\n",
      "0.0    48250\n",
      "NaN     4747\n",
      "1.0       33\n",
      "Name: partner1_C, dtype: int64\n",
      "0.0    46250\n",
      "NaN     4747\n",
      "1.0     2033\n",
      "Name: partner1_G, dtype: int64\n",
      "0.0    47677\n",
      "NaN     4747\n",
      "1.0      606\n",
      "Name: partner1_H, dtype: int64\n",
      "0.0    46784\n",
      "NaN     4747\n",
      "1.0     1499\n",
      "Name: partner2_A, dtype: int64\n",
      "0.0    46788\n",
      "NaN     4747\n",
      "1.0     1495\n",
      "Name: partner2_C, dtype: int64\n",
      "0.0    46806\n",
      "NaN     4747\n",
      "1.0     1477\n",
      "Name: partner2_D, dtype: int64\n",
      "0.0    46785\n",
      "NaN     4747\n",
      "1.0     1498\n",
      "Name: partner2_F, dtype: int64\n",
      "0.0    46799\n",
      "NaN     4747\n",
      "1.0     1484\n",
      "Name: partner2_H, dtype: int64\n",
      "0.0    31776\n",
      "1.0    16507\n",
      "NaN     4747\n",
      "Name: partner3_A, dtype: int64\n",
      "0.0    38106\n",
      "1.0    10177\n",
      "NaN     4747\n",
      "Name: partner3_D, dtype: int64\n",
      "0.0    48222\n",
      "NaN     4747\n",
      "1.0       61\n",
      "Name: partner3_E, dtype: int64\n",
      "0.0    33486\n",
      "1.0    14797\n",
      "NaN     4747\n",
      "Name: partner4_L, dtype: int64\n",
      "0.0    36003\n",
      "1.0    12280\n",
      "NaN     4747\n",
      "Name: partner5_A, dtype: int64\n",
      "0.0    48277\n",
      "NaN     4747\n",
      "1.0        6\n",
      "Name: partner5_D, dtype: int64\n",
      "0.0    48281\n",
      "NaN     4747\n",
      "1.0        2\n",
      "Name: partner5_G, dtype: int64\n",
      "0           13704\n",
      "1           11682\n",
      "2            8106\n",
      "notfound     5016\n",
      "3            4551\n",
      "2cy          2271\n",
      "4            1900\n",
      "1cy          1740\n",
      "3cy          1323\n",
      "cb1           838\n",
      "4cy           603\n",
      "5             553\n",
      "NaN           252\n",
      "5cy           188\n",
      "cb2           117\n",
      "6              90\n",
      "6cy            53\n",
      "7cy            19\n",
      "7              14\n",
      "cb3             5\n",
      "8               5\n",
      "Name: brief, dtype: int64\n",
      "1.0    46317\n",
      "2.0     4015\n",
      "NaN     2512\n",
      "3.0      169\n",
      "4.0       14\n",
      "5.0        3\n",
      "Name: num_of_phone, dtype: int64\n",
      " NaN      16633\n",
      " 0.0       3367\n",
      " 1.0       1431\n",
      " 2.0       1079\n",
      " 3.0       1024\n",
      "          ...  \n",
      " 220.0        1\n",
      "-205.0        1\n",
      "-214.0        1\n",
      "-249.0        1\n",
      "-215.0        1\n",
      "Name: Field_78, Length: 428, dtype: int64\n",
      "NaN          25248\n",
      "0.000000       981\n",
      "0.707107       485\n",
      "1.414214       358\n",
      "3.535534       264\n",
      "             ...  \n",
      "65.848311        1\n",
      "62.845048        1\n",
      "97.304933        1\n",
      "47.211404        1\n",
      "66.090847        1\n",
      "Name: Field_79, Length: 11037, dtype: int64\n",
      " NaN           16710\n",
      " 0.000000       2619\n",
      " 1.000000        925\n",
      " 2.000000        724\n",
      " 3.000000        637\n",
      "               ...  \n",
      "-13.187500         1\n",
      "-11.700000         1\n",
      " 12.222222         1\n",
      " 145.000000        1\n",
      " 148.000000        1\n",
      "Name: Field_80, Length: 2840, dtype: int64\n",
      " NaN      17049\n",
      " 0.0      13533\n",
      " 1.0       2191\n",
      " 2.0       1228\n",
      " 3.0        842\n",
      "          ...  \n",
      " 146.0        1\n",
      " 197.0        1\n",
      " 231.0        1\n",
      "-255.0        1\n",
      " 148.0        1\n",
      "Name: Field_81, Length: 422, dtype: int64\n",
      "1    36251\n",
      "4     7000\n",
      "2     5099\n",
      "3     4680\n",
      "Name: Field_82, dtype: int64\n",
      "0    36234\n",
      "1    16796\n",
      "Name: label, dtype: int64\n",
      "NaN      27320\n",
      "0.0      17706\n",
      "1.0        446\n",
      "2.0        255\n",
      "3.0        213\n",
      "         ...  \n",
      "187.0        1\n",
      "184.0        1\n",
      "158.0        1\n",
      "186.0        1\n",
      "199.0        1\n",
      "Name: E_diff_date, Length: 186, dtype: int64\n",
      "NaN      27914\n",
      "0.0      18199\n",
      "1.0        359\n",
      "2.0        210\n",
      "31.0       198\n",
      "         ...  \n",
      "176.0        1\n",
      "172.0        1\n",
      "170.0        1\n",
      "184.0        1\n",
      "182.0        1\n",
      "Name: F_diff_date, Length: 185, dtype: int64\n",
      "NaN      29372\n",
      "0.0      20640\n",
      "1.0        242\n",
      "2.0        168\n",
      "3.0        141\n",
      "         ...  \n",
      "131.0        1\n",
      "150.0        1\n",
      "130.0        1\n",
      "115.0        1\n",
      "129.0        1\n",
      "Name: G_diff_date, Length: 158, dtype: int64\n",
      "NaN      11708\n",
      "0.0       8617\n",
      "1.0       1298\n",
      "2.0        910\n",
      "3.0        703\n",
      "         ...  \n",
      "366.0        1\n",
      "386.0        1\n",
      "276.0        1\n",
      "372.0        1\n",
      "325.0        1\n",
      "Name: A_diff_date, Length: 355, dtype: int64\n"
     ]
    }
   ],
   "source": [
    "\n",
    "        \n",
    "for col in data_Duong.columns:\n",
    "    print (data_Duong[col].value_counts(dropna=False))"
   ]
  },
  {
   "cell_type": "code",
   "execution_count": 318,
   "metadata": {},
   "outputs": [
    {
     "name": "stdout",
     "output_type": "stream",
     "text": [
      "skewess = 57.69614927723232 . Fill NAs with median\n",
      "skewess = 1.8436283943993048 . Fill NAs with median\n",
      "skewess = -1.8324515728037627 . Fill NAs with mean\n"
     ]
    }
   ],
   "source": [
    "for col in data_Duong.columns:\n",
    "    #print (col, )\n",
    "    if is_cat(data_Duong, col):\n",
    "        fill_cat_var(data_Duong, [col])\n",
    "    else:\n",
    "        fill_numeric_var(data_Duong, col)\n",
    "        "
   ]
  },
  {
   "cell_type": "code",
   "execution_count": 319,
   "metadata": {},
   "outputs": [],
   "source": [
    "data_Duong.to_csv(\"/home/mangxu/MachineLearning/CreditScoreChallenge/Data/data_Duong_filled.csv\")"
   ]
  },
  {
   "cell_type": "code",
   "execution_count": null,
   "metadata": {},
   "outputs": [],
   "source": []
  },
  {
   "cell_type": "code",
   "execution_count": null,
   "metadata": {},
   "outputs": [],
   "source": []
  },
  {
   "cell_type": "code",
   "execution_count": 269,
   "metadata": {},
   "outputs": [
    {
     "data": {
      "text/html": [
       "<div>\n",
       "<style scoped>\n",
       "    .dataframe tbody tr th:only-of-type {\n",
       "        vertical-align: middle;\n",
       "    }\n",
       "\n",
       "    .dataframe tbody tr th {\n",
       "        vertical-align: top;\n",
       "    }\n",
       "\n",
       "    .dataframe thead th {\n",
       "        text-align: right;\n",
       "    }\n",
       "</style>\n",
       "<table border=\"1\" class=\"dataframe\">\n",
       "  <thead>\n",
       "    <tr style=\"text-align: right;\">\n",
       "      <th></th>\n",
       "      <th>info_social_sex</th>\n",
       "      <th>subscriberCount</th>\n",
       "      <th>currentLocationLocationId</th>\n",
       "      <th>currentLocationLatitude</th>\n",
       "      <th>currentLocationLongitude</th>\n",
       "      <th>homeTownLocationId</th>\n",
       "      <th>homeTownLatitude</th>\n",
       "      <th>homeTownLongitude</th>\n",
       "      <th>data.basic_info.locale</th>\n",
       "      <th>currentLocationCity</th>\n",
       "      <th>...</th>\n",
       "      <th>Field_78</th>\n",
       "      <th>Field_79</th>\n",
       "      <th>Field_80</th>\n",
       "      <th>Field_81</th>\n",
       "      <th>Field_82</th>\n",
       "      <th>label</th>\n",
       "      <th>E_diff_date</th>\n",
       "      <th>F_diff_date</th>\n",
       "      <th>G_diff_date</th>\n",
       "      <th>A_diff_date</th>\n",
       "    </tr>\n",
       "    <tr>\n",
       "      <th>id</th>\n",
       "      <th></th>\n",
       "      <th></th>\n",
       "      <th></th>\n",
       "      <th></th>\n",
       "      <th></th>\n",
       "      <th></th>\n",
       "      <th></th>\n",
       "      <th></th>\n",
       "      <th></th>\n",
       "      <th></th>\n",
       "      <th></th>\n",
       "      <th></th>\n",
       "      <th></th>\n",
       "      <th></th>\n",
       "      <th></th>\n",
       "      <th></th>\n",
       "      <th></th>\n",
       "      <th></th>\n",
       "      <th></th>\n",
       "      <th></th>\n",
       "      <th></th>\n",
       "    </tr>\n",
       "  </thead>\n",
       "  <tbody>\n",
       "    <tr>\n",
       "      <th>0</th>\n",
       "      <td>NaN</td>\n",
       "      <td>NaN</td>\n",
       "      <td>NaN</td>\n",
       "      <td>NaN</td>\n",
       "      <td>NaN</td>\n",
       "      <td>NaN</td>\n",
       "      <td>NaN</td>\n",
       "      <td>NaN</td>\n",
       "      <td>NaN</td>\n",
       "      <td>NaN</td>\n",
       "      <td>...</td>\n",
       "      <td>NaN</td>\n",
       "      <td>NaN</td>\n",
       "      <td>NaN</td>\n",
       "      <td>NaN</td>\n",
       "      <td>1</td>\n",
       "      <td>1</td>\n",
       "      <td>0 days</td>\n",
       "      <td>0 days</td>\n",
       "      <td>0 days</td>\n",
       "      <td>67 days</td>\n",
       "    </tr>\n",
       "    <tr>\n",
       "      <th>1</th>\n",
       "      <td>NaN</td>\n",
       "      <td>NaN</td>\n",
       "      <td>NaN</td>\n",
       "      <td>NaN</td>\n",
       "      <td>NaN</td>\n",
       "      <td>NaN</td>\n",
       "      <td>NaN</td>\n",
       "      <td>NaN</td>\n",
       "      <td>NaN</td>\n",
       "      <td>NaN</td>\n",
       "      <td>...</td>\n",
       "      <td>NaN</td>\n",
       "      <td>NaN</td>\n",
       "      <td>NaN</td>\n",
       "      <td>NaN</td>\n",
       "      <td>1</td>\n",
       "      <td>0</td>\n",
       "      <td>0 days</td>\n",
       "      <td>0 days</td>\n",
       "      <td>0 days</td>\n",
       "      <td>0 days</td>\n",
       "    </tr>\n",
       "    <tr>\n",
       "      <th>2</th>\n",
       "      <td>NaN</td>\n",
       "      <td>NaN</td>\n",
       "      <td>NaN</td>\n",
       "      <td>NaN</td>\n",
       "      <td>NaN</td>\n",
       "      <td>NaN</td>\n",
       "      <td>NaN</td>\n",
       "      <td>NaN</td>\n",
       "      <td>NaN</td>\n",
       "      <td>NaN</td>\n",
       "      <td>...</td>\n",
       "      <td>33.0</td>\n",
       "      <td>10.769445</td>\n",
       "      <td>6.466667</td>\n",
       "      <td>0.0</td>\n",
       "      <td>2</td>\n",
       "      <td>0</td>\n",
       "      <td>24 days</td>\n",
       "      <td>0 days</td>\n",
       "      <td>0 days</td>\n",
       "      <td>47 days</td>\n",
       "    </tr>\n",
       "    <tr>\n",
       "      <th>3</th>\n",
       "      <td>NaN</td>\n",
       "      <td>NaN</td>\n",
       "      <td>NaN</td>\n",
       "      <td>NaN</td>\n",
       "      <td>NaN</td>\n",
       "      <td>NaN</td>\n",
       "      <td>NaN</td>\n",
       "      <td>NaN</td>\n",
       "      <td>NaN</td>\n",
       "      <td>NaN</td>\n",
       "      <td>...</td>\n",
       "      <td>33.0</td>\n",
       "      <td>10.769445</td>\n",
       "      <td>6.466667</td>\n",
       "      <td>0.0</td>\n",
       "      <td>3</td>\n",
       "      <td>0</td>\n",
       "      <td>0 days</td>\n",
       "      <td>0 days</td>\n",
       "      <td>0 days</td>\n",
       "      <td>0 days</td>\n",
       "    </tr>\n",
       "    <tr>\n",
       "      <th>4</th>\n",
       "      <td>NaN</td>\n",
       "      <td>NaN</td>\n",
       "      <td>NaN</td>\n",
       "      <td>NaN</td>\n",
       "      <td>NaN</td>\n",
       "      <td>NaN</td>\n",
       "      <td>NaN</td>\n",
       "      <td>NaN</td>\n",
       "      <td>NaN</td>\n",
       "      <td>NaN</td>\n",
       "      <td>...</td>\n",
       "      <td>33.0</td>\n",
       "      <td>10.769445</td>\n",
       "      <td>6.466667</td>\n",
       "      <td>0.0</td>\n",
       "      <td>3</td>\n",
       "      <td>1</td>\n",
       "      <td>0 days</td>\n",
       "      <td>0 days</td>\n",
       "      <td>0 days</td>\n",
       "      <td>0 days</td>\n",
       "    </tr>\n",
       "  </tbody>\n",
       "</table>\n",
       "<p>5 rows × 71 columns</p>\n",
       "</div>"
      ],
      "text/plain": [
       "   info_social_sex  subscriberCount  currentLocationLocationId  \\\n",
       "id                                                               \n",
       "0              NaN              NaN                        NaN   \n",
       "1              NaN              NaN                        NaN   \n",
       "2              NaN              NaN                        NaN   \n",
       "3              NaN              NaN                        NaN   \n",
       "4              NaN              NaN                        NaN   \n",
       "\n",
       "    currentLocationLatitude  currentLocationLongitude  homeTownLocationId  \\\n",
       "id                                                                          \n",
       "0                       NaN                       NaN                 NaN   \n",
       "1                       NaN                       NaN                 NaN   \n",
       "2                       NaN                       NaN                 NaN   \n",
       "3                       NaN                       NaN                 NaN   \n",
       "4                       NaN                       NaN                 NaN   \n",
       "\n",
       "    homeTownLatitude  homeTownLongitude data.basic_info.locale  \\\n",
       "id                                                               \n",
       "0                NaN                NaN                    NaN   \n",
       "1                NaN                NaN                    NaN   \n",
       "2                NaN                NaN                    NaN   \n",
       "3                NaN                NaN                    NaN   \n",
       "4                NaN                NaN                    NaN   \n",
       "\n",
       "   currentLocationCity  ... Field_78   Field_79  Field_80 Field_81 Field_82  \\\n",
       "id                      ...                                                   \n",
       "0                  NaN  ...      NaN        NaN       NaN      NaN        1   \n",
       "1                  NaN  ...      NaN        NaN       NaN      NaN        1   \n",
       "2                  NaN  ...     33.0  10.769445  6.466667      0.0        2   \n",
       "3                  NaN  ...     33.0  10.769445  6.466667      0.0        3   \n",
       "4                  NaN  ...     33.0  10.769445  6.466667      0.0        3   \n",
       "\n",
       "   label E_diff_date  F_diff_date  G_diff_date  A_diff_date  \n",
       "id                                                           \n",
       "0      1      0 days       0 days       0 days      67 days  \n",
       "1      0      0 days       0 days       0 days       0 days  \n",
       "2      0     24 days       0 days       0 days      47 days  \n",
       "3      0      0 days       0 days       0 days       0 days  \n",
       "4      1      0 days       0 days       0 days       0 days  \n",
       "\n",
       "[5 rows x 71 columns]"
      ]
     },
     "execution_count": 269,
     "metadata": {},
     "output_type": "execute_result"
    }
   ],
   "source": [
    "data_Duong.head()"
   ]
  },
  {
   "cell_type": "code",
   "execution_count": 270,
   "metadata": {},
   "outputs": [
    {
     "data": {
      "text/plain": [
       "Text(0.5, 1.0, 'Percentages of missing values in each column')"
      ]
     },
     "execution_count": 270,
     "metadata": {},
     "output_type": "execute_result"
    },
    {
     "data": {
      "image/png": "[encoded data removed]",
      "text/plain": [
       "<Figure size 1440x1080 with 1 Axes>"
      ]
     },
     "metadata": {},
     "output_type": "display_data"
    }
   ],
   "source": [
    "na_counts= data_Duong.isna().sum().sort_values()\n",
    "fig, ax = plt.subplots(figsize= (20,15))\n",
    "total_samples= len(data_Duong)\n",
    "\n",
    "ax.bar(na_counts.index,na_counts.values/total_samples)\n",
    "ax.set_xlabel(\"column \", fontsize= 30)\n",
    "ax.set_ylabel(\"counts\", fontsize= 30)\n",
    "ax.set_xticklabels([])\n",
    "ax.set_title(\"Percentages of missing values in each column\", fontsize= 35)"
   ]
  },
  {
   "cell_type": "code",
   "execution_count": 271,
   "metadata": {},
   "outputs": [
    {
     "data": {
      "text/plain": [
       "Text(0.5, 1.0, 'Correlation with labels')"
      ]
     },
     "execution_count": 271,
     "metadata": {},
     "output_type": "execute_result"
    },
    {
     "data": {
      "image/png": "[encoded data removed]",
      "text/plain": [
       "<Figure size 1440x1080 with 1 Axes>"
      ]
     },
     "metadata": {},
     "output_type": "display_data"
    }
   ],
   "source": [
    "corrs = data_Duong.corr()['label'].sort_values()\n",
    "# exclude nan corrs\n",
    "corrs = corrs[corrs.values < 1]\n",
    "\n",
    "fig, ax = plt.subplots(figsize= (20,15))\n",
    "total_samples= len(data_Duong)\n",
    "\n",
    "ax.bar(corrs.index, corrs.values)\n",
    "ax.set_xlabel(\"column \", fontsize= 30)\n",
    "ax.set_ylabel(\"correlation\", fontsize= 30)\n",
    "ax.set_xticklabels([])\n",
    "ax.set_title(\"Correlation with labels\", fontsize= 35)"
   ]
  },
  {
   "cell_type": "markdown",
   "metadata": {},
   "source": [
    "### Drop columns about geological info"
   ]
  },
  {
   "cell_type": "code",
   "execution_count": 272,
   "metadata": {},
   "outputs": [],
   "source": [
    "useless_cols = ['currentLocationLocationId', 'currentLocationLatitude', \n",
    "                'currentLocationLongitude', 'homeTownLocationId', \n",
    "                'homeTownLatitude', 'homeTownLongitude',\n",
    "                'data.basic_info.locale', 'currentLocationCity',\n",
    "                'currentLocationCountry', 'currentLocationName', \n",
    "                'currentLocationState', 'homeTownCity', \n",
    "                'homeTownCountry', 'homeTownName', 'homeTownState']\n",
    "\n",
    "data_Duong.drop(useless_cols, axis= 1, inplace= True)"
   ]
  },
  {
   "cell_type": "markdown",
   "metadata": {},
   "source": [
    "### For info_social_sex column:"
   ]
  },
  {
   "cell_type": "code",
   "execution_count": 221,
   "metadata": {},
   "outputs": [],
   "source": [
    "label_by_info_social_sex = data_Duong.groupby(['label'])\\\n",
    "                ['info_social_sex'].value_counts()\n",
    "df = pd.DataFrame(label_by_info_social_sex).\\\n",
    "    rename({'info_social_sex':'counts'}, axis=1).reset_index()"
   ]
  },
  {
   "cell_type": "markdown",
   "metadata": {},
   "source": [
    "### Female has a slightly higher chance of having label 0.\n",
    "### For the existing values, there are more male than female customers."
   ]
  },
  {
   "cell_type": "code",
   "execution_count": 222,
   "metadata": {},
   "outputs": [
    {
     "data": {
      "text/plain": [
       "Text(0.5, 1.0, 'pct of Info social sex by label')"
      ]
     },
     "execution_count": 222,
     "metadata": {},
     "output_type": "execute_result"
    },
    {
     "data": {
      "image/png": "[encoded data removed]",
      "text/plain": [
       "<Figure size 1080x576 with 1 Axes>"
      ]
     },
     "metadata": {},
     "output_type": "display_data"
    }
   ],
   "source": [
    "df['pct2'] = df['counts']/df['counts'].sum()\n",
    "\n",
    "import seaborn as sns\n",
    "\n",
    "fig, ax = plt.subplots(figsize= (15,8))\n",
    "sns.barplot(x= 'info_social_sex', y = 'pct2', \\\n",
    "            hue= 'label', data= df, ax=ax)\n",
    "\n",
    "ax.set_title(\"pct of Info social sex by label\")"
   ]
  },
  {
   "cell_type": "code",
   "execution_count": 223,
   "metadata": {},
   "outputs": [
    {
     "name": "stdout",
     "output_type": "stream",
     "text": [
      "percentages of male and female in column info_social_sex:\n"
     ]
    },
    {
     "data": {
      "text/plain": [
       "male      0.592448\n",
       "female    0.407552\n",
       "Name: info_social_sex, dtype: float64"
      ]
     },
     "execution_count": 223,
     "metadata": {},
     "output_type": "execute_result"
    }
   ],
   "source": [
    "print (\"percentages of male and female in column info_social_sex:\")\n",
    "info_social_sex_pct_original = data_Duong.info_social_sex.value_counts()/data_Duong.info_social_sex.value_counts().sum()\n",
    "info_social_sex_pct_original"
   ]
  },
  {
   "cell_type": "code",
   "execution_count": 224,
   "metadata": {},
   "outputs": [
    {
     "data": {
      "text/plain": [
       "male      0.592448\n",
       "female    0.407552\n",
       "Name: info_social_sex, dtype: float64"
      ]
     },
     "execution_count": 224,
     "metadata": {},
     "output_type": "execute_result"
    }
   ],
   "source": [
    "info_social_sex_pct_original"
   ]
  },
  {
   "cell_type": "markdown",
   "metadata": {},
   "source": [
    "### We'll fill in missing values with 60% male and 40% female"
   ]
  },
  {
   "cell_type": "code",
   "execution_count": 225,
   "metadata": {},
   "outputs": [],
   "source": [
    "fill_cat_var(data_Duong, ['info_social_sex'])"
   ]
  },
  {
   "cell_type": "code",
   "execution_count": 226,
   "metadata": {},
   "outputs": [
    {
     "name": "stdout",
     "output_type": "stream",
     "text": [
      "After filling all NAs...\n"
     ]
    },
    {
     "data": {
      "text/plain": [
       "male      0.592118\n",
       "female    0.407882\n",
       "Name: info_social_sex, dtype: float64"
      ]
     },
     "execution_count": 226,
     "metadata": {},
     "output_type": "execute_result"
    }
   ],
   "source": [
    "print (\"After filling all NAs...\")\n",
    "data_Duong['info_social_sex'].value_counts()/data_Duong['info_social_sex'].value_counts().sum()"
   ]
  },
  {
   "cell_type": "markdown",
   "metadata": {},
   "source": [
    "## subscriberCount column\n",
    "### Plot its distributions"
   ]
  },
  {
   "cell_type": "markdown",
   "metadata": {},
   "source": [
    "### A lot of missing values"
   ]
  },
  {
   "cell_type": "code",
   "execution_count": 227,
   "metadata": {},
   "outputs": [
    {
     "data": {
      "text/plain": [
       "NaN       29130\n",
       "0.0       18335\n",
       "13.0         35\n",
       "47.0         30\n",
       "30.0         29\n",
       "          ...  \n",
       "1817.0        1\n",
       "1056.0        1\n",
       "620.0         1\n",
       "1220.0        1\n",
       "796.0         1\n",
       "Name: subscriberCount, Length: 1526, dtype: int64"
      ]
     },
     "execution_count": 227,
     "metadata": {},
     "output_type": "execute_result"
    }
   ],
   "source": [
    "data_Duong.subscriberCount.value_counts(dropna= False)"
   ]
  },
  {
   "cell_type": "markdown",
   "metadata": {},
   "source": [
    "## If subscriberCount > 60,000 then label = 0\n",
    "## We can use it as a factor to automatically fill in label later\n"
   ]
  },
  {
   "cell_type": "code",
   "execution_count": 228,
   "metadata": {},
   "outputs": [
    {
     "data": {
      "text/plain": [
       "<matplotlib.axes._subplots.AxesSubplot at 0x7f71c5d04190>"
      ]
     },
     "execution_count": 228,
     "metadata": {},
     "output_type": "execute_result"
    },
    {
     "data": {
      "image/png": "[encoded data removed]",
      "text/plain": [
       "<Figure size 1080x576 with 1 Axes>"
      ]
     },
     "metadata": {},
     "output_type": "display_data"
    }
   ],
   "source": [
    "sns.scatterplot(data_Duong.label, data_Duong.subscriberCount)"
   ]
  },
  {
   "cell_type": "markdown",
   "metadata": {},
   "source": [
    "### it seems like the more subsciber counts, the more likely its label will be 0"
   ]
  },
  {
   "cell_type": "code",
   "execution_count": 229,
   "metadata": {},
   "outputs": [
    {
     "data": {
      "text/plain": [
       "Text(0.5, 0.98, 'box plots of labels based on subscriberCount')"
      ]
     },
     "execution_count": 229,
     "metadata": {},
     "output_type": "execute_result"
    },
    {
     "data": {
      "image/png": "[encoded data removed]",
      "text/plain": [
       "<Figure size 1080x576 with 1 Axes>"
      ]
     },
     "metadata": {},
     "output_type": "display_data"
    }
   ],
   "source": [
    "sns.set(style=\"whitegrid\")\n",
    "plt.rcParams[\"figure.figsize\"] = (15,8)\n",
    "\n",
    "sns.boxplot(x= 'label', y= 'subscriberCount', data= data_Duong[data_Duong.subscriberCount <100000])\n",
    "plt.suptitle(\"box plots of labels based on subscriberCount\")"
   ]
  },
  {
   "cell_type": "code",
   "execution_count": 230,
   "metadata": {},
   "outputs": [
    {
     "data": {
      "text/plain": [
       "<matplotlib.axes._subplots.AxesSubplot at 0x7f71c5d91b10>"
      ]
     },
     "execution_count": 230,
     "metadata": {},
     "output_type": "execute_result"
    },
    {
     "data": {
      "image/png": "[encoded data removed]",
      "text/plain": [
       "<Figure size 1080x576 with 1 Axes>"
      ]
     },
     "metadata": {},
     "output_type": "display_data"
    }
   ],
   "source": [
    "sns.distplot(data_Duong[data_Duong.subscriberCount < 60000].subscriberCount)"
   ]
  },
  {
   "cell_type": "markdown",
   "metadata": {},
   "source": [
    "## Fill in NAs of subscriberCount with median and std\n"
   ]
  },
  {
   "cell_type": "code",
   "execution_count": 231,
   "metadata": {},
   "outputs": [],
   "source": [
    "fill_null_with_median(data_Duong, 'subscriberCount')"
   ]
  },
  {
   "cell_type": "code",
   "execution_count": 232,
   "metadata": {},
   "outputs": [
    {
     "data": {
      "text/plain": [
       "<matplotlib.axes._subplots.AxesSubplot at 0x7f71c5b79390>"
      ]
     },
     "execution_count": 232,
     "metadata": {},
     "output_type": "execute_result"
    },
    {
     "data": {
      "image/png": "[encoded data removed]",
      "text/plain": [
       "<Figure size 1080x576 with 1 Axes>"
      ]
     },
     "metadata": {},
     "output_type": "display_data"
    }
   ],
   "source": [
    "sns.distplot(data_Duong[data_Duong.subscriberCount < 60000].subscriberCount)"
   ]
  },
  {
   "cell_type": "markdown",
   "metadata": {},
   "source": [
    "# COLUMN TOPFRIENDS"
   ]
  },
  {
   "cell_type": "code",
   "execution_count": 233,
   "metadata": {},
   "outputs": [],
   "source": [
    "label_by_topFriends = data_Duong.groupby('label')['topFriends'].\\\n",
    "        value_counts().sort_index()\n",
    "df_label_by_topFriends= pd.DataFrame(label_by_topFriends).\\\n",
    "        rename({'topFriends':'counts'}, axis=1).reset_index()"
   ]
  },
  {
   "cell_type": "markdown",
   "metadata": {},
   "source": [
    "## most samples has topFriends= 5"
   ]
  },
  {
   "cell_type": "code",
   "execution_count": 234,
   "metadata": {},
   "outputs": [
    {
     "data": {
      "text/plain": [
       "Text(0.5, 1.0, 'Counts topFriends by label')"
      ]
     },
     "execution_count": 234,
     "metadata": {},
     "output_type": "execute_result"
    },
    {
     "data": {
      "image/png": "[encoded data removed]",
      "text/plain": [
       "<Figure size 1080x576 with 1 Axes>"
      ]
     },
     "metadata": {},
     "output_type": "display_data"
    }
   ],
   "source": [
    "fig, ax = plt.subplots(figsize= (15,8))\n",
    "sns.barplot(x= 'topFriends', y = 'counts', \\\n",
    "            hue= 'label', data= df_label_by_topFriends, ax=ax)\n",
    "\n",
    "\n",
    "ax.set_title(\"Counts topFriends by label\")"
   ]
  },
  {
   "cell_type": "code",
   "execution_count": 235,
   "metadata": {},
   "outputs": [
    {
     "data": {
      "text/plain": [
       "Text(0.5, 1.0, 'percentage of labels by group of topFriends by label')"
      ]
     },
     "execution_count": 235,
     "metadata": {},
     "output_type": "execute_result"
    },
    {
     "data": {
      "image/png": "[encoded data removed]",
      "text/plain": [
       "<Figure size 1080x576 with 1 Axes>"
      ]
     },
     "metadata": {},
     "output_type": "display_data"
    }
   ],
   "source": [
    "df_label_by_topFriends['pct_by_group'] = df_label_by_topFriends.counts/\\\n",
    "        np.array(list(df_label_by_topFriends.groupby('topFriends').sum()['counts'].values)*2)\n",
    "\n",
    "fig, ax = plt.subplots(figsize= (15,8))\n",
    "sns.barplot(x= 'topFriends', y = 'pct_by_group', \\\n",
    "            hue= 'label', data= df_label_by_topFriends, ax=ax)\n",
    "\n",
    "ax.set_title(\"percentage of labels by group of topFriends by label\")"
   ]
  },
  {
   "cell_type": "markdown",
   "metadata": {},
   "source": [
    "## Looks like most group will have the same proportions of label 0 and 1.\n",
    "\n",
    "## fill in missing data randomly based on proportions of topFriends \"categories\" (0-5)"
   ]
  },
  {
   "cell_type": "code",
   "execution_count": 236,
   "metadata": {},
   "outputs": [],
   "source": [
    "fill_cat_var(data_Duong, ['topFriends'])"
   ]
  },
  {
   "cell_type": "markdown",
   "metadata": {},
   "source": [
    "# COLUMN numOrg"
   ]
  },
  {
   "cell_type": "code",
   "execution_count": 237,
   "metadata": {},
   "outputs": [
    {
     "data": {
      "text/plain": [
       "(array([5.613e+03, 6.524e+03, 7.800e+03, 7.693e+03, 6.565e+03, 4.967e+03,\n",
       "        3.499e+03, 2.333e+03, 1.365e+03, 8.640e+02, 5.230e+02, 2.790e+02,\n",
       "        1.420e+02, 6.000e+01, 2.700e+01, 1.400e+01, 6.000e+00, 2.000e+00]),\n",
       " array([ 0,  1,  2,  3,  4,  5,  6,  7,  8,  9, 10, 11, 12, 13, 14, 15, 16,\n",
       "        17, 18]),\n",
       " <a list of 18 Patch objects>)"
      ]
     },
     "execution_count": 237,
     "metadata": {},
     "output_type": "execute_result"
    },
    {
     "data": {
      "image/png": "[encoded data removed]",
      "text/plain": [
       "<Figure size 1080x576 with 1 Axes>"
      ]
     },
     "metadata": {},
     "output_type": "display_data"
    }
   ],
   "source": [
    "plt.hist(data_Duong.numOrg, bins= range(0, int(data_Duong.numOrg.max()), 1))"
   ]
  },
  {
   "cell_type": "markdown",
   "metadata": {},
   "source": [
    "## Looks skewed. Fill with median"
   ]
  },
  {
   "cell_type": "code",
   "execution_count": 245,
   "metadata": {},
   "outputs": [
    {
     "name": "stdout",
     "output_type": "stream",
     "text": [
      "skewess = 1.0146120605510798 . Fill NAs with median\n"
     ]
    }
   ],
   "source": [
    "fill_numeric_var(data_Duong, 'numOrg')"
   ]
  },
  {
   "cell_type": "code",
   "execution_count": 248,
   "metadata": {},
   "outputs": [
    {
     "data": {
      "text/plain": [
       "1.0    39287\n",
       "2.0     8538\n",
       "0.0     4383\n",
       "3.0      714\n",
       "4.0      101\n",
       "5.0        6\n",
       "6.0        1\n",
       "Name: F_numOrg, dtype: int64"
      ]
     },
     "execution_count": 248,
     "metadata": {},
     "output_type": "execute_result"
    }
   ],
   "source": [
    "data_Duong.F_numOrg.value_counts()"
   ]
  },
  {
   "cell_type": "code",
   "execution_count": 246,
   "metadata": {},
   "outputs": [
    {
     "data": {
      "text/plain": [
       "Index(['info_social_sex', 'subscriberCount', 'topFriends', 'numOrg',\n",
       "       'F_numOrg', 'F_numQuery', 'E_numOrg', 'E_numQuery', 'C_numOrg',\n",
       "       'C_numQuery', 'C_startDate', 'C_endDate', 'G_numOrg', 'G_numQuery',\n",
       "       'A_numOrg', 'A_numQuery', 'summary_6m', 'summary_3m', 'summary_1m',\n",
       "       'summary_1w', 'partner0_A', 'partner0_B', 'partner0_C', 'partner0_D',\n",
       "       'partner0_E', 'partner0_F', 'partner0_G', 'partner0_H', 'partner1_A',\n",
       "       'partner1_C', 'partner1_G', 'partner1_H', 'partner2_A', 'partner2_C',\n",
       "       'partner2_D', 'partner2_F', 'partner2_H', 'partner3_A', 'partner3_D',\n",
       "       'partner3_E', 'partner4_L', 'partner5_A', 'partner5_D', 'partner5_G',\n",
       "       'brief', 'num_of_phone', 'Field_78', 'Field_79', 'Field_80', 'Field_81',\n",
       "       'Field_82', 'label', 'E_diff_date', 'F_diff_date', 'G_diff_date',\n",
       "       'A_diff_date'],\n",
       "      dtype='object')"
      ]
     },
     "execution_count": 246,
     "metadata": {},
     "output_type": "execute_result"
    }
   ],
   "source": [
    "data_Duong.columns"
   ]
  },
  {
   "cell_type": "code",
   "execution_count": 247,
   "metadata": {},
   "outputs": [
    {
     "name": "stdout",
     "output_type": "stream",
     "text": [
      "skewess = 1.0146120605510798 . Fill NAs with median\n"
     ]
    }
   ],
   "source": [
    "fill_numeric_var(data_Duong, 'F_numOrg')"
   ]
  },
  {
   "cell_type": "code",
   "execution_count": 259,
   "metadata": {},
   "outputs": [
    {
     "data": {
      "text/plain": [
       "False"
      ]
     },
     "execution_count": 259,
     "metadata": {},
     "output_type": "execute_result"
    }
   ],
   "source": [
    "len(data_Duong.F_numOrg.value_counts().index) > 500"
   ]
  },
  {
   "cell_type": "code",
   "execution_count": null,
   "metadata": {},
   "outputs": [],
   "source": []
  },
  {
   "cell_type": "markdown",
   "metadata": {},
   "source": [
    "### After filling nulls"
   ]
  },
  {
   "cell_type": "code",
   "execution_count": 118,
   "metadata": {},
   "outputs": [
    {
     "data": {
      "text/plain": [
       "(array([1.2750e+03, 9.2930e+03, 1.1014e+04, 1.0724e+04, 8.4200e+03,\n",
       "        5.5440e+03, 3.4140e+03, 1.7290e+03, 8.7600e+02, 4.3700e+02,\n",
       "        1.8100e+02, 7.6000e+01, 3.0000e+01, 1.4000e+01, 3.0000e+00]),\n",
       " array([ 0,  1,  2,  3,  4,  5,  6,  7,  8,  9, 10, 11, 12, 13, 14, 15]),\n",
       " <a list of 15 Patch objects>)"
      ]
     },
     "execution_count": 118,
     "metadata": {},
     "output_type": "execute_result"
    },
    {
     "data": {
      "image/png": "[encoded data removed]",
      "text/plain": [
       "<Figure size 1080x576 with 1 Axes>"
      ]
     },
     "metadata": {},
     "output_type": "display_data"
    }
   ],
   "source": [
    "plt.hist(data_Duong.A_numOrg, bins= range(0, 16, 1))"
   ]
  },
  {
   "cell_type": "code",
   "execution_count": null,
   "metadata": {},
   "outputs": [],
   "source": [
    "plt.hist(data_Duong.F_numQuery)"
   ]
  },
  {
   "cell_type": "code",
   "execution_count": null,
   "metadata": {},
   "outputs": [],
   "source": [
    "data_Duong.columns"
   ]
  },
  {
   "cell_type": "code",
   "execution_count": null,
   "metadata": {},
   "outputs": [],
   "source": []
  },
  {
   "cell_type": "code",
   "execution_count": null,
   "metadata": {},
   "outputs": [],
   "source": []
  },
  {
   "cell_type": "code",
   "execution_count": null,
   "metadata": {},
   "outputs": [],
   "source": []
  },
  {
   "cell_type": "markdown",
   "metadata": {},
   "source": [
    "# create custom columns"
   ]
  },
  {
   "cell_type": "markdown",
   "metadata": {},
   "source": [
    "### column diff_start_end_date = diff between E_startDate and E_endDate"
   ]
  },
  {
   "cell_type": "code",
   "execution_count": null,
   "metadata": {},
   "outputs": [],
   "source": [
    "from datetime import datetime\n",
    "\n",
    "data_Duong['E_endDate'] = data_Duong['E_endDate'].apply(lambda row: \\\n",
    "              datetime.strptime('1900-01-01', '%Y-%m-%d') \\\n",
    "                    if row is np.nan \\\n",
    "                else datetime.strptime(row, '%Y-%m-%d'))\n",
    "\n",
    "data_Duong['E_startDate'] = data_Duong['E_startDate'].apply(lambda row: \\\n",
    "              datetime.strptime('1900-01-01', '%Y-%m-%d') \\\n",
    "                    if row is np.nan \\\n",
    "                else datetime.strptime(row, '%Y-%m-%d'))\n",
    "\n",
    "\n",
    "data_Duong['F_endDate'] = data_Duong['F_endDate'].apply(lambda row: \\\n",
    "              datetime.strptime('1900-01-01', '%Y-%m-%d') \\\n",
    "                    if row is np.nan \\\n",
    "                else datetime.strptime(row, '%Y-%m-%d'))\n",
    "\n",
    "data_Duong['F_startDate'] = data_Duong['F_startDate'].apply(lambda row: \\\n",
    "              datetime.strptime('1900-01-01', '%Y-%m-%d') \\\n",
    "                    if row is np.nan \\\n",
    "                else datetime.strptime(row, '%Y-%m-%d'))\n",
    "\n",
    "data_Duong['G_startDate'] = data_Duong['G_startDate'].apply(lambda row: \\\n",
    "              datetime.strptime('1900-01-01', '%Y-%m-%d') \\\n",
    "                    if row is np.nan \\\n",
    "                else datetime.strptime(row, '%Y-%m-%d'))\n",
    "\n",
    "data_Duong['G_endDate'] = data_Duong['G_endDate'].apply(lambda row: \\\n",
    "              datetime.strptime('1900-01-01', '%Y-%m-%d') \\\n",
    "                    if row is np.nan \\\n",
    "                else datetime.strptime(row, '%Y-%m-%d'))               \n",
    "\n",
    "\n",
    "data_Duong['A_endDate'] = data_Duong['A_endDate'].apply(lambda row: \\\n",
    "              datetime.strptime('1900-01-01', '%Y-%m-%d') \\\n",
    "                    if row is np.nan \\\n",
    "                else datetime.strptime(row, '%Y-%m-%d'))\n",
    "\n",
    "data_Duong['A_startDate'] = data_Duong['A_startDate'].apply(lambda row: \\\n",
    "              datetime.strptime('1900-01-01', '%Y-%m-%d') \\\n",
    "                    if row is np.nan \\\n",
    "                else datetime.strptime(row, '%Y-%m-%d'))  \n",
    "\n",
    "data_Duong['E_diff_date']= data_Duong['E_endDate'] - data_Duong['E_startDate']\n",
    "\n",
    "data_Duong['F_diff_date']= data_Duong['F_endDate'] - data_Duong['F_startDate']\n",
    "\n",
    "data_Duong['G_diff_date']= data_Duong['G_endDate'] - data_Duong['G_startDate']\n",
    "\n",
    "data_Duong['A_diff_date']= data_Duong['A_endDate'] - data_Duong['A_startDate']"
   ]
  },
  {
   "cell_type": "markdown",
   "metadata": {},
   "source": [
    "## *letter*_diff_date = diff between *letter*_startDate and *letter*_endDate"
   ]
  },
  {
   "cell_type": "code",
   "execution_count": null,
   "metadata": {},
   "outputs": [],
   "source": [
    "data_Duong[['E_endDate', 'F_endDate']]"
   ]
  },
  {
   "cell_type": "code",
   "execution_count": null,
   "metadata": {},
   "outputs": [],
   "source": [
    "train_set.Field_1"
   ]
  },
  {
   "cell_type": "code",
   "execution_count": null,
   "metadata": {},
   "outputs": [],
   "source": [
    "data_Duong['E_diff_date']= data_Duong['E_endDate'] - data_Duong['E_startDate']\n",
    "\n",
    "data_Duong['F_diff_date']= data_Duong['F_endDate'] - data_Duong['F_startDate']\n",
    "\n",
    "data_Duong['G_diff_date']= data_Duong['G_endDate'] - data_Duong['G_startDate']\n",
    "\n",
    "data_Duong['A_diff_date']= data_Duong['A_endDate'] - data_Duong['A_startDate']"
   ]
  },
  {
   "cell_type": "code",
   "execution_count": null,
   "metadata": {},
   "outputs": [],
   "source": [
    "E_diff_date_counts = data_Duong['E_diff_date'].value_counts()"
   ]
  },
  {
   "cell_type": "code",
   "execution_count": null,
   "metadata": {},
   "outputs": [],
   "source": [
    "E_diff_date_counts"
   ]
  },
  {
   "cell_type": "code",
   "execution_count": null,
   "metadata": {},
   "outputs": [],
   "source": [
    "plt.bar(E_diff_date_counts.index, E_diff_date_counts.values)"
   ]
  },
  {
   "cell_type": "code",
   "execution_count": null,
   "metadata": {},
   "outputs": [],
   "source": []
  },
  {
   "cell_type": "code",
   "execution_count": null,
   "metadata": {},
   "outputs": [],
   "source": []
  },
  {
   "cell_type": "code",
   "execution_count": null,
   "metadata": {},
   "outputs": [],
   "source": []
  },
  {
   "cell_type": "code",
   "execution_count": null,
   "metadata": {},
   "outputs": [],
   "source": [
    "for i, col in enumerate(data_Duong.columns):\n",
    "    print (i+1, \"/ Column name:\", col)\n",
    "    print(data_Duong[col].value_counts(dropna=False))"
   ]
  },
  {
   "cell_type": "markdown",
   "metadata": {},
   "source": [
    "## Explore topfriends"
   ]
  },
  {
   "cell_type": "code",
   "execution_count": null,
   "metadata": {},
   "outputs": [],
   "source": [
    "topFriends_counts"
   ]
  },
  {
   "cell_type": "code",
   "execution_count": null,
   "metadata": {},
   "outputs": [],
   "source": [
    "train_set['E_endDate'].equals(train_set['G_endDate'])"
   ]
  },
  {
   "cell_type": "code",
   "execution_count": null,
   "metadata": {},
   "outputs": [],
   "source": [
    "train_set[['Field_14','Field_16']].drop_duplicates()"
   ]
  },
  {
   "cell_type": "code",
   "execution_count": null,
   "metadata": {},
   "outputs": [],
   "source": [
    "for i in range(10):\n",
    "    if (i%3 == 0):\n",
    "        continue\n",
    "    print (i)"
   ]
  },
  {
   "cell_type": "code",
   "execution_count": null,
   "metadata": {},
   "outputs": [],
   "source": []
  },
  {
   "cell_type": "code",
   "execution_count": null,
   "metadata": {},
   "outputs": [],
   "source": []
  },
  {
   "cell_type": "code",
   "execution_count": null,
   "metadata": {},
   "outputs": [],
   "source": []
  },
  {
   "cell_type": "code",
   "execution_count": null,
   "metadata": {},
   "outputs": [],
   "source": []
  },
  {
   "cell_type": "code",
   "execution_count": null,
   "metadata": {},
   "outputs": [],
   "source": []
  },
  {
   "cell_type": "code",
   "execution_count": null,
   "metadata": {},
   "outputs": [],
   "source": []
  },
  {
   "cell_type": "code",
   "execution_count": null,
   "metadata": {},
   "outputs": [],
   "source": []
  },
  {
   "cell_type": "code",
   "execution_count": null,
   "metadata": {},
   "outputs": [],
   "source": []
  },
  {
   "cell_type": "code",
   "execution_count": null,
   "metadata": {},
   "outputs": [],
   "source": []
  },
  {
   "cell_type": "code",
   "execution_count": null,
   "metadata": {},
   "outputs": [],
   "source": []
  },
  {
   "cell_type": "code",
   "execution_count": null,
   "metadata": {},
   "outputs": [],
   "source": []
  },
  {
   "cell_type": "code",
   "execution_count": null,
   "metadata": {},
   "outputs": [],
   "source": []
  },
  {
   "cell_type": "code",
   "execution_count": null,
   "metadata": {},
   "outputs": [],
   "source": []
  }
 ],
 "metadata": {
  "kernelspec": {
   "display_name": "Python 3",
   "language": "python",
   "name": "python3"
  },
  "language_info": {
   "codemirror_mode": {
    "name": "ipython",
    "version": 3
   },
   "file_extension": ".py",
   "mimetype": "text/x-python",
   "name": "python",
   "nbconvert_exporter": "python",
   "pygments_lexer": "ipython3",
   "version": "3.7.8"
  }
 },
 "nbformat": 4,
 "nbformat_minor": 4
}
