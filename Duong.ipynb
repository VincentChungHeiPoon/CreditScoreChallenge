{
 "cells": [
  {
   "cell_type": "code",
   "execution_count": 1,
   "metadata": {},
   "outputs": [],
   "source": [
    "import numpy as np\n",
    "import pandas as pd\n",
    "import matplotlib.pyplot as plt\n",
    "\n",
    "# ignore all warnings\n",
    "import warnings\n",
    "warnings.filterwarnings(\"ignore\")\n",
    "\n",
    "\n",
    "# import data\n",
    "train_set= pd.read_csv('./Data/train.csv', index_col= 'id')\n",
    "test_set= pd.read_csv('./Data/test.csv', index_col= 'id')\n"
   ]
  },
  {
   "cell_type": "code",
   "execution_count": 2,
   "metadata": {},
   "outputs": [],
   "source": [
    "# store all duplicated columns\n",
    "duplicated_cols_dict= {}\n",
    "duplicated_cols_list_full = []\n",
    "\n",
    "\n",
    "# THIS FUNCTION is to drop all duplicates columns\n",
    "for i, col in enumerate(train_set.columns):\n",
    "    duplicated_cols_list= []\n",
    "    # if the col is already one of the keys\n",
    "    # then skip\n",
    "    if col in duplicated_cols_list_full:\n",
    "        continue\n",
    "    for c in train_set.columns:\n",
    "        if (train_set[col].equals(train_set[c])):\n",
    "            duplicated_cols_list.append(c)\n",
    "            duplicated_cols_list_full.append(c)\n",
    "        \n",
    "           \n",
    "    if (len(duplicated_cols_list) > 1):\n",
    "        duplicated_cols_dict[col] = duplicated_cols_list   "
   ]
  },
  {
   "cell_type": "code",
   "execution_count": 4,
   "metadata": {},
   "outputs": [],
   "source": [
    "from matplotlib.cbook import flatten\n",
    "\n",
    "drop_cols = set(list(flatten(list(duplicated_cols_dict.values())))) - set(duplicated_cols_dict.keys())"
   ]
  },
  {
   "cell_type": "code",
   "execution_count": 6,
   "metadata": {},
   "outputs": [],
   "source": [
    "train_set= train_set.drop(drop_cols, axis= 1)\n",
    "test_set= test_set.drop(drop_cols, axis= 1)"
   ]
  },
  {
   "cell_type": "code",
   "execution_count": 7,
   "metadata": {},
   "outputs": [
    {
     "data": {
      "text/plain": [
       "Index(['label', 'Field_1', 'Field_2', 'Field_3', 'Field_4', 'Field_5',\n",
       "       'Field_6', 'Field_7', 'Field_8', 'Field_9',\n",
       "       ...\n",
       "       'partner5_A', 'partner5_D', 'partner5_G', 'brief', 'num_of_phone',\n",
       "       'Field_78', 'Field_79', 'Field_80', 'Field_81', 'Field_82'],\n",
       "      dtype='object', length=148)"
      ]
     },
     "execution_count": 7,
     "metadata": {},
     "output_type": "execute_result"
    }
   ],
   "source": [
    "train_set.columns"
   ]
  },
  {
   "cell_type": "code",
   "execution_count": 8,
   "metadata": {
    "scrolled": true
   },
   "outputs": [],
   "source": [
    "cols_Vincent = train_set.columns[:int(len(train_set.columns)/2)]\n",
    "cols_Duong = train_set.columns[int(len(train_set.columns)/2):]"
   ]
  },
  {
   "cell_type": "code",
   "execution_count": 11,
   "metadata": {},
   "outputs": [
    {
     "data": {
      "text/plain": [
       "Text(0.5, 1.0, 'Percentages of missing values in each column')"
      ]
     },
     "execution_count": 11,
     "metadata": {},
     "output_type": "execute_result"
    },
    {
     "data": {
      "image/png": "[encoded data removed]",
      "text/plain": [
       "<Figure size 1440x1080 with 1 Axes>"
      ]
     },
     "metadata": {
      "needs_background": "light"
     },
     "output_type": "display_data"
    }
   ],
   "source": [
    "na_counts= train_set.isna().sum().sort_values()\n",
    "fig, ax = plt.subplots(figsize= (20,15))\n",
    "total_samples= len(train_set)\n",
    "\n",
    "ax.bar(na_counts.index,na_counts.values/total_samples)\n",
    "ax.set_xlabel(\"column \", fontsize= 30)\n",
    "ax.set_ylabel(\"counts\", fontsize= 30)\n",
    "ax.set_xticklabels([])\n",
    "ax.set_title(\"Percentages of missing values in each column\", fontsize= 35)"
   ]
  },
  {
   "cell_type": "code",
   "execution_count": 12,
   "metadata": {},
   "outputs": [
    {
     "data": {
      "text/html": [
       "<div>\n",
       "<style scoped>\n",
       "    .dataframe tbody tr th:only-of-type {\n",
       "        vertical-align: middle;\n",
       "    }\n",
       "\n",
       "    .dataframe tbody tr th {\n",
       "        vertical-align: top;\n",
       "    }\n",
       "\n",
       "    .dataframe thead th {\n",
       "        text-align: right;\n",
       "    }\n",
       "</style>\n",
       "<table border=\"1\" class=\"dataframe\">\n",
       "  <thead>\n",
       "    <tr style=\"text-align: right;\">\n",
       "      <th></th>\n",
       "      <th>label</th>\n",
       "      <th>Field_3</th>\n",
       "      <th>Field_10</th>\n",
       "      <th>Field_13</th>\n",
       "      <th>Field_19</th>\n",
       "      <th>Field_20</th>\n",
       "      <th>Field_21</th>\n",
       "      <th>Field_22</th>\n",
       "      <th>Field_23</th>\n",
       "      <th>Field_27</th>\n",
       "      <th>...</th>\n",
       "      <th>partner4_L</th>\n",
       "      <th>partner5_A</th>\n",
       "      <th>partner5_D</th>\n",
       "      <th>partner5_G</th>\n",
       "      <th>num_of_phone</th>\n",
       "      <th>Field_78</th>\n",
       "      <th>Field_79</th>\n",
       "      <th>Field_80</th>\n",
       "      <th>Field_81</th>\n",
       "      <th>Field_82</th>\n",
       "    </tr>\n",
       "  </thead>\n",
       "  <tbody>\n",
       "    <tr>\n",
       "      <th>count</th>\n",
       "      <td>53030.000000</td>\n",
       "      <td>25564.000000</td>\n",
       "      <td>25564.000000</td>\n",
       "      <td>25564.0</td>\n",
       "      <td>25564.000000</td>\n",
       "      <td>2.556400e+04</td>\n",
       "      <td>25564.000000</td>\n",
       "      <td>25564.000000</td>\n",
       "      <td>25564.000000</td>\n",
       "      <td>2.556400e+04</td>\n",
       "      <td>...</td>\n",
       "      <td>48283.000000</td>\n",
       "      <td>48283.000000</td>\n",
       "      <td>48283.000000</td>\n",
       "      <td>48283.000000</td>\n",
       "      <td>50518.000000</td>\n",
       "      <td>36397.00000</td>\n",
       "      <td>27782.000000</td>\n",
       "      <td>36320.000000</td>\n",
       "      <td>35981.000000</td>\n",
       "      <td>53030.000000</td>\n",
       "    </tr>\n",
       "    <tr>\n",
       "      <th>mean</th>\n",
       "      <td>0.316726</td>\n",
       "      <td>1.538687</td>\n",
       "      <td>1.096542</td>\n",
       "      <td>1.0</td>\n",
       "      <td>0.267022</td>\n",
       "      <td>3.603181e+06</td>\n",
       "      <td>4.485331</td>\n",
       "      <td>0.999452</td>\n",
       "      <td>31.472540</td>\n",
       "      <td>2.252840e+05</td>\n",
       "      <td>...</td>\n",
       "      <td>0.306464</td>\n",
       "      <td>0.254334</td>\n",
       "      <td>0.000124</td>\n",
       "      <td>0.000041</td>\n",
       "      <td>1.087236</td>\n",
       "      <td>20.80144</td>\n",
       "      <td>30.911307</td>\n",
       "      <td>-1.793163</td>\n",
       "      <td>-32.149412</td>\n",
       "      <td>1.668659</td>\n",
       "    </tr>\n",
       "    <tr>\n",
       "      <th>std</th>\n",
       "      <td>0.465204</td>\n",
       "      <td>0.498511</td>\n",
       "      <td>0.332593</td>\n",
       "      <td>0.0</td>\n",
       "      <td>0.835968</td>\n",
       "      <td>2.282034e+06</td>\n",
       "      <td>0.281697</td>\n",
       "      <td>0.053069</td>\n",
       "      <td>46.238001</td>\n",
       "      <td>8.423081e+05</td>\n",
       "      <td>...</td>\n",
       "      <td>0.461030</td>\n",
       "      <td>0.435491</td>\n",
       "      <td>0.011147</td>\n",
       "      <td>0.006436</td>\n",
       "      <td>0.297815</td>\n",
       "      <td>40.10993</td>\n",
       "      <td>35.968215</td>\n",
       "      <td>32.176041</td>\n",
       "      <td>63.442452</td>\n",
       "      <td>1.090910</td>\n",
       "    </tr>\n",
       "    <tr>\n",
       "      <th>min</th>\n",
       "      <td>0.000000</td>\n",
       "      <td>1.000000</td>\n",
       "      <td>0.000000</td>\n",
       "      <td>1.0</td>\n",
       "      <td>0.000000</td>\n",
       "      <td>0.000000e+00</td>\n",
       "      <td>0.000000</td>\n",
       "      <td>0.000000</td>\n",
       "      <td>0.000000</td>\n",
       "      <td>0.000000e+00</td>\n",
       "      <td>...</td>\n",
       "      <td>0.000000</td>\n",
       "      <td>0.000000</td>\n",
       "      <td>0.000000</td>\n",
       "      <td>0.000000</td>\n",
       "      <td>1.000000</td>\n",
       "      <td>-267.00000</td>\n",
       "      <td>0.000000</td>\n",
       "      <td>-267.000000</td>\n",
       "      <td>-290.000000</td>\n",
       "      <td>1.000000</td>\n",
       "    </tr>\n",
       "    <tr>\n",
       "      <th>25%</th>\n",
       "      <td>0.000000</td>\n",
       "      <td>1.000000</td>\n",
       "      <td>1.000000</td>\n",
       "      <td>1.0</td>\n",
       "      <td>0.000000</td>\n",
       "      <td>1.490000e+06</td>\n",
       "      <td>4.500000</td>\n",
       "      <td>1.000000</td>\n",
       "      <td>1.000000</td>\n",
       "      <td>0.000000e+00</td>\n",
       "      <td>...</td>\n",
       "      <td>0.000000</td>\n",
       "      <td>0.000000</td>\n",
       "      <td>0.000000</td>\n",
       "      <td>0.000000</td>\n",
       "      <td>1.000000</td>\n",
       "      <td>4.00000</td>\n",
       "      <td>5.326888</td>\n",
       "      <td>-5.600000</td>\n",
       "      <td>-69.000000</td>\n",
       "      <td>1.000000</td>\n",
       "    </tr>\n",
       "    <tr>\n",
       "      <th>50%</th>\n",
       "      <td>0.000000</td>\n",
       "      <td>2.000000</td>\n",
       "      <td>1.000000</td>\n",
       "      <td>1.0</td>\n",
       "      <td>0.000000</td>\n",
       "      <td>3.801000e+06</td>\n",
       "      <td>4.500000</td>\n",
       "      <td>1.000000</td>\n",
       "      <td>14.000000</td>\n",
       "      <td>0.000000e+00</td>\n",
       "      <td>...</td>\n",
       "      <td>0.000000</td>\n",
       "      <td>0.000000</td>\n",
       "      <td>0.000000</td>\n",
       "      <td>0.000000</td>\n",
       "      <td>1.000000</td>\n",
       "      <td>16.00000</td>\n",
       "      <td>15.556349</td>\n",
       "      <td>2.086957</td>\n",
       "      <td>0.000000</td>\n",
       "      <td>1.000000</td>\n",
       "    </tr>\n",
       "    <tr>\n",
       "      <th>75%</th>\n",
       "      <td>1.000000</td>\n",
       "      <td>2.000000</td>\n",
       "      <td>1.000000</td>\n",
       "      <td>1.0</td>\n",
       "      <td>0.000000</td>\n",
       "      <td>4.500000e+06</td>\n",
       "      <td>4.500000</td>\n",
       "      <td>1.000000</td>\n",
       "      <td>40.000000</td>\n",
       "      <td>0.000000e+00</td>\n",
       "      <td>...</td>\n",
       "      <td>1.000000</td>\n",
       "      <td>1.000000</td>\n",
       "      <td>0.000000</td>\n",
       "      <td>0.000000</td>\n",
       "      <td>1.000000</td>\n",
       "      <td>36.00000</td>\n",
       "      <td>46.013087</td>\n",
       "      <td>9.500000</td>\n",
       "      <td>1.000000</td>\n",
       "      <td>2.000000</td>\n",
       "    </tr>\n",
       "    <tr>\n",
       "      <th>max</th>\n",
       "      <td>1.000000</td>\n",
       "      <td>2.000000</td>\n",
       "      <td>5.000000</td>\n",
       "      <td>1.0</td>\n",
       "      <td>6.864000</td>\n",
       "      <td>2.980000e+07</td>\n",
       "      <td>6.000000</td>\n",
       "      <td>2.000000</td>\n",
       "      <td>464.000000</td>\n",
       "      <td>2.000000e+07</td>\n",
       "      <td>...</td>\n",
       "      <td>1.000000</td>\n",
       "      <td>1.000000</td>\n",
       "      <td>1.000000</td>\n",
       "      <td>1.000000</td>\n",
       "      <td>5.000000</td>\n",
       "      <td>242.00000</td>\n",
       "      <td>325.976226</td>\n",
       "      <td>238.000000</td>\n",
       "      <td>238.000000</td>\n",
       "      <td>4.000000</td>\n",
       "    </tr>\n",
       "  </tbody>\n",
       "</table>\n",
       "<p>8 rows × 89 columns</p>\n",
       "</div>"
      ],
      "text/plain": [
       "              label       Field_3      Field_10  Field_13      Field_19  \\\n",
       "count  53030.000000  25564.000000  25564.000000   25564.0  25564.000000   \n",
       "mean       0.316726      1.538687      1.096542       1.0      0.267022   \n",
       "std        0.465204      0.498511      0.332593       0.0      0.835968   \n",
       "min        0.000000      1.000000      0.000000       1.0      0.000000   \n",
       "25%        0.000000      1.000000      1.000000       1.0      0.000000   \n",
       "50%        0.000000      2.000000      1.000000       1.0      0.000000   \n",
       "75%        1.000000      2.000000      1.000000       1.0      0.000000   \n",
       "max        1.000000      2.000000      5.000000       1.0      6.864000   \n",
       "\n",
       "           Field_20      Field_21      Field_22      Field_23      Field_27  \\\n",
       "count  2.556400e+04  25564.000000  25564.000000  25564.000000  2.556400e+04   \n",
       "mean   3.603181e+06      4.485331      0.999452     31.472540  2.252840e+05   \n",
       "std    2.282034e+06      0.281697      0.053069     46.238001  8.423081e+05   \n",
       "min    0.000000e+00      0.000000      0.000000      0.000000  0.000000e+00   \n",
       "25%    1.490000e+06      4.500000      1.000000      1.000000  0.000000e+00   \n",
       "50%    3.801000e+06      4.500000      1.000000     14.000000  0.000000e+00   \n",
       "75%    4.500000e+06      4.500000      1.000000     40.000000  0.000000e+00   \n",
       "max    2.980000e+07      6.000000      2.000000    464.000000  2.000000e+07   \n",
       "\n",
       "       ...    partner4_L    partner5_A    partner5_D    partner5_G  \\\n",
       "count  ...  48283.000000  48283.000000  48283.000000  48283.000000   \n",
       "mean   ...      0.306464      0.254334      0.000124      0.000041   \n",
       "std    ...      0.461030      0.435491      0.011147      0.006436   \n",
       "min    ...      0.000000      0.000000      0.000000      0.000000   \n",
       "25%    ...      0.000000      0.000000      0.000000      0.000000   \n",
       "50%    ...      0.000000      0.000000      0.000000      0.000000   \n",
       "75%    ...      1.000000      1.000000      0.000000      0.000000   \n",
       "max    ...      1.000000      1.000000      1.000000      1.000000   \n",
       "\n",
       "       num_of_phone     Field_78      Field_79      Field_80      Field_81  \\\n",
       "count  50518.000000  36397.00000  27782.000000  36320.000000  35981.000000   \n",
       "mean       1.087236     20.80144     30.911307     -1.793163    -32.149412   \n",
       "std        0.297815     40.10993     35.968215     32.176041     63.442452   \n",
       "min        1.000000   -267.00000      0.000000   -267.000000   -290.000000   \n",
       "25%        1.000000      4.00000      5.326888     -5.600000    -69.000000   \n",
       "50%        1.000000     16.00000     15.556349      2.086957      0.000000   \n",
       "75%        1.000000     36.00000     46.013087      9.500000      1.000000   \n",
       "max        5.000000    242.00000    325.976226    238.000000    238.000000   \n",
       "\n",
       "           Field_82  \n",
       "count  53030.000000  \n",
       "mean       1.668659  \n",
       "std        1.090910  \n",
       "min        1.000000  \n",
       "25%        1.000000  \n",
       "50%        1.000000  \n",
       "75%        2.000000  \n",
       "max        4.000000  \n",
       "\n",
       "[8 rows x 89 columns]"
      ]
     },
     "execution_count": 12,
     "metadata": {},
     "output_type": "execute_result"
    }
   ],
   "source": [
    "train_set.describe()"
   ]
  },
  {
   "cell_type": "code",
   "execution_count": null,
   "metadata": {},
   "outputs": [],
   "source": [
    "print (\"Labels count\")\n",
    "train_set.label.value_counts()"
   ]
  },
  {
   "cell_type": "code",
   "execution_count": null,
   "metadata": {},
   "outputs": [],
   "source": [
    "corrs = train_set.corr()['label'].sort_values()\n",
    "# exclude nan corrs\n",
    "corrs = corrs[corrs.values < 1]\n",
    "\n",
    "fig, ax = plt.subplots(figsize= (20,15))\n",
    "total_samples= len(train_set)\n",
    "\n",
    "ax.bar(corrs.index,corrs.values)\n",
    "ax.set_xlabel(\"column \", fontsize= 30)\n",
    "ax.set_ylabel(\"correlation\", fontsize= 30)\n",
    "ax.set_xticklabels([])\n",
    "ax.set_title(\"Correlation with labels\", fontsize= 35)"
   ]
  },
  {
   "cell_type": "markdown",
   "metadata": {},
   "source": [
    "## Duong's part"
   ]
  },
  {
   "cell_type": "code",
   "execution_count": null,
   "metadata": {},
   "outputs": [],
   "source": [
    "data_Duong = train_set[cols_Duong]\n",
    "data_Duong['label']= train_set['label'].values"
   ]
  },
  {
   "cell_type": "code",
   "execution_count": null,
   "metadata": {},
   "outputs": [],
   "source": [
    "data_Duong.head()"
   ]
  },
  {
   "cell_type": "code",
   "execution_count": null,
   "metadata": {},
   "outputs": [],
   "source": [
    "na_counts= data_Duong.isna().sum().sort_values()\n",
    "fig, ax = plt.subplots(figsize= (20,15))\n",
    "total_samples= len(data_Duong)\n",
    "\n",
    "ax.bar(na_counts.index,na_counts.values/total_samples)\n",
    "ax.set_xlabel(\"column \", fontsize= 30)\n",
    "ax.set_ylabel(\"counts\", fontsize= 30)\n",
    "ax.set_xticklabels([])\n",
    "ax.set_title(\"Percentages of missing values in each column\", fontsize= 35)"
   ]
  },
  {
   "cell_type": "code",
   "execution_count": null,
   "metadata": {},
   "outputs": [],
   "source": [
    "corrs = data_Duong.corr()['label'].sort_values()\n",
    "# exclude nan corrs\n",
    "corrs = corrs[corrs.values < 1]\n",
    "\n",
    "fig, ax = plt.subplots(figsize= (20,15))\n",
    "total_samples= len(data_Duong)\n",
    "\n",
    "ax.bar(corrs.index, corrs.values)\n",
    "ax.set_xlabel(\"column \", fontsize= 30)\n",
    "ax.set_ylabel(\"correlation\", fontsize= 30)\n",
    "ax.set_xticklabels([])\n",
    "ax.set_title(\"Correlation with labels\", fontsize= 35)"
   ]
  },
  {
   "cell_type": "code",
   "execution_count": null,
   "metadata": {},
   "outputs": [],
   "source": [
    "train_set[['Field_46', 'Field_48', 'Field_49']]"
   ]
  },
  {
   "cell_type": "code",
   "execution_count": null,
   "metadata": {},
   "outputs": [],
   "source": [
    "pd.crosstab(data_Duong['label'],\\\n",
    "            data_Duong['homeTownCountry'], dropna= False)"
   ]
  },
  {
   "cell_type": "code",
   "execution_count": null,
   "metadata": {},
   "outputs": [],
   "source": [
    "for i, col in enumerate(data_Duong.columns):\n",
    "    print (i+1, \"/ Column name:\", col)\n",
    "    print(data_Duong[col].value_counts(dropna=False))"
   ]
  },
  {
   "cell_type": "markdown",
   "metadata": {},
   "source": [
    "## create custom columns"
   ]
  },
  {
   "cell_type": "markdown",
   "metadata": {},
   "source": [
    "### column diff_start_end_date = diff between E_startDate and E_endDate"
   ]
  },
  {
   "cell_type": "code",
   "execution_count": null,
   "metadata": {},
   "outputs": [],
   "source": [
    "data_Duong.columns"
   ]
  },
  {
   "cell_type": "code",
   "execution_count": null,
   "metadata": {},
   "outputs": [],
   "source": [
    "from datetime import datetime\n",
    "\n",
    "data_Duong['E_endDate'] = data_Duong['E_endDate'].apply(lambda row: \\\n",
    "              datetime.strptime('1900-01-01', '%Y-%m-%d') \\\n",
    "                    if row is np.nan \\\n",
    "                else datetime.strptime(row, '%Y-%m-%d'))\n",
    "\n",
    "data_Duong['E_startDate'] = data_Duong['E_startDate'].apply(lambda row: \\\n",
    "              datetime.strptime('1900-01-01', '%Y-%m-%d') \\\n",
    "                    if row is np.nan \\\n",
    "                else datetime.strptime(row, '%Y-%m-%d'))\n",
    "\n",
    "\n",
    "data_Duong['F_endDate'] = data_Duong['F_endDate'].apply(lambda row: \\\n",
    "              datetime.strptime('1900-01-01', '%Y-%m-%d') \\\n",
    "                    if row is np.nan \\\n",
    "                else datetime.strptime(row, '%Y-%m-%d'))\n",
    "\n",
    "data_Duong['F_startDate'] = data_Duong['F_startDate'].apply(lambda row: \\\n",
    "              datetime.strptime('1900-01-01', '%Y-%m-%d') \\\n",
    "                    if row is np.nan \\\n",
    "                else datetime.strptime(row, '%Y-%m-%d'))\n",
    "\n",
    "data_Duong['G_startDate'] = data_Duong['G_startDate'].apply(lambda row: \\\n",
    "              datetime.strptime('1900-01-01', '%Y-%m-%d') \\\n",
    "                    if row is np.nan \\\n",
    "                else datetime.strptime(row, '%Y-%m-%d'))\n",
    "\n",
    "data_Duong['G_endDate'] = data_Duong['G_endDate'].apply(lambda row: \\\n",
    "              datetime.strptime('1900-01-01', '%Y-%m-%d') \\\n",
    "                    if row is np.nan \\\n",
    "                else datetime.strptime(row, '%Y-%m-%d'))               \n",
    "\n",
    "\n",
    "data_Duong['A_endDate'] = data_Duong['A_endDate'].apply(lambda row: \\\n",
    "              datetime.strptime('1900-01-01', '%Y-%m-%d') \\\n",
    "                    if row is np.nan \\\n",
    "                else datetime.strptime(row, '%Y-%m-%d'))\n",
    "\n",
    "data_Duong['A_startDate'] = data_Duong['A_startDate'].apply(lambda row: \\\n",
    "              datetime.strptime('1900-01-01', '%Y-%m-%d') \\\n",
    "                    if row is np.nan \\\n",
    "                else datetime.strptime(row, '%Y-%m-%d'))               "
   ]
  },
  {
   "cell_type": "markdown",
   "metadata": {},
   "source": [
    "## *letter*_diff_date = diff between *letter*_startDate and *letter*_endDate"
   ]
  },
  {
   "cell_type": "code",
   "execution_count": null,
   "metadata": {},
   "outputs": [],
   "source": [
    "data_Duong['E_diff_date']= data_Duong['E_endDate'] - data_Duong['E_startDate']\n",
    "\n",
    "data_Duong['F_diff_date']= data_Duong['F_endDate'] - data_Duong['F_startDate']\n",
    "\n",
    "data_Duong['G_diff_date']= data_Duong['G_endDate'] - data_Duong['G_startDate']\n",
    "\n",
    "data_Duong['A_diff_date']= data_Duong['A_endDate'] - data_Duong['A_startDate']"
   ]
  },
  {
   "cell_type": "markdown",
   "metadata": {},
   "source": [
    "## Explore topfriends"
   ]
  },
  {
   "cell_type": "code",
   "execution_count": null,
   "metadata": {},
   "outputs": [],
   "source": [
    "topFriends_counts = data_Duong['topFriends'].value_counts(dropna= False)\n",
    "plt.bar(topFriends_counts.index, topFriends_counts.values)"
   ]
  },
  {
   "cell_type": "code",
   "execution_count": null,
   "metadata": {},
   "outputs": [],
   "source": [
    "topFriends_counts"
   ]
  },
  {
   "cell_type": "code",
   "execution_count": null,
   "metadata": {},
   "outputs": [],
   "source": [
    "train_set['E_endDate'].equals(train_set['G_endDate'])"
   ]
  },
  {
   "cell_type": "code",
   "execution_count": null,
   "metadata": {},
   "outputs": [],
   "source": [
    "train_set[['Field_14','Field_16']].drop_duplicates()"
   ]
  },
  {
   "cell_type": "code",
   "execution_count": null,
   "metadata": {},
   "outputs": [],
   "source": [
    "for i in range(10):\n",
    "    if (i%3 == 0):\n",
    "        continue\n",
    "    print (i)"
   ]
  },
  {
   "cell_type": "code",
   "execution_count": null,
   "metadata": {},
   "outputs": [],
   "source": [
    "from matplotlib.cbook import flatten\n",
    "\n",
    "set(list(flatten(list(duplicated_cols_dict.values())))) - set(duplicated_cols_dict.keys())"
   ]
  },
  {
   "cell_type": "code",
   "execution_count": null,
   "metadata": {},
   "outputs": [],
   "source": [
    "drop_cols = set(list(flatten(list(duplicated_cols_dict.values())))) - set(duplicated_cols_dict.keys())"
   ]
  },
  {
   "cell_type": "code",
   "execution_count": null,
   "metadata": {},
   "outputs": [],
   "source": [
    "duplicated_cols_dict.values()"
   ]
  },
  {
   "cell_type": "code",
   "execution_count": null,
   "metadata": {},
   "outputs": [],
   "source": [
    "drop_cols = set(list(flatten(list(duplicated_cols_dict.values())))) - set(duplicated_cols_dict.keys())"
   ]
  },
  {
   "cell_type": "code",
   "execution_count": null,
   "metadata": {},
   "outputs": [],
   "source": [
    "set(duplicated_cols_dict.values()) - set(duplicated_cols_dict.keys())"
   ]
  },
  {
   "cell_type": "code",
   "execution_count": null,
   "metadata": {},
   "outputs": [],
   "source": [
    "# store all duplicated columns\n",
    "duplicated_cols_dict= {}\n",
    "duplicated_cols_list_full = []\n",
    "\n",
    "for i, col in enumerate(train_set.columns):\n",
    "    duplicated_cols_list= []\n",
    "    # if the col is already one of the keys\n",
    "    # then skip\n",
    "    if col in duplicated_cols_list_full:\n",
    "        continue\n",
    "    for c in train_set.columns:\n",
    "        if (train_set[col].equals(train_set[c])):\n",
    "            duplicated_cols_list.append(c)\n",
    "            duplicated_cols_list_full.append(c)\n",
    "        \n",
    "           \n",
    "    if (len(duplicated_cols_list) > 1):\n",
    "        duplicated_cols_dict[col] = duplicated_cols_list   "
   ]
  },
  {
   "cell_type": "code",
   "execution_count": null,
   "metadata": {},
   "outputs": [],
   "source": []
  }
 ],
 "metadata": {
  "kernelspec": {
   "display_name": "Python 3",
   "language": "python",
   "name": "python3"
  },
  "language_info": {
   "codemirror_mode": {
    "name": "ipython",
    "version": 3
   },
   "file_extension": ".py",
   "mimetype": "text/x-python",
   "name": "python",
   "nbconvert_exporter": "python",
   "pygments_lexer": "ipython3",
   "version": "3.7.5"
  }
 },
 "nbformat": 4,
 "nbformat_minor": 4
}
