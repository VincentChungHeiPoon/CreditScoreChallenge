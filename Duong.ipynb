{
 "cells": [
  {
   "cell_type": "code",
   "execution_count": 23,
   "metadata": {},
   "outputs": [],
   "source": [
    "import numpy as np\n",
    "import pandas as pd\n",
    "import matplotlib.pyplot as plt\n",
    "from numpy import random\n",
    "\n",
    "# ignore all warnings\n",
    "import warnings\n",
    "warnings.filterwarnings(\"ignore\")\n",
    "\n",
    "\n",
    "# import data\n",
    "train_set= pd.read_csv('./Data/train.csv', index_col= 'id')\n",
    "test_set= pd.read_csv('./Data/test.csv', index_col= 'id')\n"
   ]
  },
  {
   "cell_type": "code",
   "execution_count": 26,
   "metadata": {},
   "outputs": [
    {
     "data": {
      "text/plain": [
       "194"
      ]
     },
     "execution_count": 26,
     "metadata": {},
     "output_type": "execute_result"
    }
   ],
   "source": [
    "len(train_set.columns)"
   ]
  },
  {
   "cell_type": "code",
   "execution_count": 2,
   "metadata": {},
   "outputs": [],
   "source": [
    "# store all duplicated columns\n",
    "duplicated_cols_dict= {}\n",
    "duplicated_cols_list_full = []\n",
    "\n",
    "\n",
    "# THIS FUNCTION is to drop all duplicates columns\n",
    "for i, col in enumerate(train_set.columns):\n",
    "    duplicated_cols_list= []\n",
    "    # if the col is already one of the keys\n",
    "    # then skip\n",
    "    if col in duplicated_cols_list_full:\n",
    "        continue\n",
    "    for c in train_set.columns:\n",
    "        if (train_set[col].equals(train_set[c])):\n",
    "            duplicated_cols_list.append(c)\n",
    "            duplicated_cols_list_full.append(c)\n",
    "        \n",
    "           \n",
    "    if (len(duplicated_cols_list) > 1):\n",
    "        duplicated_cols_dict[col] = duplicated_cols_list   "
   ]
  },
  {
   "cell_type": "code",
   "execution_count": 3,
   "metadata": {},
   "outputs": [],
   "source": [
    "from matplotlib.cbook import flatten\n",
    "\n",
    "# determine duplicated columns to drop\n",
    "drop_cols = set(list(flatten(list(duplicated_cols_dict.values())))) - set(duplicated_cols_dict.keys())"
   ]
  },
  {
   "cell_type": "code",
   "execution_count": 18,
   "metadata": {},
   "outputs": [
    {
     "data": {
      "text/plain": [
       "179"
      ]
     },
     "execution_count": 18,
     "metadata": {},
     "output_type": "execute_result"
    }
   ],
   "source": [
    "len(train_set.columns)"
   ]
  },
  {
   "cell_type": "code",
   "execution_count": 4,
   "metadata": {},
   "outputs": [],
   "source": [
    "# drop the duplicates\n",
    "\n",
    "train_set= train_set.drop(drop_cols, axis= 1)\n",
    "test_set= test_set.drop(drop_cols, axis= 1)"
   ]
  },
  {
   "cell_type": "code",
   "execution_count": 5,
   "metadata": {
    "scrolled": true
   },
   "outputs": [],
   "source": [
    "cols_Vincent = train_set.columns[:int(len(train_set.columns)/2)]\n",
    "cols_Duong = train_set.columns[int(len(train_set.columns)/2):]"
   ]
  },
  {
   "cell_type": "code",
   "execution_count": 8,
   "metadata": {},
   "outputs": [
    {
     "data": {
      "text/plain": [
       "Text(0.5, 1.0, 'Percentages of missing values in each column')"
      ]
     },
     "execution_count": 8,
     "metadata": {},
     "output_type": "execute_result"
    },
    {
     "data": {
      "image/png": "[encoded data removed]",
      "text/plain": [
       "<Figure size 1440x1080 with 1 Axes>"
      ]
     },
     "metadata": {
      "needs_background": "light"
     },
     "output_type": "display_data"
    }
   ],
   "source": [
    "na_counts= train_set.isna().sum().sort_values()\n",
    "fig, ax = plt.subplots(figsize= (20,15))\n",
    "total_samples= len(train_set)\n",
    "\n",
    "ax.bar(na_counts.index,na_counts.values/total_samples)\n",
    "ax.set_xlabel(\"column \", fontsize= 30)\n",
    "ax.set_ylabel(\"counts\", fontsize= 30)\n",
    "ax.set_xticklabels([])\n",
    "ax.set_title(\"Percentages of missing values in each column\", fontsize= 35)"
   ]
  },
  {
   "cell_type": "code",
   "execution_count": 9,
   "metadata": {},
   "outputs": [
    {
     "data": {
      "text/html": [
       "<div>\n",
       "<style scoped>\n",
       "    .dataframe tbody tr th:only-of-type {\n",
       "        vertical-align: middle;\n",
       "    }\n",
       "\n",
       "    .dataframe tbody tr th {\n",
       "        vertical-align: top;\n",
       "    }\n",
       "\n",
       "    .dataframe thead th {\n",
       "        text-align: right;\n",
       "    }\n",
       "</style>\n",
       "<table border=\"1\" class=\"dataframe\">\n",
       "  <thead>\n",
       "    <tr style=\"text-align: right;\">\n",
       "      <th></th>\n",
       "      <th>label</th>\n",
       "      <th>Field_3</th>\n",
       "      <th>Field_10</th>\n",
       "      <th>Field_13</th>\n",
       "      <th>Field_21</th>\n",
       "      <th>Field_22</th>\n",
       "      <th>Field_23</th>\n",
       "      <th>Field_24</th>\n",
       "      <th>Field_28</th>\n",
       "      <th>Field_29</th>\n",
       "      <th>...</th>\n",
       "      <th>partner5_G</th>\n",
       "      <th>Field_79</th>\n",
       "      <th>Field_80</th>\n",
       "      <th>Field_81</th>\n",
       "      <th>Unnamed: 195</th>\n",
       "      <th>Unnamed: 196</th>\n",
       "      <th>Unnamed: 197</th>\n",
       "      <th>Unnamed: 198</th>\n",
       "      <th>Unnamed: 199</th>\n",
       "      <th>Unnamed: 200</th>\n",
       "    </tr>\n",
       "  </thead>\n",
       "  <tbody>\n",
       "    <tr>\n",
       "      <th>count</th>\n",
       "      <td>53030.000000</td>\n",
       "      <td>25564.000000</td>\n",
       "      <td>25564.000000</td>\n",
       "      <td>25564.0</td>\n",
       "      <td>2.556400e+04</td>\n",
       "      <td>2.556400e+04</td>\n",
       "      <td>25564.000000</td>\n",
       "      <td>25564.000000</td>\n",
       "      <td>25564.000000</td>\n",
       "      <td>25564.000000</td>\n",
       "      <td>...</td>\n",
       "      <td>48283.000000</td>\n",
       "      <td>27800.000000</td>\n",
       "      <td>36315.000000</td>\n",
       "      <td>35981.000000</td>\n",
       "      <td>61.000000</td>\n",
       "      <td>18.000000</td>\n",
       "      <td>6.000000</td>\n",
       "      <td>5.000000</td>\n",
       "      <td>2.000000</td>\n",
       "      <td>3.0</td>\n",
       "    </tr>\n",
       "    <tr>\n",
       "      <th>mean</th>\n",
       "      <td>0.316726</td>\n",
       "      <td>1.538687</td>\n",
       "      <td>1.096542</td>\n",
       "      <td>1.0</td>\n",
       "      <td>6.057363e+03</td>\n",
       "      <td>1.073670e+03</td>\n",
       "      <td>31.435045</td>\n",
       "      <td>1.031177</td>\n",
       "      <td>10003.327453</td>\n",
       "      <td>6.539509</td>\n",
       "      <td>...</td>\n",
       "      <td>0.000062</td>\n",
       "      <td>30.868647</td>\n",
       "      <td>-1.758195</td>\n",
       "      <td>-32.101590</td>\n",
       "      <td>1.394008</td>\n",
       "      <td>-1.240741</td>\n",
       "      <td>-15.671727</td>\n",
       "      <td>-8.800000</td>\n",
       "      <td>-61.000000</td>\n",
       "      <td>1.0</td>\n",
       "    </tr>\n",
       "    <tr>\n",
       "      <th>std</th>\n",
       "      <td>0.465204</td>\n",
       "      <td>0.498511</td>\n",
       "      <td>0.332593</td>\n",
       "      <td>0.0</td>\n",
       "      <td>1.826291e+05</td>\n",
       "      <td>9.271715e+04</td>\n",
       "      <td>46.237769</td>\n",
       "      <td>1.305385</td>\n",
       "      <td>37951.762165</td>\n",
       "      <td>6.354031</td>\n",
       "      <td>...</td>\n",
       "      <td>0.007882</td>\n",
       "      <td>35.948516</td>\n",
       "      <td>32.197134</td>\n",
       "      <td>63.428646</td>\n",
       "      <td>25.050214</td>\n",
       "      <td>20.060303</td>\n",
       "      <td>84.323641</td>\n",
       "      <td>22.476655</td>\n",
       "      <td>86.267027</td>\n",
       "      <td>0.0</td>\n",
       "    </tr>\n",
       "    <tr>\n",
       "      <th>min</th>\n",
       "      <td>0.000000</td>\n",
       "      <td>1.000000</td>\n",
       "      <td>0.000000</td>\n",
       "      <td>1.0</td>\n",
       "      <td>0.000000e+00</td>\n",
       "      <td>0.000000e+00</td>\n",
       "      <td>0.000000</td>\n",
       "      <td>0.000000</td>\n",
       "      <td>0.000000</td>\n",
       "      <td>0.000000</td>\n",
       "      <td>...</td>\n",
       "      <td>0.000000</td>\n",
       "      <td>-70.000000</td>\n",
       "      <td>-267.000000</td>\n",
       "      <td>-290.000000</td>\n",
       "      <td>-155.000000</td>\n",
       "      <td>-78.000000</td>\n",
       "      <td>-156.000000</td>\n",
       "      <td>-49.000000</td>\n",
       "      <td>-122.000000</td>\n",
       "      <td>1.0</td>\n",
       "    </tr>\n",
       "    <tr>\n",
       "      <th>25%</th>\n",
       "      <td>0.000000</td>\n",
       "      <td>1.000000</td>\n",
       "      <td>1.000000</td>\n",
       "      <td>1.0</td>\n",
       "      <td>4.500000e+00</td>\n",
       "      <td>1.000000e+00</td>\n",
       "      <td>1.000000</td>\n",
       "      <td>1.000000</td>\n",
       "      <td>0.000000</td>\n",
       "      <td>0.000000</td>\n",
       "      <td>...</td>\n",
       "      <td>0.000000</td>\n",
       "      <td>5.315073</td>\n",
       "      <td>-5.571429</td>\n",
       "      <td>-69.000000</td>\n",
       "      <td>1.000000</td>\n",
       "      <td>1.000000</td>\n",
       "      <td>-33.750000</td>\n",
       "      <td>1.000000</td>\n",
       "      <td>-91.500000</td>\n",
       "      <td>1.0</td>\n",
       "    </tr>\n",
       "    <tr>\n",
       "      <th>50%</th>\n",
       "      <td>0.000000</td>\n",
       "      <td>2.000000</td>\n",
       "      <td>1.000000</td>\n",
       "      <td>1.0</td>\n",
       "      <td>4.500000e+00</td>\n",
       "      <td>1.000000e+00</td>\n",
       "      <td>14.000000</td>\n",
       "      <td>1.000000</td>\n",
       "      <td>0.000000</td>\n",
       "      <td>6.000000</td>\n",
       "      <td>...</td>\n",
       "      <td>0.000000</td>\n",
       "      <td>15.512975</td>\n",
       "      <td>2.100000</td>\n",
       "      <td>0.000000</td>\n",
       "      <td>1.000000</td>\n",
       "      <td>1.000000</td>\n",
       "      <td>0.866025</td>\n",
       "      <td>1.000000</td>\n",
       "      <td>-61.000000</td>\n",
       "      <td>1.0</td>\n",
       "    </tr>\n",
       "    <tr>\n",
       "      <th>75%</th>\n",
       "      <td>1.000000</td>\n",
       "      <td>2.000000</td>\n",
       "      <td>1.000000</td>\n",
       "      <td>1.0</td>\n",
       "      <td>4.500000e+00</td>\n",
       "      <td>1.000000e+00</td>\n",
       "      <td>40.000000</td>\n",
       "      <td>1.000000</td>\n",
       "      <td>0.000000</td>\n",
       "      <td>12.000000</td>\n",
       "      <td>...</td>\n",
       "      <td>0.000000</td>\n",
       "      <td>45.961941</td>\n",
       "      <td>9.500000</td>\n",
       "      <td>1.000000</td>\n",
       "      <td>2.000000</td>\n",
       "      <td>3.750000</td>\n",
       "      <td>1.933013</td>\n",
       "      <td>1.000000</td>\n",
       "      <td>-30.500000</td>\n",
       "      <td>1.0</td>\n",
       "    </tr>\n",
       "    <tr>\n",
       "      <th>max</th>\n",
       "      <td>1.000000</td>\n",
       "      <td>2.000000</td>\n",
       "      <td>5.000000</td>\n",
       "      <td>1.0</td>\n",
       "      <td>1.043150e+07</td>\n",
       "      <td>9.224177e+06</td>\n",
       "      <td>464.000000</td>\n",
       "      <td>122.000000</td>\n",
       "      <td>900000.000000</td>\n",
       "      <td>72.000000</td>\n",
       "      <td>...</td>\n",
       "      <td>1.000000</td>\n",
       "      <td>325.976226</td>\n",
       "      <td>238.000000</td>\n",
       "      <td>238.000000</td>\n",
       "      <td>110.308658</td>\n",
       "      <td>24.000000</td>\n",
       "      <td>103.237590</td>\n",
       "      <td>2.000000</td>\n",
       "      <td>0.000000</td>\n",
       "      <td>1.0</td>\n",
       "    </tr>\n",
       "  </tbody>\n",
       "</table>\n",
       "<p>8 rows × 71 columns</p>\n",
       "</div>"
      ],
      "text/plain": [
       "              label       Field_3      Field_10  Field_13      Field_21  \\\n",
       "count  53030.000000  25564.000000  25564.000000   25564.0  2.556400e+04   \n",
       "mean       0.316726      1.538687      1.096542       1.0  6.057363e+03   \n",
       "std        0.465204      0.498511      0.332593       0.0  1.826291e+05   \n",
       "min        0.000000      1.000000      0.000000       1.0  0.000000e+00   \n",
       "25%        0.000000      1.000000      1.000000       1.0  4.500000e+00   \n",
       "50%        0.000000      2.000000      1.000000       1.0  4.500000e+00   \n",
       "75%        1.000000      2.000000      1.000000       1.0  4.500000e+00   \n",
       "max        1.000000      2.000000      5.000000       1.0  1.043150e+07   \n",
       "\n",
       "           Field_22      Field_23      Field_24       Field_28      Field_29  \\\n",
       "count  2.556400e+04  25564.000000  25564.000000   25564.000000  25564.000000   \n",
       "mean   1.073670e+03     31.435045      1.031177   10003.327453      6.539509   \n",
       "std    9.271715e+04     46.237769      1.305385   37951.762165      6.354031   \n",
       "min    0.000000e+00      0.000000      0.000000       0.000000      0.000000   \n",
       "25%    1.000000e+00      1.000000      1.000000       0.000000      0.000000   \n",
       "50%    1.000000e+00     14.000000      1.000000       0.000000      6.000000   \n",
       "75%    1.000000e+00     40.000000      1.000000       0.000000     12.000000   \n",
       "max    9.224177e+06    464.000000    122.000000  900000.000000     72.000000   \n",
       "\n",
       "       ...    partner5_G      Field_79      Field_80      Field_81  \\\n",
       "count  ...  48283.000000  27800.000000  36315.000000  35981.000000   \n",
       "mean   ...      0.000062     30.868647     -1.758195    -32.101590   \n",
       "std    ...      0.007882     35.948516     32.197134     63.428646   \n",
       "min    ...      0.000000    -70.000000   -267.000000   -290.000000   \n",
       "25%    ...      0.000000      5.315073     -5.571429    -69.000000   \n",
       "50%    ...      0.000000     15.512975      2.100000      0.000000   \n",
       "75%    ...      0.000000     45.961941      9.500000      1.000000   \n",
       "max    ...      1.000000    325.976226    238.000000    238.000000   \n",
       "\n",
       "       Unnamed: 195  Unnamed: 196  Unnamed: 197  Unnamed: 198  Unnamed: 199  \\\n",
       "count     61.000000     18.000000      6.000000      5.000000      2.000000   \n",
       "mean       1.394008     -1.240741    -15.671727     -8.800000    -61.000000   \n",
       "std       25.050214     20.060303     84.323641     22.476655     86.267027   \n",
       "min     -155.000000    -78.000000   -156.000000    -49.000000   -122.000000   \n",
       "25%        1.000000      1.000000    -33.750000      1.000000    -91.500000   \n",
       "50%        1.000000      1.000000      0.866025      1.000000    -61.000000   \n",
       "75%        2.000000      3.750000      1.933013      1.000000    -30.500000   \n",
       "max      110.308658     24.000000    103.237590      2.000000      0.000000   \n",
       "\n",
       "       Unnamed: 200  \n",
       "count           3.0  \n",
       "mean            1.0  \n",
       "std             0.0  \n",
       "min             1.0  \n",
       "25%             1.0  \n",
       "50%             1.0  \n",
       "75%             1.0  \n",
       "max             1.0  \n",
       "\n",
       "[8 rows x 71 columns]"
      ]
     },
     "execution_count": 9,
     "metadata": {},
     "output_type": "execute_result"
    }
   ],
   "source": [
    "train_set.describe()"
   ]
  },
  {
   "cell_type": "code",
   "execution_count": 10,
   "metadata": {},
   "outputs": [
    {
     "name": "stdout",
     "output_type": "stream",
     "text": [
      "Labels count\n"
     ]
    },
    {
     "data": {
      "text/plain": [
       "0    36234\n",
       "1    16796\n",
       "Name: label, dtype: int64"
      ]
     },
     "execution_count": 10,
     "metadata": {},
     "output_type": "execute_result"
    }
   ],
   "source": [
    "print (\"Labels count\")\n",
    "train_set.label.value_counts()"
   ]
  },
  {
   "cell_type": "code",
   "execution_count": 11,
   "metadata": {},
   "outputs": [
    {
     "data": {
      "text/plain": [
       "Text(0.5, 1.0, 'Correlation with labels')"
      ]
     },
     "execution_count": 11,
     "metadata": {},
     "output_type": "execute_result"
    },
    {
     "data": {
      "image/png": "[encoded data removed]",
      "text/plain": [
       "<Figure size 1440x1080 with 1 Axes>"
      ]
     },
     "metadata": {
      "needs_background": "light"
     },
     "output_type": "display_data"
    }
   ],
   "source": [
    "corrs = train_set.corr()['label'].sort_values()\n",
    "# exclude nan corrs\n",
    "corrs = corrs[corrs.values < 1]\n",
    "\n",
    "fig, ax = plt.subplots(figsize= (20,15))\n",
    "total_samples= len(train_set)\n",
    "\n",
    "ax.bar(corrs.index,corrs.values)\n",
    "ax.set_xlabel(\"column \", fontsize= 30)\n",
    "ax.set_ylabel(\"correlation\", fontsize= 30)\n",
    "ax.set_xticklabels([])\n",
    "ax.set_title(\"Correlation with labels\", fontsize= 35)"
   ]
  },
  {
   "cell_type": "markdown",
   "metadata": {},
   "source": [
    "## Duong's part"
   ]
  },
  {
   "cell_type": "code",
   "execution_count": 12,
   "metadata": {},
   "outputs": [],
   "source": [
    "data_Duong = train_set[cols_Duong].copy()\n",
    "\n",
    "data_Duong['label']= train_set['label'].values"
   ]
  },
  {
   "cell_type": "code",
   "execution_count": 13,
   "metadata": {},
   "outputs": [
    {
     "data": {
      "text/html": [
       "<div>\n",
       "<style scoped>\n",
       "    .dataframe tbody tr th:only-of-type {\n",
       "        vertical-align: middle;\n",
       "    }\n",
       "\n",
       "    .dataframe tbody tr th {\n",
       "        vertical-align: top;\n",
       "    }\n",
       "\n",
       "    .dataframe thead th {\n",
       "        text-align: right;\n",
       "    }\n",
       "</style>\n",
       "<table border=\"1\" class=\"dataframe\">\n",
       "  <thead>\n",
       "    <tr style=\"text-align: right;\">\n",
       "      <th></th>\n",
       "      <th>data.basic_info.locale</th>\n",
       "      <th>currentLocationCity</th>\n",
       "      <th>currentLocationCountry</th>\n",
       "      <th>currentLocationName</th>\n",
       "      <th>currentLocationState</th>\n",
       "      <th>homeTownCity</th>\n",
       "      <th>homeTownCountry</th>\n",
       "      <th>homeTownName</th>\n",
       "      <th>homeTownState</th>\n",
       "      <th>topFriends</th>\n",
       "      <th>...</th>\n",
       "      <th>Field_80</th>\n",
       "      <th>Field_81</th>\n",
       "      <th>Field_82</th>\n",
       "      <th>Unnamed: 195</th>\n",
       "      <th>Unnamed: 196</th>\n",
       "      <th>Unnamed: 197</th>\n",
       "      <th>Unnamed: 198</th>\n",
       "      <th>Unnamed: 199</th>\n",
       "      <th>Unnamed: 200</th>\n",
       "      <th>label</th>\n",
       "    </tr>\n",
       "    <tr>\n",
       "      <th>id</th>\n",
       "      <th></th>\n",
       "      <th></th>\n",
       "      <th></th>\n",
       "      <th></th>\n",
       "      <th></th>\n",
       "      <th></th>\n",
       "      <th></th>\n",
       "      <th></th>\n",
       "      <th></th>\n",
       "      <th></th>\n",
       "      <th></th>\n",
       "      <th></th>\n",
       "      <th></th>\n",
       "      <th></th>\n",
       "      <th></th>\n",
       "      <th></th>\n",
       "      <th></th>\n",
       "      <th></th>\n",
       "      <th></th>\n",
       "      <th></th>\n",
       "      <th></th>\n",
       "    </tr>\n",
       "  </thead>\n",
       "  <tbody>\n",
       "    <tr>\n",
       "      <th>0</th>\n",
       "      <td>NaN</td>\n",
       "      <td>NaN</td>\n",
       "      <td>NaN</td>\n",
       "      <td>NaN</td>\n",
       "      <td>NaN</td>\n",
       "      <td>NaN</td>\n",
       "      <td>NaN</td>\n",
       "      <td>NaN</td>\n",
       "      <td>NaN</td>\n",
       "      <td>NaN</td>\n",
       "      <td>...</td>\n",
       "      <td>NaN</td>\n",
       "      <td>NaN</td>\n",
       "      <td>1</td>\n",
       "      <td>NaN</td>\n",
       "      <td>NaN</td>\n",
       "      <td>NaN</td>\n",
       "      <td>NaN</td>\n",
       "      <td>NaN</td>\n",
       "      <td>NaN</td>\n",
       "      <td>1</td>\n",
       "    </tr>\n",
       "    <tr>\n",
       "      <th>1</th>\n",
       "      <td>NaN</td>\n",
       "      <td>NaN</td>\n",
       "      <td>NaN</td>\n",
       "      <td>NaN</td>\n",
       "      <td>NaN</td>\n",
       "      <td>NaN</td>\n",
       "      <td>NaN</td>\n",
       "      <td>NaN</td>\n",
       "      <td>NaN</td>\n",
       "      <td>NaN</td>\n",
       "      <td>...</td>\n",
       "      <td>NaN</td>\n",
       "      <td>NaN</td>\n",
       "      <td>1</td>\n",
       "      <td>NaN</td>\n",
       "      <td>NaN</td>\n",
       "      <td>NaN</td>\n",
       "      <td>NaN</td>\n",
       "      <td>NaN</td>\n",
       "      <td>NaN</td>\n",
       "      <td>0</td>\n",
       "    </tr>\n",
       "    <tr>\n",
       "      <th>2</th>\n",
       "      <td>NaN</td>\n",
       "      <td>NaN</td>\n",
       "      <td>NaN</td>\n",
       "      <td>NaN</td>\n",
       "      <td>NaN</td>\n",
       "      <td>NaN</td>\n",
       "      <td>NaN</td>\n",
       "      <td>NaN</td>\n",
       "      <td>NaN</td>\n",
       "      <td>NaN</td>\n",
       "      <td>...</td>\n",
       "      <td>6.466667</td>\n",
       "      <td>0.0</td>\n",
       "      <td>2</td>\n",
       "      <td>NaN</td>\n",
       "      <td>NaN</td>\n",
       "      <td>NaN</td>\n",
       "      <td>NaN</td>\n",
       "      <td>NaN</td>\n",
       "      <td>NaN</td>\n",
       "      <td>0</td>\n",
       "    </tr>\n",
       "    <tr>\n",
       "      <th>3</th>\n",
       "      <td>NaN</td>\n",
       "      <td>NaN</td>\n",
       "      <td>NaN</td>\n",
       "      <td>NaN</td>\n",
       "      <td>NaN</td>\n",
       "      <td>NaN</td>\n",
       "      <td>NaN</td>\n",
       "      <td>NaN</td>\n",
       "      <td>NaN</td>\n",
       "      <td>NaN</td>\n",
       "      <td>...</td>\n",
       "      <td>6.466667</td>\n",
       "      <td>0.0</td>\n",
       "      <td>3</td>\n",
       "      <td>NaN</td>\n",
       "      <td>NaN</td>\n",
       "      <td>NaN</td>\n",
       "      <td>NaN</td>\n",
       "      <td>NaN</td>\n",
       "      <td>NaN</td>\n",
       "      <td>0</td>\n",
       "    </tr>\n",
       "    <tr>\n",
       "      <th>4</th>\n",
       "      <td>NaN</td>\n",
       "      <td>NaN</td>\n",
       "      <td>NaN</td>\n",
       "      <td>NaN</td>\n",
       "      <td>NaN</td>\n",
       "      <td>NaN</td>\n",
       "      <td>NaN</td>\n",
       "      <td>NaN</td>\n",
       "      <td>NaN</td>\n",
       "      <td>NaN</td>\n",
       "      <td>...</td>\n",
       "      <td>6.466667</td>\n",
       "      <td>0.0</td>\n",
       "      <td>3</td>\n",
       "      <td>NaN</td>\n",
       "      <td>NaN</td>\n",
       "      <td>NaN</td>\n",
       "      <td>NaN</td>\n",
       "      <td>NaN</td>\n",
       "      <td>NaN</td>\n",
       "      <td>1</td>\n",
       "    </tr>\n",
       "  </tbody>\n",
       "</table>\n",
       "<p>5 rows × 91 columns</p>\n",
       "</div>"
      ],
      "text/plain": [
       "   data.basic_info.locale currentLocationCity currentLocationCountry  \\\n",
       "id                                                                     \n",
       "0                     NaN                 NaN                    NaN   \n",
       "1                     NaN                 NaN                    NaN   \n",
       "2                     NaN                 NaN                    NaN   \n",
       "3                     NaN                 NaN                    NaN   \n",
       "4                     NaN                 NaN                    NaN   \n",
       "\n",
       "   currentLocationName currentLocationState homeTownCity homeTownCountry  \\\n",
       "id                                                                         \n",
       "0                  NaN                  NaN          NaN             NaN   \n",
       "1                  NaN                  NaN          NaN             NaN   \n",
       "2                  NaN                  NaN          NaN             NaN   \n",
       "3                  NaN                  NaN          NaN             NaN   \n",
       "4                  NaN                  NaN          NaN             NaN   \n",
       "\n",
       "   homeTownName homeTownState topFriends  ...  Field_80 Field_81 Field_82  \\\n",
       "id                                        ...                               \n",
       "0           NaN           NaN        NaN  ...       NaN      NaN        1   \n",
       "1           NaN           NaN        NaN  ...       NaN      NaN        1   \n",
       "2           NaN           NaN        NaN  ...  6.466667      0.0        2   \n",
       "3           NaN           NaN        NaN  ...  6.466667      0.0        3   \n",
       "4           NaN           NaN        NaN  ...  6.466667      0.0        3   \n",
       "\n",
       "   Unnamed: 195 Unnamed: 196 Unnamed: 197 Unnamed: 198 Unnamed: 199  \\\n",
       "id                                                                    \n",
       "0           NaN          NaN          NaN          NaN          NaN   \n",
       "1           NaN          NaN          NaN          NaN          NaN   \n",
       "2           NaN          NaN          NaN          NaN          NaN   \n",
       "3           NaN          NaN          NaN          NaN          NaN   \n",
       "4           NaN          NaN          NaN          NaN          NaN   \n",
       "\n",
       "   Unnamed: 200 label  \n",
       "id                     \n",
       "0           NaN     1  \n",
       "1           NaN     0  \n",
       "2           NaN     0  \n",
       "3           NaN     0  \n",
       "4           NaN     1  \n",
       "\n",
       "[5 rows x 91 columns]"
      ]
     },
     "execution_count": 13,
     "metadata": {},
     "output_type": "execute_result"
    }
   ],
   "source": [
    "data_Duong.head()"
   ]
  },
  {
   "cell_type": "code",
   "execution_count": 14,
   "metadata": {},
   "outputs": [
    {
     "data": {
      "text/plain": [
       "Text(0.5, 1.0, 'Percentages of missing values in each column')"
      ]
     },
     "execution_count": 14,
     "metadata": {},
     "output_type": "execute_result"
    },
    {
     "data": {
      "image/png": "[encoded data removed]",
      "text/plain": [
       "<Figure size 1440x1080 with 1 Axes>"
      ]
     },
     "metadata": {
      "needs_background": "light"
     },
     "output_type": "display_data"
    }
   ],
   "source": [
    "na_counts= data_Duong.isna().sum().sort_values()\n",
    "fig, ax = plt.subplots(figsize= (20,15))\n",
    "total_samples= len(data_Duong)\n",
    "\n",
    "ax.bar(na_counts.index,na_counts.values/total_samples)\n",
    "ax.set_xlabel(\"column \", fontsize= 30)\n",
    "ax.set_ylabel(\"counts\", fontsize= 30)\n",
    "ax.set_xticklabels([])\n",
    "ax.set_title(\"Percentages of missing values in each column\", fontsize= 35)"
   ]
  },
  {
   "cell_type": "code",
   "execution_count": null,
   "metadata": {},
   "outputs": [],
   "source": [
    "corrs = data_Duong.corr()['label'].sort_values()\n",
    "# exclude nan corrs\n",
    "corrs = corrs[corrs.values < 1]\n",
    "\n",
    "fig, ax = plt.subplots(figsize= (20,15))\n",
    "total_samples= len(data_Duong)\n",
    "\n",
    "ax.bar(corrs.index, corrs.values)\n",
    "ax.set_xlabel(\"column \", fontsize= 30)\n",
    "ax.set_ylabel(\"correlation\", fontsize= 30)\n",
    "ax.set_xticklabels([])\n",
    "ax.set_title(\"Correlation with labels\", fontsize= 35)"
   ]
  },
  {
   "cell_type": "code",
   "execution_count": null,
   "metadata": {},
   "outputs": [],
   "source": [
    "pd.crosstab(data_Duong['label'],\\\n",
    "            data_Duong['homeTownCountry'], dropna= False)"
   ]
  },
  {
   "cell_type": "markdown",
   "metadata": {},
   "source": [
    "### Drop columns about geological info"
   ]
  },
  {
   "cell_type": "code",
   "execution_count": null,
   "metadata": {},
   "outputs": [],
   "source": [
    "useless_cols = ['data.basic_info.locale', 'currentLocationCity',\n",
    "       'currentLocationCountry', 'currentLocationName', 'currentLocationState',\n",
    "       'homeTownCity', 'homeTownCountry', 'homeTownName', 'homeTownState']\n",
    "data_Duong.drop(useless_cols, axis= 1, inplace= True)"
   ]
  },
  {
   "cell_type": "code",
   "execution_count": null,
   "metadata": {},
   "outputs": [],
   "source": [
    "len(data_Duong.columns)"
   ]
  },
  {
   "cell_type": "code",
   "execution_count": null,
   "metadata": {},
   "outputs": [],
   "source": [
    "for i, col in enumerate(data_Duong.columns):\n",
    "    print (i+1, \"/ Column name:\", col)\n",
    "    print(data_Duong[col].value_counts(dropna=False))"
   ]
  },
  {
   "cell_type": "markdown",
   "metadata": {},
   "source": [
    "### For info_social_sex column:"
   ]
  },
  {
   "cell_type": "code",
   "execution_count": null,
   "metadata": {},
   "outputs": [],
   "source": [
    "label_by_info_social_sex = data_Duong.groupby(['label'])\\\n",
    "                ['info_social_sex'].value_counts()\n",
    "df = pd.DataFrame(label_by_info_social_sex).rename({'info_social_sex':'counts'}, axis=1).reset_index()"
   ]
  },
  {
   "cell_type": "markdown",
   "metadata": {},
   "source": [
    "### Female has a slightly higher chance of having label 0.\n",
    "### For the existing values, there are more male than female customers."
   ]
  },
  {
   "cell_type": "code",
   "execution_count": null,
   "metadata": {},
   "outputs": [],
   "source": [
    "df['pct2'] = df['counts']/df['counts'].sum()\n",
    "import seaborn as sns\n",
    "\n",
    "fig, ax = plt.subplots(figsize= (15,8))\n",
    "sns.barplot(x= 'info_social_sex', y = 'pct2', \\\n",
    "            hue= 'label', data= df, ax=ax)\n",
    "\n",
    "ax.set_title(\"pct of Info social sex by label\")"
   ]
  },
  {
   "cell_type": "code",
   "execution_count": null,
   "metadata": {},
   "outputs": [],
   "source": [
    "print (\"percentages of male and female in column info_social_sex:\")\n",
    "info_social_sex_pct_original = data_Duong.info_social_sex.value_counts()/data_Duong.info_social_sex.value_counts().sum()\n",
    "info_social_sex_pct_original"
   ]
  },
  {
   "cell_type": "markdown",
   "metadata": {},
   "source": [
    "### We'll fill in missing values with 60% male and 40% female"
   ]
  },
  {
   "cell_type": "code",
   "execution_count": null,
   "metadata": {},
   "outputs": [],
   "source": [
    "random.seed(1976)\n",
    "\n",
    "info_social_sex_random = random.choice(info_social_sex_pct_original.index,\\\n",
    "                                       size= len(data_Duong),\\\n",
    "                                       p= info_social_sex_pct_original.values)\n",
    "#data_Duong = train_set[cols_Duong].copy()\n",
    "data_Duong['info_social_sex'] = np.where(data_Duong['info_social_sex'].isnull(),\\\n",
    "            info_social_sex_random,\\\n",
    "            data_Duong['info_social_sex'])"
   ]
  },
  {
   "cell_type": "code",
   "execution_count": null,
   "metadata": {},
   "outputs": [],
   "source": [
    "print (\"After filling all NAs...\")\n",
    "data_Duong['info_social_sex'].value_counts()/data_Duong['info_social_sex'].value_counts().sum()"
   ]
  },
  {
   "cell_type": "markdown",
   "metadata": {},
   "source": [
    "## subscriberCount column\n",
    "### Plot its distributions"
   ]
  },
  {
   "cell_type": "markdown",
   "metadata": {},
   "source": [
    "### A lot of missing values"
   ]
  },
  {
   "cell_type": "code",
   "execution_count": null,
   "metadata": {},
   "outputs": [],
   "source": [
    "data_Duong.subscriberCount.value_counts(dropna= False)"
   ]
  },
  {
   "cell_type": "markdown",
   "metadata": {},
   "source": [
    "## If subscriberCount > 60,000 then label = 0\n",
    "## We can use it as a factor to automatically fill in label later\n"
   ]
  },
  {
   "cell_type": "code",
   "execution_count": null,
   "metadata": {},
   "outputs": [],
   "source": [
    "sns.scatterplot(data_Duong.label, data_Duong.subscriberCount)"
   ]
  },
  {
   "cell_type": "markdown",
   "metadata": {},
   "source": [
    "### it seems like the more subsciber counts, the more likely its label will be 0"
   ]
  },
  {
   "cell_type": "code",
   "execution_count": null,
   "metadata": {},
   "outputs": [],
   "source": [
    "sns.set(style=\"whitegrid\")\n",
    "plt.rcParams[\"figure.figsize\"] = (15,8)\n",
    "\n",
    "sns.boxplot(x= 'label', y= 'subscriberCount', data= data_Duong[data_Duong.subscriberCount <100000])\n",
    "plt.suptitle(\"box plots of labels based on subscriberCount\")"
   ]
  },
  {
   "cell_type": "code",
   "execution_count": null,
   "metadata": {},
   "outputs": [],
   "source": [
    "sns.distplot(data_Duong[data_Duong.subscriberCount < 60000].subscriberCount)"
   ]
  },
  {
   "cell_type": "code",
   "execution_count": null,
   "metadata": {},
   "outputs": [],
   "source": [
    "print (\"General stats data_Duong.subscriberCount\")\n",
    "print (\"median   \", data_Duong.subscriberCount.median())\n",
    "print (data_Duong.subscriberCount.describe())"
   ]
  },
  {
   "cell_type": "markdown",
   "metadata": {},
   "source": [
    "## Fill in NAs of subscriberCount with mean and std\n"
   ]
  },
  {
   "cell_type": "code",
   "execution_count": null,
   "metadata": {},
   "outputs": [],
   "source": [
    "subscriberCount_random = data_Duong.subscriberCount.mean() + \\\n",
    "                    data_Duong.subscriberCount.std()*np.random.randn(len(data_Duong))\n",
    "subscriberCount_random = np.where(subscriberCount_random <0, 0, subscriberCount_random)"
   ]
  },
  {
   "cell_type": "code",
   "execution_count": null,
   "metadata": {},
   "outputs": [],
   "source": [
    "data_Duong['subscriberCount'] = np.where(data_Duong['subscriberCount'].isnull(), \\\n",
    "                                         subscriberCount_random,\n",
    "                                         data_Duong['subscriberCount'])"
   ]
  },
  {
   "cell_type": "code",
   "execution_count": null,
   "metadata": {},
   "outputs": [],
   "source": [
    "train_set[train_set.Field_36 =='SV'][['Field_36', 'Field_56', 'Field_65', 'maCv']]"
   ]
  },
  {
   "cell_type": "code",
   "execution_count": null,
   "metadata": {},
   "outputs": [],
   "source": [
    "train_set.brief.value_counts()"
   ]
  },
  {
   "cell_type": "code",
   "execution_count": null,
   "metadata": {},
   "outputs": [],
   "source": [
    "train_set[train_set.Field_42 != train_set.Field_41][['Field_42', 'Field_41']]"
   ]
  },
  {
   "cell_type": "code",
   "execution_count": null,
   "metadata": {},
   "outputs": [],
   "source": [
    "df2 = train_set[train_set.Field_42 != train_set.Field_41][['Field_42', 'Field_41']].dropna()\n",
    "\n",
    "df2"
   ]
  },
  {
   "cell_type": "code",
   "execution_count": null,
   "metadata": {},
   "outputs": [],
   "source": [
    "train_set.groupby('label').Field_36.value_counts()[0]/train_set.Field_36.value_counts()"
   ]
  },
  {
   "cell_type": "code",
   "execution_count": null,
   "metadata": {},
   "outputs": [],
   "source": [
    "train_set.groupby('label').Field_36.value_counts()[1]/train_set.Field_36.value_counts()"
   ]
  },
  {
   "cell_type": "code",
   "execution_count": null,
   "metadata": {},
   "outputs": [],
   "source": [
    "train_set.Field_36.value_counts()"
   ]
  },
  {
   "cell_type": "code",
   "execution_count": null,
   "metadata": {},
   "outputs": [],
   "source": [
    "sns.distplot(train_set.Field_20)"
   ]
  },
  {
   "cell_type": "code",
   "execution_count": null,
   "metadata": {},
   "outputs": [],
   "source": [
    "train_set.Field_21.value_counts()"
   ]
  },
  {
   "cell_type": "code",
   "execution_count": null,
   "metadata": {},
   "outputs": [],
   "source": [
    "train_set.groupby('label').Field_4.value_counts()"
   ]
  },
  {
   "cell_type": "code",
   "execution_count": null,
   "metadata": {},
   "outputs": [],
   "source": [
    "sns.distplot(data_Duong[data_Duong.subscriberCount < 60000].subscriberCount)"
   ]
  },
  {
   "cell_type": "markdown",
   "metadata": {},
   "source": [
    "# create custom columns"
   ]
  },
  {
   "cell_type": "markdown",
   "metadata": {},
   "source": [
    "### column diff_start_end_date = diff between E_startDate and E_endDate"
   ]
  },
  {
   "cell_type": "code",
   "execution_count": null,
   "metadata": {},
   "outputs": [],
   "source": [
    "from datetime import datetime\n",
    "\n",
    "data_Duong['E_endDate'] = data_Duong['E_endDate'].apply(lambda row: \\\n",
    "              datetime.strptime('1900-01-01', '%Y-%m-%d') \\\n",
    "                    if row is np.nan \\\n",
    "                else datetime.strptime(row, '%Y-%m-%d'))\n",
    "\n",
    "data_Duong['E_startDate'] = data_Duong['E_startDate'].apply(lambda row: \\\n",
    "              datetime.strptime('1900-01-01', '%Y-%m-%d') \\\n",
    "                    if row is np.nan \\\n",
    "                else datetime.strptime(row, '%Y-%m-%d'))\n",
    "\n",
    "\n",
    "data_Duong['F_endDate'] = data_Duong['F_endDate'].apply(lambda row: \\\n",
    "              datetime.strptime('1900-01-01', '%Y-%m-%d') \\\n",
    "                    if row is np.nan \\\n",
    "                else datetime.strptime(row, '%Y-%m-%d'))\n",
    "\n",
    "data_Duong['F_startDate'] = data_Duong['F_startDate'].apply(lambda row: \\\n",
    "              datetime.strptime('1900-01-01', '%Y-%m-%d') \\\n",
    "                    if row is np.nan \\\n",
    "                else datetime.strptime(row, '%Y-%m-%d'))\n",
    "\n",
    "data_Duong['G_startDate'] = data_Duong['G_startDate'].apply(lambda row: \\\n",
    "              datetime.strptime('1900-01-01', '%Y-%m-%d') \\\n",
    "                    if row is np.nan \\\n",
    "                else datetime.strptime(row, '%Y-%m-%d'))\n",
    "\n",
    "data_Duong['G_endDate'] = data_Duong['G_endDate'].apply(lambda row: \\\n",
    "              datetime.strptime('1900-01-01', '%Y-%m-%d') \\\n",
    "                    if row is np.nan \\\n",
    "                else datetime.strptime(row, '%Y-%m-%d'))               \n",
    "\n",
    "\n",
    "data_Duong['A_endDate'] = data_Duong['A_endDate'].apply(lambda row: \\\n",
    "              datetime.strptime('1900-01-01', '%Y-%m-%d') \\\n",
    "                    if row is np.nan \\\n",
    "                else datetime.strptime(row, '%Y-%m-%d'))\n",
    "\n",
    "data_Duong['A_startDate'] = data_Duong['A_startDate'].apply(lambda row: \\\n",
    "              datetime.strptime('1900-01-01', '%Y-%m-%d') \\\n",
    "                    if row is np.nan \\\n",
    "                else datetime.strptime(row, '%Y-%m-%d'))               "
   ]
  },
  {
   "cell_type": "markdown",
   "metadata": {},
   "source": [
    "## *letter*_diff_date = diff between *letter*_startDate and *letter*_endDate"
   ]
  },
  {
   "cell_type": "code",
   "execution_count": null,
   "metadata": {},
   "outputs": [],
   "source": [
    "data_Duong[['E_endDate', 'F_endDate']]"
   ]
  },
  {
   "cell_type": "code",
   "execution_count": null,
   "metadata": {},
   "outputs": [],
   "source": [
    "train_set.Field_1"
   ]
  },
  {
   "cell_type": "code",
   "execution_count": null,
   "metadata": {},
   "outputs": [],
   "source": [
    "data_Duong['E_diff_date']= data_Duong['E_endDate'] - data_Duong['E_startDate']\n",
    "\n",
    "data_Duong['F_diff_date']= data_Duong['F_endDate'] - data_Duong['F_startDate']\n",
    "\n",
    "data_Duong['G_diff_date']= data_Duong['G_endDate'] - data_Duong['G_startDate']\n",
    "\n",
    "data_Duong['A_diff_date']= data_Duong['A_endDate'] - data_Duong['A_startDate']"
   ]
  },
  {
   "cell_type": "code",
   "execution_count": null,
   "metadata": {},
   "outputs": [],
   "source": [
    "E_diff_date_counts = data_Duong['E_diff_date'].value_counts()"
   ]
  },
  {
   "cell_type": "code",
   "execution_count": null,
   "metadata": {},
   "outputs": [],
   "source": [
    "E_diff_date_counts"
   ]
  },
  {
   "cell_type": "code",
   "execution_count": null,
   "metadata": {},
   "outputs": [],
   "source": [
    "plt.bar(E_diff_date_counts.index, E_diff_date_counts.values)"
   ]
  },
  {
   "cell_type": "code",
   "execution_count": null,
   "metadata": {},
   "outputs": [],
   "source": []
  },
  {
   "cell_type": "code",
   "execution_count": null,
   "metadata": {},
   "outputs": [],
   "source": []
  },
  {
   "cell_type": "code",
   "execution_count": null,
   "metadata": {},
   "outputs": [],
   "source": []
  },
  {
   "cell_type": "code",
   "execution_count": null,
   "metadata": {},
   "outputs": [],
   "source": []
  },
  {
   "cell_type": "markdown",
   "metadata": {},
   "source": [
    "## Explore topfriends"
   ]
  },
  {
   "cell_type": "code",
   "execution_count": null,
   "metadata": {},
   "outputs": [],
   "source": [
    "topFriends_counts"
   ]
  },
  {
   "cell_type": "code",
   "execution_count": null,
   "metadata": {},
   "outputs": [],
   "source": [
    "train_set['E_endDate'].equals(train_set['G_endDate'])"
   ]
  },
  {
   "cell_type": "code",
   "execution_count": null,
   "metadata": {},
   "outputs": [],
   "source": [
    "train_set[['Field_14','Field_16']].drop_duplicates()"
   ]
  },
  {
   "cell_type": "code",
   "execution_count": null,
   "metadata": {},
   "outputs": [],
   "source": [
    "for i in range(10):\n",
    "    if (i%3 == 0):\n",
    "        continue\n",
    "    print (i)"
   ]
  }
 ],
 "metadata": {
  "kernelspec": {
   "display_name": "Python 3",
   "language": "python",
   "name": "python3"
  },
  "language_info": {
   "codemirror_mode": {
    "name": "ipython",
    "version": 3
   },
   "file_extension": ".py",
   "mimetype": "text/x-python",
   "name": "python",
   "nbconvert_exporter": "python",
   "pygments_lexer": "ipython3",
   "version": "3.7.5"
  }
 },
 "nbformat": 4,
 "nbformat_minor": 4
}
