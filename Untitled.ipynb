{
 "cells": [
  {
   "cell_type": "code",
   "execution_count": 7,
   "metadata": {},
   "outputs": [],
   "source": [
    "import findspark\n",
    "findspark.init()\n",
    "from pyspark import SparkConf, SparkContext\n",
    "from pyspark.sql import SQLContext, SparkSession\n",
    "from pyspark.sql.types import *\n",
    "from pyspark.ml.feature import OneHotEncoder, StringIndexer, VectorAssembler\n",
    "from pyspark.sql import functions as F\n",
    "from pyspark.ml import Pipeline\n",
    "\n",
    "\n",
    "spark = SparkSession.builder \\\n",
    "    .master(\"local\") \\\n",
    "    .appName(\"ecommercehw\") \\\n",
    "    .getOrCreate()\n",
    "\n",
    "\n",
    "eCommerce = spark.read.csv('eCommerce.csv', header='true')"
   ]
  },
  {
   "cell_type": "markdown",
   "metadata": {},
   "source": [
    "## Step 1. Get needed columns and split data into train and test"
   ]
  },
  {
   "cell_type": "code",
   "execution_count": 63,
   "metadata": {},
   "outputs": [],
   "source": [
    "split_col  = F.split(eCommerce['category_code'], '\\.')\n",
    "eCommerce= eCommerce.withColumn('category', split_col.getItem(0))\n",
    "data = eCommerce.selectExpr(['category', 'brand', 'price', 'event_type as label'])"
   ]
  },
  {
   "cell_type": "code",
   "execution_count": 81,
   "metadata": {},
   "outputs": [
    {
     "name": "stdout",
     "output_type": "stream",
     "text": [
      "+--------+-------+\n",
      "|   label|  count|\n",
      "+--------+-------+\n",
      "|purchase| 181846|\n",
      "|    view|8316245|\n",
      "|    cart| 266914|\n",
      "+--------+-------+\n",
      "\n"
     ]
    }
   ],
   "source": [
    "data.groupBy('label').count().show()"
   ]
  },
  {
   "cell_type": "code",
   "execution_count": null,
   "metadata": {},
   "outputs": [],
   "source": []
  },
  {
   "cell_type": "code",
   "execution_count": null,
   "metadata": {},
   "outputs": [],
   "source": []
  },
  {
   "cell_type": "markdown",
   "metadata": {},
   "source": [
    "## One hot encode the columns"
   ]
  },
  {
   "cell_type": "code",
   "execution_count": 70,
   "metadata": {},
   "outputs": [],
   "source": [
    "cat_cols = ['category', 'brand']\n",
    "string_indexer = StringIndexer(inputCols= cat_cols, \\\n",
    "                               outputCols=[col+'_index' for col in cat_cols])\n",
    "onehot_encoder = OneHotEncoder(inputCols= [col+'_index' for col in cat_cols],\\\n",
    "                      outputCols= [col+'_onehot' for col in cat_cols])\n"
   ]
  },
  {
   "cell_type": "code",
   "execution_count": 73,
   "metadata": {},
   "outputs": [],
   "source": [
    "pipeline = Pipeline(stages=[string_indexer, onehot_encoder])\n",
    "\n",
    "pipeline_model = pipeline.fit(data)"
   ]
  },
  {
   "cell_type": "code",
   "execution_count": 75,
   "metadata": {},
   "outputs": [
    {
     "name": "stdout",
     "output_type": "stream",
     "text": [
      "+-----------+-------+------+-----+--------------+-----------+---------------+------------------+\n",
      "|   category|  brand| price|label|category_index|brand_index|category_onehot|      brand_onehot|\n",
      "+-----------+-------+------+-----+--------------+-----------+---------------+------------------+\n",
      "|electronics| huawei|270.42| view|           0.0|        3.0| (12,[0],[1.0])|  (1675,[3],[1.0])|\n",
      "|electronics|  yasin|359.08| view|           0.0|       65.0| (12,[0],[1.0])| (1675,[65],[1.0])|\n",
      "| appliances|almacom|180.16| view|           1.0|      116.0| (12,[1],[1.0])|(1675,[116],[1.0])|\n",
      "|    apparel|respect| 44.79| view|           3.0|       11.0| (12,[3],[1.0])| (1675,[11],[1.0])|\n",
      "|electronics|samsung|150.95| view|           0.0|        0.0| (12,[0],[1.0])|  (1675,[0],[1.0])|\n",
      "+-----------+-------+------+-----+--------------+-----------+---------------+------------------+\n",
      "only showing top 5 rows\n",
      "\n"
     ]
    }
   ],
   "source": [
    "pipeline_model.transform(data).show(5)"
   ]
  },
  {
   "cell_type": "code",
   "execution_count": null,
   "metadata": {},
   "outputs": [],
   "source": []
  }
 ],
 "metadata": {
  "kernelspec": {
   "display_name": "Python 3",
   "language": "python",
   "name": "python3"
  },
  "language_info": {
   "codemirror_mode": {
    "name": "ipython",
    "version": 3
   },
   "file_extension": ".py",
   "mimetype": "text/x-python",
   "name": "python",
   "nbconvert_exporter": "python",
   "pygments_lexer": "ipython3",
   "version": "3.7.8"
  }
 },
 "nbformat": 4,
 "nbformat_minor": 4
}
