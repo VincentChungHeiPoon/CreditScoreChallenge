{
 "cells": [
  {
   "cell_type": "code",
   "execution_count": 23,
   "metadata": {},
   "outputs": [],
   "source": [
    "import numpy as np\n",
    "import pandas as pd\n",
    "import matplotlib.pyplot as plt\n",
    "from numpy import random\n",
    "\n",
    "# ignore all warnings\n",
    "import warnings\n",
    "warnings.filterwarnings(\"ignore\")\n",
    "\n",
    "\n",
    "# import data\n",
    "train_set= pd.read_csv('./Data/train.csv', index_col= 'id')\n",
    "test_set= pd.read_csv('./Data/test.csv', index_col= 'id')\n"
   ]
  },
  {
   "cell_type": "code",
   "execution_count": 27,
   "metadata": {},
   "outputs": [],
   "source": [
    "# store all duplicated columns\n",
    "duplicated_cols_dict= {}\n",
    "duplicated_cols_list_full = []\n",
    "\n",
    "\n",
    "# THIS FUNCTION is to drop all duplicates columns\n",
    "for i, col in enumerate(train_set.columns):\n",
    "    duplicated_cols_list= []\n",
    "    # if the col is already one of the keys\n",
    "    # then skip\n",
    "    if col in duplicated_cols_list_full:\n",
    "        continue\n",
    "    for c in train_set.columns:\n",
    "        if (train_set[col].equals(train_set[c])):\n",
    "            duplicated_cols_list.append(c)\n",
    "            duplicated_cols_list_full.append(c)\n",
    "        \n",
    "           \n",
    "    if (len(duplicated_cols_list) > 1):\n",
    "        duplicated_cols_dict[col] = duplicated_cols_list   "
   ]
  },
  {
   "cell_type": "code",
   "execution_count": 28,
   "metadata": {},
   "outputs": [],
   "source": [
    "from matplotlib.cbook import flatten\n",
    "\n",
    "# determine duplicated columns to drop\n",
    "drop_cols = set(list(flatten(list(duplicated_cols_dict.values())))) - set(duplicated_cols_dict.keys())"
   ]
  },
  {
   "cell_type": "code",
   "execution_count": 31,
   "metadata": {},
   "outputs": [],
   "source": [
    "# drop the duplicates\n",
    "\n",
    "train_set= train_set.drop(drop_cols, axis= 1)\n",
    "test_set= test_set.drop(drop_cols, axis= 1)"
   ]
  },
  {
   "cell_type": "code",
   "execution_count": 35,
   "metadata": {
    "scrolled": true
   },
   "outputs": [],
   "source": [
    "cols_Vincent = train_set.columns[:int(len(train_set.columns)/2)]\n",
    "cols_Duong = train_set.columns[int(len(train_set.columns)/2):]"
   ]
  },
  {
   "cell_type": "code",
   "execution_count": 36,
   "metadata": {},
   "outputs": [
    {
     "data": {
      "text/plain": [
       "Text(0.5, 1.0, 'Percentages of missing values in each column')"
      ]
     },
     "execution_count": 36,
     "metadata": {},
     "output_type": "execute_result"
    },
    {
     "data": {
      "image/png": "[encoded data removed]",
      "text/plain": [
       "<Figure size 1440x1080 with 1 Axes>"
      ]
     },
     "metadata": {
      "needs_background": "light"
     },
     "output_type": "display_data"
    }
   ],
   "source": [
    "na_counts= train_set.isna().sum().sort_values()\n",
    "fig, ax = plt.subplots(figsize= (20,15))\n",
    "total_samples= len(train_set)\n",
    "\n",
    "ax.bar(na_counts.index,na_counts.values/total_samples)\n",
    "ax.set_xlabel(\"column \", fontsize= 30)\n",
    "ax.set_ylabel(\"counts\", fontsize= 30)\n",
    "ax.set_xticklabels([])\n",
    "ax.set_title(\"Percentages of missing values in each column\", fontsize= 35)"
   ]
  },
  {
   "cell_type": "code",
   "execution_count": 37,
   "metadata": {},
   "outputs": [
    {
     "data": {
      "text/html": [
       "<div>\n",
       "<style scoped>\n",
       "    .dataframe tbody tr th:only-of-type {\n",
       "        vertical-align: middle;\n",
       "    }\n",
       "\n",
       "    .dataframe tbody tr th {\n",
       "        vertical-align: top;\n",
       "    }\n",
       "\n",
       "    .dataframe thead th {\n",
       "        text-align: right;\n",
       "    }\n",
       "</style>\n",
       "<table border=\"1\" class=\"dataframe\">\n",
       "  <thead>\n",
       "    <tr style=\"text-align: right;\">\n",
       "      <th></th>\n",
       "      <th>label</th>\n",
       "      <th>Field_3</th>\n",
       "      <th>Field_10</th>\n",
       "      <th>Field_13</th>\n",
       "      <th>Field_19</th>\n",
       "      <th>Field_20</th>\n",
       "      <th>Field_21</th>\n",
       "      <th>Field_22</th>\n",
       "      <th>Field_23</th>\n",
       "      <th>Field_27</th>\n",
       "      <th>...</th>\n",
       "      <th>partner4_L</th>\n",
       "      <th>partner5_A</th>\n",
       "      <th>partner5_D</th>\n",
       "      <th>partner5_G</th>\n",
       "      <th>num_of_phone</th>\n",
       "      <th>Field_78</th>\n",
       "      <th>Field_79</th>\n",
       "      <th>Field_80</th>\n",
       "      <th>Field_81</th>\n",
       "      <th>Field_82</th>\n",
       "    </tr>\n",
       "  </thead>\n",
       "  <tbody>\n",
       "    <tr>\n",
       "      <th>count</th>\n",
       "      <td>53030.000000</td>\n",
       "      <td>25564.000000</td>\n",
       "      <td>25564.000000</td>\n",
       "      <td>25564.0</td>\n",
       "      <td>25564.000000</td>\n",
       "      <td>2.556400e+04</td>\n",
       "      <td>25564.000000</td>\n",
       "      <td>25564.000000</td>\n",
       "      <td>25564.000000</td>\n",
       "      <td>2.556400e+04</td>\n",
       "      <td>...</td>\n",
       "      <td>48283.000000</td>\n",
       "      <td>48283.000000</td>\n",
       "      <td>48283.000000</td>\n",
       "      <td>48283.000000</td>\n",
       "      <td>50518.000000</td>\n",
       "      <td>36397.00000</td>\n",
       "      <td>27782.000000</td>\n",
       "      <td>36320.000000</td>\n",
       "      <td>35981.000000</td>\n",
       "      <td>53030.000000</td>\n",
       "    </tr>\n",
       "    <tr>\n",
       "      <th>mean</th>\n",
       "      <td>0.316726</td>\n",
       "      <td>1.538687</td>\n",
       "      <td>1.096542</td>\n",
       "      <td>1.0</td>\n",
       "      <td>0.267022</td>\n",
       "      <td>3.603181e+06</td>\n",
       "      <td>4.485331</td>\n",
       "      <td>0.999452</td>\n",
       "      <td>31.472540</td>\n",
       "      <td>2.252840e+05</td>\n",
       "      <td>...</td>\n",
       "      <td>0.306464</td>\n",
       "      <td>0.254334</td>\n",
       "      <td>0.000124</td>\n",
       "      <td>0.000041</td>\n",
       "      <td>1.087236</td>\n",
       "      <td>20.80144</td>\n",
       "      <td>30.911307</td>\n",
       "      <td>-1.793163</td>\n",
       "      <td>-32.149412</td>\n",
       "      <td>1.668659</td>\n",
       "    </tr>\n",
       "    <tr>\n",
       "      <th>std</th>\n",
       "      <td>0.465204</td>\n",
       "      <td>0.498511</td>\n",
       "      <td>0.332593</td>\n",
       "      <td>0.0</td>\n",
       "      <td>0.835968</td>\n",
       "      <td>2.282034e+06</td>\n",
       "      <td>0.281697</td>\n",
       "      <td>0.053069</td>\n",
       "      <td>46.238001</td>\n",
       "      <td>8.423081e+05</td>\n",
       "      <td>...</td>\n",
       "      <td>0.461030</td>\n",
       "      <td>0.435491</td>\n",
       "      <td>0.011147</td>\n",
       "      <td>0.006436</td>\n",
       "      <td>0.297815</td>\n",
       "      <td>40.10993</td>\n",
       "      <td>35.968215</td>\n",
       "      <td>32.176041</td>\n",
       "      <td>63.442452</td>\n",
       "      <td>1.090910</td>\n",
       "    </tr>\n",
       "    <tr>\n",
       "      <th>min</th>\n",
       "      <td>0.000000</td>\n",
       "      <td>1.000000</td>\n",
       "      <td>0.000000</td>\n",
       "      <td>1.0</td>\n",
       "      <td>0.000000</td>\n",
       "      <td>0.000000e+00</td>\n",
       "      <td>0.000000</td>\n",
       "      <td>0.000000</td>\n",
       "      <td>0.000000</td>\n",
       "      <td>0.000000e+00</td>\n",
       "      <td>...</td>\n",
       "      <td>0.000000</td>\n",
       "      <td>0.000000</td>\n",
       "      <td>0.000000</td>\n",
       "      <td>0.000000</td>\n",
       "      <td>1.000000</td>\n",
       "      <td>-267.00000</td>\n",
       "      <td>0.000000</td>\n",
       "      <td>-267.000000</td>\n",
       "      <td>-290.000000</td>\n",
       "      <td>1.000000</td>\n",
       "    </tr>\n",
       "    <tr>\n",
       "      <th>25%</th>\n",
       "      <td>0.000000</td>\n",
       "      <td>1.000000</td>\n",
       "      <td>1.000000</td>\n",
       "      <td>1.0</td>\n",
       "      <td>0.000000</td>\n",
       "      <td>1.490000e+06</td>\n",
       "      <td>4.500000</td>\n",
       "      <td>1.000000</td>\n",
       "      <td>1.000000</td>\n",
       "      <td>0.000000e+00</td>\n",
       "      <td>...</td>\n",
       "      <td>0.000000</td>\n",
       "      <td>0.000000</td>\n",
       "      <td>0.000000</td>\n",
       "      <td>0.000000</td>\n",
       "      <td>1.000000</td>\n",
       "      <td>4.00000</td>\n",
       "      <td>5.326888</td>\n",
       "      <td>-5.600000</td>\n",
       "      <td>-69.000000</td>\n",
       "      <td>1.000000</td>\n",
       "    </tr>\n",
       "    <tr>\n",
       "      <th>50%</th>\n",
       "      <td>0.000000</td>\n",
       "      <td>2.000000</td>\n",
       "      <td>1.000000</td>\n",
       "      <td>1.0</td>\n",
       "      <td>0.000000</td>\n",
       "      <td>3.801000e+06</td>\n",
       "      <td>4.500000</td>\n",
       "      <td>1.000000</td>\n",
       "      <td>14.000000</td>\n",
       "      <td>0.000000e+00</td>\n",
       "      <td>...</td>\n",
       "      <td>0.000000</td>\n",
       "      <td>0.000000</td>\n",
       "      <td>0.000000</td>\n",
       "      <td>0.000000</td>\n",
       "      <td>1.000000</td>\n",
       "      <td>16.00000</td>\n",
       "      <td>15.556349</td>\n",
       "      <td>2.086957</td>\n",
       "      <td>0.000000</td>\n",
       "      <td>1.000000</td>\n",
       "    </tr>\n",
       "    <tr>\n",
       "      <th>75%</th>\n",
       "      <td>1.000000</td>\n",
       "      <td>2.000000</td>\n",
       "      <td>1.000000</td>\n",
       "      <td>1.0</td>\n",
       "      <td>0.000000</td>\n",
       "      <td>4.500000e+06</td>\n",
       "      <td>4.500000</td>\n",
       "      <td>1.000000</td>\n",
       "      <td>40.000000</td>\n",
       "      <td>0.000000e+00</td>\n",
       "      <td>...</td>\n",
       "      <td>1.000000</td>\n",
       "      <td>1.000000</td>\n",
       "      <td>0.000000</td>\n",
       "      <td>0.000000</td>\n",
       "      <td>1.000000</td>\n",
       "      <td>36.00000</td>\n",
       "      <td>46.013087</td>\n",
       "      <td>9.500000</td>\n",
       "      <td>1.000000</td>\n",
       "      <td>2.000000</td>\n",
       "    </tr>\n",
       "    <tr>\n",
       "      <th>max</th>\n",
       "      <td>1.000000</td>\n",
       "      <td>2.000000</td>\n",
       "      <td>5.000000</td>\n",
       "      <td>1.0</td>\n",
       "      <td>6.864000</td>\n",
       "      <td>2.980000e+07</td>\n",
       "      <td>6.000000</td>\n",
       "      <td>2.000000</td>\n",
       "      <td>464.000000</td>\n",
       "      <td>2.000000e+07</td>\n",
       "      <td>...</td>\n",
       "      <td>1.000000</td>\n",
       "      <td>1.000000</td>\n",
       "      <td>1.000000</td>\n",
       "      <td>1.000000</td>\n",
       "      <td>5.000000</td>\n",
       "      <td>242.00000</td>\n",
       "      <td>325.976226</td>\n",
       "      <td>238.000000</td>\n",
       "      <td>238.000000</td>\n",
       "      <td>4.000000</td>\n",
       "    </tr>\n",
       "  </tbody>\n",
       "</table>\n",
       "<p>8 rows × 89 columns</p>\n",
       "</div>"
      ],
      "text/plain": [
       "              label       Field_3      Field_10  Field_13      Field_19  \\\n",
       "count  53030.000000  25564.000000  25564.000000   25564.0  25564.000000   \n",
       "mean       0.316726      1.538687      1.096542       1.0      0.267022   \n",
       "std        0.465204      0.498511      0.332593       0.0      0.835968   \n",
       "min        0.000000      1.000000      0.000000       1.0      0.000000   \n",
       "25%        0.000000      1.000000      1.000000       1.0      0.000000   \n",
       "50%        0.000000      2.000000      1.000000       1.0      0.000000   \n",
       "75%        1.000000      2.000000      1.000000       1.0      0.000000   \n",
       "max        1.000000      2.000000      5.000000       1.0      6.864000   \n",
       "\n",
       "           Field_20      Field_21      Field_22      Field_23      Field_27  \\\n",
       "count  2.556400e+04  25564.000000  25564.000000  25564.000000  2.556400e+04   \n",
       "mean   3.603181e+06      4.485331      0.999452     31.472540  2.252840e+05   \n",
       "std    2.282034e+06      0.281697      0.053069     46.238001  8.423081e+05   \n",
       "min    0.000000e+00      0.000000      0.000000      0.000000  0.000000e+00   \n",
       "25%    1.490000e+06      4.500000      1.000000      1.000000  0.000000e+00   \n",
       "50%    3.801000e+06      4.500000      1.000000     14.000000  0.000000e+00   \n",
       "75%    4.500000e+06      4.500000      1.000000     40.000000  0.000000e+00   \n",
       "max    2.980000e+07      6.000000      2.000000    464.000000  2.000000e+07   \n",
       "\n",
       "       ...    partner4_L    partner5_A    partner5_D    partner5_G  \\\n",
       "count  ...  48283.000000  48283.000000  48283.000000  48283.000000   \n",
       "mean   ...      0.306464      0.254334      0.000124      0.000041   \n",
       "std    ...      0.461030      0.435491      0.011147      0.006436   \n",
       "min    ...      0.000000      0.000000      0.000000      0.000000   \n",
       "25%    ...      0.000000      0.000000      0.000000      0.000000   \n",
       "50%    ...      0.000000      0.000000      0.000000      0.000000   \n",
       "75%    ...      1.000000      1.000000      0.000000      0.000000   \n",
       "max    ...      1.000000      1.000000      1.000000      1.000000   \n",
       "\n",
       "       num_of_phone     Field_78      Field_79      Field_80      Field_81  \\\n",
       "count  50518.000000  36397.00000  27782.000000  36320.000000  35981.000000   \n",
       "mean       1.087236     20.80144     30.911307     -1.793163    -32.149412   \n",
       "std        0.297815     40.10993     35.968215     32.176041     63.442452   \n",
       "min        1.000000   -267.00000      0.000000   -267.000000   -290.000000   \n",
       "25%        1.000000      4.00000      5.326888     -5.600000    -69.000000   \n",
       "50%        1.000000     16.00000     15.556349      2.086957      0.000000   \n",
       "75%        1.000000     36.00000     46.013087      9.500000      1.000000   \n",
       "max        5.000000    242.00000    325.976226    238.000000    238.000000   \n",
       "\n",
       "           Field_82  \n",
       "count  53030.000000  \n",
       "mean       1.668659  \n",
       "std        1.090910  \n",
       "min        1.000000  \n",
       "25%        1.000000  \n",
       "50%        1.000000  \n",
       "75%        2.000000  \n",
       "max        4.000000  \n",
       "\n",
       "[8 rows x 89 columns]"
      ]
     },
     "execution_count": 37,
     "metadata": {},
     "output_type": "execute_result"
    }
   ],
   "source": [
    "train_set.describe()"
   ]
  },
  {
   "cell_type": "code",
   "execution_count": 38,
   "metadata": {},
   "outputs": [
    {
     "name": "stdout",
     "output_type": "stream",
     "text": [
      "Labels count\n"
     ]
    },
    {
     "data": {
      "text/plain": [
       "0    36234\n",
       "1    16796\n",
       "Name: label, dtype: int64"
      ]
     },
     "execution_count": 38,
     "metadata": {},
     "output_type": "execute_result"
    }
   ],
   "source": [
    "print (\"Labels count\")\n",
    "train_set.label.value_counts()"
   ]
  },
  {
   "cell_type": "code",
   "execution_count": 39,
   "metadata": {},
   "outputs": [
    {
     "data": {
      "text/plain": [
       "Text(0.5, 1.0, 'Correlation with labels')"
      ]
     },
     "execution_count": 39,
     "metadata": {},
     "output_type": "execute_result"
    },
    {
     "data": {
      "image/png": "[encoded data removed]",
      "text/plain": [
       "<Figure size 1440x1080 with 1 Axes>"
      ]
     },
     "metadata": {
      "needs_background": "light"
     },
     "output_type": "display_data"
    }
   ],
   "source": [
    "corrs = train_set.corr()['label'].sort_values()\n",
    "# exclude nan corrs\n",
    "corrs = corrs[corrs.values < 1]\n",
    "\n",
    "fig, ax = plt.subplots(figsize= (20,15))\n",
    "total_samples= len(train_set)\n",
    "\n",
    "ax.bar(corrs.index,corrs.values)\n",
    "ax.set_xlabel(\"column \", fontsize= 30)\n",
    "ax.set_ylabel(\"correlation\", fontsize= 30)\n",
    "ax.set_xticklabels([])\n",
    "ax.set_title(\"Correlation with labels\", fontsize= 35)"
   ]
  },
  {
   "cell_type": "markdown",
   "metadata": {},
   "source": [
    "## Duong's part"
   ]
  },
  {
   "cell_type": "code",
   "execution_count": 40,
   "metadata": {},
   "outputs": [],
   "source": [
    "data_Duong = train_set[cols_Duong].copy()\n",
    "\n",
    "data_Duong['label']= train_set['label'].values"
   ]
  },
  {
   "cell_type": "code",
   "execution_count": 41,
   "metadata": {},
   "outputs": [
    {
     "data": {
      "text/html": [
       "<div>\n",
       "<style scoped>\n",
       "    .dataframe tbody tr th:only-of-type {\n",
       "        vertical-align: middle;\n",
       "    }\n",
       "\n",
       "    .dataframe tbody tr th {\n",
       "        vertical-align: top;\n",
       "    }\n",
       "\n",
       "    .dataframe thead th {\n",
       "        text-align: right;\n",
       "    }\n",
       "</style>\n",
       "<table border=\"1\" class=\"dataframe\">\n",
       "  <thead>\n",
       "    <tr style=\"text-align: right;\">\n",
       "      <th></th>\n",
       "      <th>info_social_sex</th>\n",
       "      <th>subscriberCount</th>\n",
       "      <th>currentLocationLocationId</th>\n",
       "      <th>currentLocationLatitude</th>\n",
       "      <th>currentLocationLongitude</th>\n",
       "      <th>homeTownLocationId</th>\n",
       "      <th>homeTownLatitude</th>\n",
       "      <th>homeTownLongitude</th>\n",
       "      <th>data.basic_info.locale</th>\n",
       "      <th>currentLocationCity</th>\n",
       "      <th>...</th>\n",
       "      <th>partner5_D</th>\n",
       "      <th>partner5_G</th>\n",
       "      <th>brief</th>\n",
       "      <th>num_of_phone</th>\n",
       "      <th>Field_78</th>\n",
       "      <th>Field_79</th>\n",
       "      <th>Field_80</th>\n",
       "      <th>Field_81</th>\n",
       "      <th>Field_82</th>\n",
       "      <th>label</th>\n",
       "    </tr>\n",
       "    <tr>\n",
       "      <th>id</th>\n",
       "      <th></th>\n",
       "      <th></th>\n",
       "      <th></th>\n",
       "      <th></th>\n",
       "      <th></th>\n",
       "      <th></th>\n",
       "      <th></th>\n",
       "      <th></th>\n",
       "      <th></th>\n",
       "      <th></th>\n",
       "      <th></th>\n",
       "      <th></th>\n",
       "      <th></th>\n",
       "      <th></th>\n",
       "      <th></th>\n",
       "      <th></th>\n",
       "      <th></th>\n",
       "      <th></th>\n",
       "      <th></th>\n",
       "      <th></th>\n",
       "      <th></th>\n",
       "    </tr>\n",
       "  </thead>\n",
       "  <tbody>\n",
       "    <tr>\n",
       "      <th>0</th>\n",
       "      <td>NaN</td>\n",
       "      <td>NaN</td>\n",
       "      <td>NaN</td>\n",
       "      <td>NaN</td>\n",
       "      <td>NaN</td>\n",
       "      <td>NaN</td>\n",
       "      <td>NaN</td>\n",
       "      <td>NaN</td>\n",
       "      <td>NaN</td>\n",
       "      <td>NaN</td>\n",
       "      <td>...</td>\n",
       "      <td>0.0</td>\n",
       "      <td>0.0</td>\n",
       "      <td>cb1</td>\n",
       "      <td>1.0</td>\n",
       "      <td>NaN</td>\n",
       "      <td>NaN</td>\n",
       "      <td>NaN</td>\n",
       "      <td>NaN</td>\n",
       "      <td>1</td>\n",
       "      <td>1</td>\n",
       "    </tr>\n",
       "    <tr>\n",
       "      <th>1</th>\n",
       "      <td>NaN</td>\n",
       "      <td>NaN</td>\n",
       "      <td>NaN</td>\n",
       "      <td>NaN</td>\n",
       "      <td>NaN</td>\n",
       "      <td>NaN</td>\n",
       "      <td>NaN</td>\n",
       "      <td>NaN</td>\n",
       "      <td>NaN</td>\n",
       "      <td>NaN</td>\n",
       "      <td>...</td>\n",
       "      <td>0.0</td>\n",
       "      <td>0.0</td>\n",
       "      <td>4</td>\n",
       "      <td>1.0</td>\n",
       "      <td>NaN</td>\n",
       "      <td>NaN</td>\n",
       "      <td>NaN</td>\n",
       "      <td>NaN</td>\n",
       "      <td>1</td>\n",
       "      <td>0</td>\n",
       "    </tr>\n",
       "    <tr>\n",
       "      <th>2</th>\n",
       "      <td>NaN</td>\n",
       "      <td>NaN</td>\n",
       "      <td>NaN</td>\n",
       "      <td>NaN</td>\n",
       "      <td>NaN</td>\n",
       "      <td>NaN</td>\n",
       "      <td>NaN</td>\n",
       "      <td>NaN</td>\n",
       "      <td>NaN</td>\n",
       "      <td>NaN</td>\n",
       "      <td>...</td>\n",
       "      <td>0.0</td>\n",
       "      <td>0.0</td>\n",
       "      <td>1</td>\n",
       "      <td>1.0</td>\n",
       "      <td>33.0</td>\n",
       "      <td>10.769445</td>\n",
       "      <td>6.466667</td>\n",
       "      <td>0.0</td>\n",
       "      <td>2</td>\n",
       "      <td>0</td>\n",
       "    </tr>\n",
       "    <tr>\n",
       "      <th>3</th>\n",
       "      <td>NaN</td>\n",
       "      <td>NaN</td>\n",
       "      <td>NaN</td>\n",
       "      <td>NaN</td>\n",
       "      <td>NaN</td>\n",
       "      <td>NaN</td>\n",
       "      <td>NaN</td>\n",
       "      <td>NaN</td>\n",
       "      <td>NaN</td>\n",
       "      <td>NaN</td>\n",
       "      <td>...</td>\n",
       "      <td>NaN</td>\n",
       "      <td>NaN</td>\n",
       "      <td>1</td>\n",
       "      <td>1.0</td>\n",
       "      <td>33.0</td>\n",
       "      <td>10.769445</td>\n",
       "      <td>6.466667</td>\n",
       "      <td>0.0</td>\n",
       "      <td>3</td>\n",
       "      <td>0</td>\n",
       "    </tr>\n",
       "    <tr>\n",
       "      <th>4</th>\n",
       "      <td>NaN</td>\n",
       "      <td>NaN</td>\n",
       "      <td>NaN</td>\n",
       "      <td>NaN</td>\n",
       "      <td>NaN</td>\n",
       "      <td>NaN</td>\n",
       "      <td>NaN</td>\n",
       "      <td>NaN</td>\n",
       "      <td>NaN</td>\n",
       "      <td>NaN</td>\n",
       "      <td>...</td>\n",
       "      <td>NaN</td>\n",
       "      <td>NaN</td>\n",
       "      <td>1</td>\n",
       "      <td>1.0</td>\n",
       "      <td>33.0</td>\n",
       "      <td>10.769445</td>\n",
       "      <td>6.466667</td>\n",
       "      <td>0.0</td>\n",
       "      <td>3</td>\n",
       "      <td>1</td>\n",
       "    </tr>\n",
       "  </tbody>\n",
       "</table>\n",
       "<p>5 rows × 75 columns</p>\n",
       "</div>"
      ],
      "text/plain": [
       "   info_social_sex  subscriberCount  currentLocationLocationId  \\\n",
       "id                                                               \n",
       "0              NaN              NaN                        NaN   \n",
       "1              NaN              NaN                        NaN   \n",
       "2              NaN              NaN                        NaN   \n",
       "3              NaN              NaN                        NaN   \n",
       "4              NaN              NaN                        NaN   \n",
       "\n",
       "    currentLocationLatitude  currentLocationLongitude  homeTownLocationId  \\\n",
       "id                                                                          \n",
       "0                       NaN                       NaN                 NaN   \n",
       "1                       NaN                       NaN                 NaN   \n",
       "2                       NaN                       NaN                 NaN   \n",
       "3                       NaN                       NaN                 NaN   \n",
       "4                       NaN                       NaN                 NaN   \n",
       "\n",
       "    homeTownLatitude  homeTownLongitude data.basic_info.locale  \\\n",
       "id                                                               \n",
       "0                NaN                NaN                    NaN   \n",
       "1                NaN                NaN                    NaN   \n",
       "2                NaN                NaN                    NaN   \n",
       "3                NaN                NaN                    NaN   \n",
       "4                NaN                NaN                    NaN   \n",
       "\n",
       "   currentLocationCity  ... partner5_D partner5_G brief num_of_phone Field_78  \\\n",
       "id                      ...                                                     \n",
       "0                  NaN  ...        0.0        0.0   cb1          1.0      NaN   \n",
       "1                  NaN  ...        0.0        0.0     4          1.0      NaN   \n",
       "2                  NaN  ...        0.0        0.0     1          1.0     33.0   \n",
       "3                  NaN  ...        NaN        NaN     1          1.0     33.0   \n",
       "4                  NaN  ...        NaN        NaN     1          1.0     33.0   \n",
       "\n",
       "     Field_79  Field_80  Field_81  Field_82  label  \n",
       "id                                                  \n",
       "0         NaN       NaN       NaN         1      1  \n",
       "1         NaN       NaN       NaN         1      0  \n",
       "2   10.769445  6.466667       0.0         2      0  \n",
       "3   10.769445  6.466667       0.0         3      0  \n",
       "4   10.769445  6.466667       0.0         3      1  \n",
       "\n",
       "[5 rows x 75 columns]"
      ]
     },
     "execution_count": 41,
     "metadata": {},
     "output_type": "execute_result"
    }
   ],
   "source": [
    "data_Duong.head()"
   ]
  },
  {
   "cell_type": "code",
   "execution_count": 42,
   "metadata": {},
   "outputs": [
    {
     "data": {
      "text/plain": [
       "Text(0.5, 1.0, 'Percentages of missing values in each column')"
      ]
     },
     "execution_count": 42,
     "metadata": {},
     "output_type": "execute_result"
    },
    {
     "data": {
      "image/png": "[encoded data removed]",
      "text/plain": [
       "<Figure size 1440x1080 with 1 Axes>"
      ]
     },
     "metadata": {
      "needs_background": "light"
     },
     "output_type": "display_data"
    }
   ],
   "source": [
    "na_counts= data_Duong.isna().sum().sort_values()\n",
    "fig, ax = plt.subplots(figsize= (20,15))\n",
    "total_samples= len(data_Duong)\n",
    "\n",
    "ax.bar(na_counts.index,na_counts.values/total_samples)\n",
    "ax.set_xlabel(\"column \", fontsize= 30)\n",
    "ax.set_ylabel(\"counts\", fontsize= 30)\n",
    "ax.set_xticklabels([])\n",
    "ax.set_title(\"Percentages of missing values in each column\", fontsize= 35)"
   ]
  },
  {
   "cell_type": "code",
   "execution_count": 43,
   "metadata": {},
   "outputs": [
    {
     "data": {
      "text/plain": [
       "Text(0.5, 1.0, 'Correlation with labels')"
      ]
     },
     "execution_count": 43,
     "metadata": {},
     "output_type": "execute_result"
    },
    {
     "data": {
      "image/png": "[encoded data removed]",
      "text/plain": [
       "<Figure size 1440x1080 with 1 Axes>"
      ]
     },
     "metadata": {
      "needs_background": "light"
     },
     "output_type": "display_data"
    }
   ],
   "source": [
    "corrs = data_Duong.corr()['label'].sort_values()\n",
    "# exclude nan corrs\n",
    "corrs = corrs[corrs.values < 1]\n",
    "\n",
    "fig, ax = plt.subplots(figsize= (20,15))\n",
    "total_samples= len(data_Duong)\n",
    "\n",
    "ax.bar(corrs.index, corrs.values)\n",
    "ax.set_xlabel(\"column \", fontsize= 30)\n",
    "ax.set_ylabel(\"correlation\", fontsize= 30)\n",
    "ax.set_xticklabels([])\n",
    "ax.set_title(\"Correlation with labels\", fontsize= 35)"
   ]
  },
  {
   "cell_type": "markdown",
   "metadata": {},
   "source": [
    "### Drop columns about geological info"
   ]
  },
  {
   "cell_type": "code",
   "execution_count": 46,
   "metadata": {},
   "outputs": [],
   "source": [
    "useless_cols = ['currentLocationLocationId', 'currentLocationLatitude', \n",
    "                'currentLocationLongitude', 'homeTownLocationId', \n",
    "                'homeTownLatitude', 'homeTownLongitude',\n",
    "                'data.basic_info.locale', 'currentLocationCity',\n",
    "                'currentLocationCountry', 'currentLocationName', \n",
    "                'currentLocationState', 'homeTownCity', \n",
    "                'homeTownCountry', 'homeTownName', 'homeTownState']\n",
    "\n",
    "data_Duong.drop(useless_cols, axis= 1, inplace= True)"
   ]
  },
  {
   "cell_type": "markdown",
   "metadata": {},
   "source": [
    "### For info_social_sex column:"
   ]
  },
  {
   "cell_type": "code",
   "execution_count": 49,
   "metadata": {},
   "outputs": [],
   "source": [
    "label_by_info_social_sex = data_Duong.groupby(['label'])\\\n",
    "                ['info_social_sex'].value_counts()\n",
    "df = pd.DataFrame(label_by_info_social_sex).\\\n",
    "    rename({'info_social_sex':'counts'}, axis=1).reset_index()"
   ]
  },
  {
   "cell_type": "markdown",
   "metadata": {},
   "source": [
    "### Female has a slightly higher chance of having label 0.\n",
    "### For the existing values, there are more male than female customers."
   ]
  },
  {
   "cell_type": "code",
   "execution_count": 50,
   "metadata": {},
   "outputs": [
    {
     "data": {
      "text/plain": [
       "Text(0.5, 1.0, 'pct of Info social sex by label')"
      ]
     },
     "execution_count": 50,
     "metadata": {},
     "output_type": "execute_result"
    },
    {
     "data": {
      "image/png": "[encoded data removed]",
      "text/plain": [
       "<Figure size 1080x576 with 1 Axes>"
      ]
     },
     "metadata": {
      "needs_background": "light"
     },
     "output_type": "display_data"
    }
   ],
   "source": [
    "df['pct2'] = df['counts']/df['counts'].sum()\n",
    "\n",
    "import seaborn as sns\n",
    "\n",
    "fig, ax = plt.subplots(figsize= (15,8))\n",
    "sns.barplot(x= 'info_social_sex', y = 'pct2', \\\n",
    "            hue= 'label', data= df, ax=ax)\n",
    "\n",
    "ax.set_title(\"pct of Info social sex by label\")"
   ]
  },
  {
   "cell_type": "code",
   "execution_count": 51,
   "metadata": {},
   "outputs": [
    {
     "name": "stdout",
     "output_type": "stream",
     "text": [
      "percentages of male and female in column info_social_sex:\n"
     ]
    },
    {
     "data": {
      "text/plain": [
       "male      0.592448\n",
       "female    0.407552\n",
       "Name: info_social_sex, dtype: float64"
      ]
     },
     "execution_count": 51,
     "metadata": {},
     "output_type": "execute_result"
    }
   ],
   "source": [
    "print (\"percentages of male and female in column info_social_sex:\")\n",
    "info_social_sex_pct_original = data_Duong.info_social_sex.value_counts()/data_Duong.info_social_sex.value_counts().sum()\n",
    "info_social_sex_pct_original"
   ]
  },
  {
   "cell_type": "markdown",
   "metadata": {},
   "source": [
    "### We'll fill in missing values with 60% male and 40% female"
   ]
  },
  {
   "cell_type": "code",
   "execution_count": 52,
   "metadata": {},
   "outputs": [],
   "source": [
    "random.seed(1976)\n",
    "\n",
    "info_social_sex_random = random.choice(info_social_sex_pct_original.index,\\\n",
    "                                       size= len(data_Duong),\\\n",
    "                                       p= info_social_sex_pct_original.values)\n",
    "#data_Duong = train_set[cols_Duong].copy()\n",
    "data_Duong['info_social_sex'] = np.where(data_Duong['info_social_sex'].isnull(),\\\n",
    "            info_social_sex_random,\\\n",
    "            data_Duong['info_social_sex'])"
   ]
  },
  {
   "cell_type": "code",
   "execution_count": 53,
   "metadata": {},
   "outputs": [
    {
     "name": "stdout",
     "output_type": "stream",
     "text": [
      "After filling all NAs...\n"
     ]
    },
    {
     "data": {
      "text/plain": [
       "male      0.592137\n",
       "female    0.407863\n",
       "Name: info_social_sex, dtype: float64"
      ]
     },
     "execution_count": 53,
     "metadata": {},
     "output_type": "execute_result"
    }
   ],
   "source": [
    "print (\"After filling all NAs...\")\n",
    "data_Duong['info_social_sex'].value_counts()/data_Duong['info_social_sex'].value_counts().sum()"
   ]
  },
  {
   "cell_type": "markdown",
   "metadata": {},
   "source": [
    "## subscriberCount column\n",
    "### Plot its distributions"
   ]
  },
  {
   "cell_type": "markdown",
   "metadata": {},
   "source": [
    "### A lot of missing values"
   ]
  },
  {
   "cell_type": "code",
   "execution_count": 54,
   "metadata": {},
   "outputs": [
    {
     "data": {
      "text/plain": [
       "NaN       29130\n",
       "0.0       18335\n",
       "13.0         35\n",
       "47.0         30\n",
       "30.0         29\n",
       "          ...  \n",
       "1817.0        1\n",
       "1056.0        1\n",
       "620.0         1\n",
       "1220.0        1\n",
       "796.0         1\n",
       "Name: subscriberCount, Length: 1526, dtype: int64"
      ]
     },
     "execution_count": 54,
     "metadata": {},
     "output_type": "execute_result"
    }
   ],
   "source": [
    "data_Duong.subscriberCount.value_counts(dropna= False)"
   ]
  },
  {
   "cell_type": "markdown",
   "metadata": {},
   "source": [
    "## If subscriberCount > 60,000 then label = 0\n",
    "## We can use it as a factor to automatically fill in label later\n"
   ]
  },
  {
   "cell_type": "code",
   "execution_count": 55,
   "metadata": {},
   "outputs": [
    {
     "data": {
      "text/plain": [
       "<matplotlib.axes._subplots.AxesSubplot at 0x7ff8d0cbeb50>"
      ]
     },
     "execution_count": 55,
     "metadata": {},
     "output_type": "execute_result"
    },
    {
     "data": {
      "image/png": "[encoded data removed]",
      "text/plain": [
       "<Figure size 432x288 with 1 Axes>"
      ]
     },
     "metadata": {
      "needs_background": "light"
     },
     "output_type": "display_data"
    }
   ],
   "source": [
    "sns.scatterplot(data_Duong.label, data_Duong.subscriberCount)"
   ]
  },
  {
   "cell_type": "markdown",
   "metadata": {},
   "source": [
    "### it seems like the more subsciber counts, the more likely its label will be 0"
   ]
  },
  {
   "cell_type": "code",
   "execution_count": 56,
   "metadata": {},
   "outputs": [
    {
     "data": {
      "text/plain": [
       "Text(0.5, 0.98, 'box plots of labels based on subscriberCount')"
      ]
     },
     "execution_count": 56,
     "metadata": {},
     "output_type": "execute_result"
    },
    {
     "data": {
      "image/png": "[encoded data removed]",
      "text/plain": [
       "<Figure size 1080x576 with 1 Axes>"
      ]
     },
     "metadata": {},
     "output_type": "display_data"
    }
   ],
   "source": [
    "sns.set(style=\"whitegrid\")\n",
    "plt.rcParams[\"figure.figsize\"] = (15,8)\n",
    "\n",
    "sns.boxplot(x= 'label', y= 'subscriberCount', data= data_Duong[data_Duong.subscriberCount <100000])\n",
    "plt.suptitle(\"box plots of labels based on subscriberCount\")"
   ]
  },
  {
   "cell_type": "code",
   "execution_count": 57,
   "metadata": {},
   "outputs": [
    {
     "data": {
      "text/plain": [
       "<matplotlib.axes._subplots.AxesSubplot at 0x7ff8d39bb8d0>"
      ]
     },
     "execution_count": 57,
     "metadata": {},
     "output_type": "execute_result"
    },
    {
     "data": {
      "image/png": "[encoded data removed]",
      "text/plain": [
       "<Figure size 1080x576 with 1 Axes>"
      ]
     },
     "metadata": {},
     "output_type": "display_data"
    }
   ],
   "source": [
    "sns.distplot(data_Duong[data_Duong.subscriberCount < 60000].subscriberCount)"
   ]
  },
  {
   "cell_type": "code",
   "execution_count": 58,
   "metadata": {},
   "outputs": [
    {
     "name": "stdout",
     "output_type": "stream",
     "text": [
      "General stats data_Duong.subscriberCount\n",
      "median    0.0\n",
      "count     23900.000000\n",
      "mean        189.071046\n",
      "std        2203.631422\n",
      "min           0.000000\n",
      "25%           0.000000\n",
      "50%           0.000000\n",
      "75%           0.000000\n",
      "max      174916.000000\n",
      "Name: subscriberCount, dtype: float64\n"
     ]
    }
   ],
   "source": [
    "print (\"General stats data_Duong.subscriberCount\")\n",
    "print (\"median   \", data_Duong.subscriberCount.median())\n",
    "print (data_Duong.subscriberCount.describe())"
   ]
  },
  {
   "cell_type": "markdown",
   "metadata": {},
   "source": [
    "## Fill in NAs of subscriberCount with mean and std\n"
   ]
  },
  {
   "cell_type": "code",
   "execution_count": 59,
   "metadata": {},
   "outputs": [],
   "source": [
    "subscriberCount_random = data_Duong.subscriberCount.mean() + \\\n",
    "                    data_Duong.subscriberCount.std()*np.random.randn(len(data_Duong))\n",
    "subscriberCount_random = np.where(subscriberCount_random <0, 0, subscriberCount_random)"
   ]
  },
  {
   "cell_type": "code",
   "execution_count": 60,
   "metadata": {},
   "outputs": [],
   "source": [
    "data_Duong['subscriberCount'] = np.where(data_Duong['subscriberCount'].isnull(), \\\n",
    "                                         subscriberCount_random,\n",
    "                                         data_Duong['subscriberCount'])"
   ]
  },
  {
   "cell_type": "code",
   "execution_count": 64,
   "metadata": {},
   "outputs": [
    {
     "data": {
      "text/plain": [
       "<matplotlib.axes._subplots.AxesSubplot at 0x7ff8d47d8cd0>"
      ]
     },
     "execution_count": 64,
     "metadata": {},
     "output_type": "execute_result"
    },
    {
     "data": {
      "image/png": "[encoded data removed]",
      "text/plain": [
       "<Figure size 1080x576 with 1 Axes>"
      ]
     },
     "metadata": {},
     "output_type": "display_data"
    }
   ],
   "source": [
    "sns.distplot(data_Duong[data_Duong.subscriberCount < 60000].subscriberCount)"
   ]
  },
  {
   "cell_type": "markdown",
   "metadata": {},
   "source": [
    "# COLUMN TOPFRIENDS"
   ]
  },
  {
   "cell_type": "code",
   "execution_count": 76,
   "metadata": {},
   "outputs": [],
   "source": [
    "label_by_topFriends = data_Duong.groupby('label')['topFriends'].\\\n",
    "        value_counts().sort_index()\n",
    "df_label_by_topFriends= pd.DataFrame(label_by_topFriends).\\\n",
    "        rename({'topFriends':'counts'}, axis=1).reset_index()"
   ]
  },
  {
   "cell_type": "markdown",
   "metadata": {},
   "source": [
    "## most samples has topFriends= 5"
   ]
  },
  {
   "cell_type": "code",
   "execution_count": 78,
   "metadata": {},
   "outputs": [
    {
     "data": {
      "text/plain": [
       "Text(0.5, 1.0, 'pct of Info social sex by label')"
      ]
     },
     "execution_count": 78,
     "metadata": {},
     "output_type": "execute_result"
    },
    {
     "data": {
      "image/png": "[encoded data removed]",
      "text/plain": [
       "<Figure size 1080x576 with 1 Axes>"
      ]
     },
     "metadata": {},
     "output_type": "display_data"
    }
   ],
   "source": [
    "\n",
    "\n",
    "fig, ax = plt.subplots(figsize= (15,8))\n",
    "sns.barplot(x= 'topFriends', y = 'counts', \\\n",
    "            hue= 'label', data= df_label_by_topFriends, ax=ax)\n",
    "\n",
    "\n",
    "ax.set_title(\"Counts topFriends by label\")"
   ]
  },
  {
   "cell_type": "code",
   "execution_count": 100,
   "metadata": {},
   "outputs": [
    {
     "data": {
      "text/plain": [
       "Text(0.5, 1.0, 'percentage of labels by group of topFriends by label')"
      ]
     },
     "execution_count": 100,
     "metadata": {},
     "output_type": "execute_result"
    },
    {
     "data": {
      "image/png": "[encoded data removed]",
      "text/plain": [
       "<Figure size 1080x576 with 1 Axes>"
      ]
     },
     "metadata": {},
     "output_type": "display_data"
    }
   ],
   "source": [
    "df_label_by_topFriends['pct_by_group'] = df_label_by_topFriends.counts/\\\n",
    "        np.array(list(df_label_by_topFriends.groupby('topFriends').sum()['counts'].values)*2)\n",
    "\n",
    "fig, ax = plt.subplots(figsize= (15,8))\n",
    "sns.barplot(x= 'topFriends', y = 'pct_by_group', \\\n",
    "            hue= 'label', data= df_label_by_topFriends, ax=ax)\n",
    "\n",
    "ax.set_title(\"percentage of labels by group of topFriends by label\")"
   ]
  },
  {
   "cell_type": "markdown",
   "metadata": {},
   "source": [
    "## Looks like most group will have the same proportions of label 0 and 1.\n",
    "\n",
    "## fill in missing data randomly based on proportions of topFriends \"categories\" (0-5)"
   ]
  },
  {
   "cell_type": "code",
   "execution_count": 114,
   "metadata": {},
   "outputs": [],
   "source": [
    "topFriends_cat_pct = data_Duong.topFriends.value_counts().sort_index()/\\\n",
    "                data_Duong.topFriends.value_counts().sum()\n",
    "\n"
   ]
  },
  {
   "cell_type": "code",
   "execution_count": 116,
   "metadata": {},
   "outputs": [],
   "source": [
    "random.seed(1976)\n",
    "\n",
    "topFriends_random = random.choice(topFriends_cat_pct.index,\\\n",
    "                                       size= len(data_Duong),\\\n",
    "                                       p= topFriends_cat_pct.values)\n",
    "\n",
    "data_Duong['topFriends'] = np.where(data_Duong['topFriends'].isnull(),\\\n",
    "            topFriends_random,\\\n",
    "            data_Duong['topFriends'])"
   ]
  },
  {
   "cell_type": "markdown",
   "metadata": {},
   "source": [
    "# COLUMN "
   ]
  },
  {
   "cell_type": "code",
   "execution_count": null,
   "metadata": {},
   "outputs": [],
   "source": []
  },
  {
   "cell_type": "code",
   "execution_count": null,
   "metadata": {},
   "outputs": [],
   "source": []
  },
  {
   "cell_type": "code",
   "execution_count": 122,
   "metadata": {},
   "outputs": [
    {
     "data": {
      "text/plain": [
       "(array([1.2137e+04, 1.5493e+04, 1.1532e+04, 5.8320e+03, 2.2290e+03,\n",
       "        8.0200e+02, 2.0200e+02, 4.1000e+01, 8.0000e+00, 1.0000e+00]),\n",
       " array([ 0. ,  1.9,  3.8,  5.7,  7.6,  9.5, 11.4, 13.3, 15.2, 17.1, 19. ]),\n",
       " <a list of 10 Patch objects>)"
      ]
     },
     "execution_count": 122,
     "metadata": {},
     "output_type": "execute_result"
    },
    {
     "data": {
      "image/png": "[encoded data removed]",
      "text/plain": [
       "<Figure size 1080x576 with 1 Axes>"
      ]
     },
     "metadata": {},
     "output_type": "display_data"
    }
   ],
   "source": [
    "plt.hist(data_Duong.numOrg)"
   ]
  },
  {
   "cell_type": "code",
   "execution_count": 126,
   "metadata": {},
   "outputs": [
    {
     "data": {
      "text/plain": [
       "Index(['info_social_sex', 'subscriberCount', 'topFriends', 'numOrg',\n",
       "       'F_numOrg', 'F_numQuery', 'F_startDate', 'F_endDate', 'E_numOrg',\n",
       "       'E_numQuery', 'E_startDate', 'E_endDate', 'C_numOrg', 'C_numQuery',\n",
       "       'C_startDate', 'C_endDate', 'G_numOrg', 'G_numQuery', 'G_startDate',\n",
       "       'G_endDate', 'A_numOrg', 'A_numQuery', 'A_startDate', 'A_endDate',\n",
       "       'summary_6m', 'summary_3m', 'summary_1m', 'summary_1w', 'partner0_A',\n",
       "       'partner0_B', 'partner0_C', 'partner0_D', 'partner0_E', 'partner0_F',\n",
       "       'partner0_G', 'partner0_H', 'partner1_A', 'partner1_C', 'partner1_G',\n",
       "       'partner1_H', 'partner2_A', 'partner2_C', 'partner2_D', 'partner2_F',\n",
       "       'partner2_H', 'partner3_A', 'partner3_D', 'partner3_E', 'partner4_L',\n",
       "       'partner5_A', 'partner5_D', 'partner5_G', 'brief', 'num_of_phone',\n",
       "       'Field_78', 'Field_79', 'Field_80', 'Field_81', 'Field_82', 'label'],\n",
       "      dtype='object')"
      ]
     },
     "execution_count": 126,
     "metadata": {},
     "output_type": "execute_result"
    }
   ],
   "source": [
    "data_Duong.columns"
   ]
  },
  {
   "cell_type": "code",
   "execution_count": null,
   "metadata": {},
   "outputs": [],
   "source": []
  },
  {
   "cell_type": "code",
   "execution_count": null,
   "metadata": {},
   "outputs": [],
   "source": []
  },
  {
   "cell_type": "code",
   "execution_count": null,
   "metadata": {},
   "outputs": [],
   "source": []
  },
  {
   "cell_type": "markdown",
   "metadata": {},
   "source": [
    "# create custom columns"
   ]
  },
  {
   "cell_type": "markdown",
   "metadata": {},
   "source": [
    "### column diff_start_end_date = diff between E_startDate and E_endDate"
   ]
  },
  {
   "cell_type": "code",
   "execution_count": null,
   "metadata": {},
   "outputs": [],
   "source": [
    "from datetime import datetime\n",
    "\n",
    "data_Duong['E_endDate'] = data_Duong['E_endDate'].apply(lambda row: \\\n",
    "              datetime.strptime('1900-01-01', '%Y-%m-%d') \\\n",
    "                    if row is np.nan \\\n",
    "                else datetime.strptime(row, '%Y-%m-%d'))\n",
    "\n",
    "data_Duong['E_startDate'] = data_Duong['E_startDate'].apply(lambda row: \\\n",
    "              datetime.strptime('1900-01-01', '%Y-%m-%d') \\\n",
    "                    if row is np.nan \\\n",
    "                else datetime.strptime(row, '%Y-%m-%d'))\n",
    "\n",
    "\n",
    "data_Duong['F_endDate'] = data_Duong['F_endDate'].apply(lambda row: \\\n",
    "              datetime.strptime('1900-01-01', '%Y-%m-%d') \\\n",
    "                    if row is np.nan \\\n",
    "                else datetime.strptime(row, '%Y-%m-%d'))\n",
    "\n",
    "data_Duong['F_startDate'] = data_Duong['F_startDate'].apply(lambda row: \\\n",
    "              datetime.strptime('1900-01-01', '%Y-%m-%d') \\\n",
    "                    if row is np.nan \\\n",
    "                else datetime.strptime(row, '%Y-%m-%d'))\n",
    "\n",
    "data_Duong['G_startDate'] = data_Duong['G_startDate'].apply(lambda row: \\\n",
    "              datetime.strptime('1900-01-01', '%Y-%m-%d') \\\n",
    "                    if row is np.nan \\\n",
    "                else datetime.strptime(row, '%Y-%m-%d'))\n",
    "\n",
    "data_Duong['G_endDate'] = data_Duong['G_endDate'].apply(lambda row: \\\n",
    "              datetime.strptime('1900-01-01', '%Y-%m-%d') \\\n",
    "                    if row is np.nan \\\n",
    "                else datetime.strptime(row, '%Y-%m-%d'))               \n",
    "\n",
    "\n",
    "data_Duong['A_endDate'] = data_Duong['A_endDate'].apply(lambda row: \\\n",
    "              datetime.strptime('1900-01-01', '%Y-%m-%d') \\\n",
    "                    if row is np.nan \\\n",
    "                else datetime.strptime(row, '%Y-%m-%d'))\n",
    "\n",
    "data_Duong['A_startDate'] = data_Duong['A_startDate'].apply(lambda row: \\\n",
    "              datetime.strptime('1900-01-01', '%Y-%m-%d') \\\n",
    "                    if row is np.nan \\\n",
    "                else datetime.strptime(row, '%Y-%m-%d'))               "
   ]
  },
  {
   "cell_type": "markdown",
   "metadata": {},
   "source": [
    "## *letter*_diff_date = diff between *letter*_startDate and *letter*_endDate"
   ]
  },
  {
   "cell_type": "code",
   "execution_count": null,
   "metadata": {},
   "outputs": [],
   "source": [
    "data_Duong[['E_endDate', 'F_endDate']]"
   ]
  },
  {
   "cell_type": "code",
   "execution_count": null,
   "metadata": {},
   "outputs": [],
   "source": [
    "train_set.Field_1"
   ]
  },
  {
   "cell_type": "code",
   "execution_count": null,
   "metadata": {},
   "outputs": [],
   "source": [
    "data_Duong['E_diff_date']= data_Duong['E_endDate'] - data_Duong['E_startDate']\n",
    "\n",
    "data_Duong['F_diff_date']= data_Duong['F_endDate'] - data_Duong['F_startDate']\n",
    "\n",
    "data_Duong['G_diff_date']= data_Duong['G_endDate'] - data_Duong['G_startDate']\n",
    "\n",
    "data_Duong['A_diff_date']= data_Duong['A_endDate'] - data_Duong['A_startDate']"
   ]
  },
  {
   "cell_type": "code",
   "execution_count": null,
   "metadata": {},
   "outputs": [],
   "source": [
    "E_diff_date_counts = data_Duong['E_diff_date'].value_counts()"
   ]
  },
  {
   "cell_type": "code",
   "execution_count": null,
   "metadata": {},
   "outputs": [],
   "source": [
    "E_diff_date_counts"
   ]
  },
  {
   "cell_type": "code",
   "execution_count": null,
   "metadata": {},
   "outputs": [],
   "source": [
    "plt.bar(E_diff_date_counts.index, E_diff_date_counts.values)"
   ]
  },
  {
   "cell_type": "code",
   "execution_count": null,
   "metadata": {},
   "outputs": [],
   "source": []
  },
  {
   "cell_type": "code",
   "execution_count": null,
   "metadata": {},
   "outputs": [],
   "source": []
  },
  {
   "cell_type": "code",
   "execution_count": null,
   "metadata": {},
   "outputs": [],
   "source": []
  },
  {
   "cell_type": "code",
   "execution_count": null,
   "metadata": {},
   "outputs": [],
   "source": [
    "for i, col in enumerate(data_Duong.columns):\n",
    "    print (i+1, \"/ Column name:\", col)\n",
    "    print(data_Duong[col].value_counts(dropna=False))"
   ]
  },
  {
   "cell_type": "markdown",
   "metadata": {},
   "source": [
    "## Explore topfriends"
   ]
  },
  {
   "cell_type": "code",
   "execution_count": null,
   "metadata": {},
   "outputs": [],
   "source": [
    "topFriends_counts"
   ]
  },
  {
   "cell_type": "code",
   "execution_count": null,
   "metadata": {},
   "outputs": [],
   "source": [
    "train_set['E_endDate'].equals(train_set['G_endDate'])"
   ]
  },
  {
   "cell_type": "code",
   "execution_count": null,
   "metadata": {},
   "outputs": [],
   "source": [
    "train_set[['Field_14','Field_16']].drop_duplicates()"
   ]
  },
  {
   "cell_type": "code",
   "execution_count": null,
   "metadata": {},
   "outputs": [],
   "source": [
    "for i in range(10):\n",
    "    if (i%3 == 0):\n",
    "        continue\n",
    "    print (i)"
   ]
  }
 ],
 "metadata": {
  "kernelspec": {
   "display_name": "Python 3",
   "language": "python",
   "name": "python3"
  },
  "language_info": {
   "codemirror_mode": {
    "name": "ipython",
    "version": 3
   },
   "file_extension": ".py",
   "mimetype": "text/x-python",
   "name": "python",
   "nbconvert_exporter": "python",
   "pygments_lexer": "ipython3",
   "version": "3.7.5"
  }
 },
 "nbformat": 4,
 "nbformat_minor": 4
}
