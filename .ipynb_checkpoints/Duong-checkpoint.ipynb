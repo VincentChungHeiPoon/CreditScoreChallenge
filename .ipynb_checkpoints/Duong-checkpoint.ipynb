{
 "cells": [
  {
   "cell_type": "code",
   "execution_count": 1,
   "metadata": {},
   "outputs": [],
   "source": [
    "import numpy as np\n",
    "import pandas as pd\n",
    "import matplotlib.pyplot as plt\n",
    "from numpy import random\n",
    "import seaborn as sns\n",
    "\n",
    "import unidecode # to remove accents from some columns\n",
    "# ignore all warnings\n",
    "import warnings\n",
    "warnings.filterwarnings(\"ignore\")\n",
    "\n",
    "\n",
    "# import data\n",
    "train_set= pd.read_csv('./Data/train_set_drop_some_cols.csv', index_col= 'id')\n",
    "test_set_original= pd.read_csv('./Data/test.csv', index_col= 'id')\n"
   ]
  },
  {
   "cell_type": "code",
   "execution_count": 2,
   "metadata": {},
   "outputs": [],
   "source": [
    "cols_to_drop= ['Unnamed: 94', 'Unnamed: 95',\n",
    "       'Unnamed: 96', 'Unnamed: 97', 'Unnamed: 98', 'Unnamed: 99','Field_68']"
   ]
  },
  {
   "cell_type": "code",
   "execution_count": 3,
   "metadata": {},
   "outputs": [],
   "source": [
    "def isfloat(value):\n",
    "    try:\n",
    "        float(value)\n",
    "        return True\n",
    "    except ValueError:\n",
    "        return False\n",
    "    \n",
    "    \n",
    "def make_float(df, cols):\n",
    "    for col in cols:\n",
    "        df[col] = df[col].apply\\\n",
    "            (lambda x: float(x) if isfloat(x) else np.nan)"
   ]
  },
  {
   "cell_type": "markdown",
   "metadata": {},
   "source": [
    "\n",
    "### To make life easier, fill np.nan with str 'nan'"
   ]
  },
  {
   "cell_type": "code",
   "execution_count": 4,
   "metadata": {},
   "outputs": [],
   "source": [
    "train_set.fillna('nan', inplace=True)"
   ]
  },
  {
   "cell_type": "markdown",
   "metadata": {},
   "source": [
    "## Fix ngaysinh (DOB)\n",
    "## create a new col age = 2020 - year of birth that is extracted from dob"
   ]
  },
  {
   "cell_type": "markdown",
   "metadata": {},
   "source": [
    "## As we can see below, most a re ppl from 20-40 year of age"
   ]
  },
  {
   "cell_type": "code",
   "execution_count": 5,
   "metadata": {},
   "outputs": [],
   "source": [
    "train_set.ngaySinh = train_set.ngaySinh.astype(str)\n",
    "\n",
    "train_set['age'] = train_set.ngaySinh.\\\n",
    "        apply(lambda x: 2020-int(x[:4]) if x != 'nan' else np.nan)\n",
    "\n",
    "cols_to_drop.append('ngaySinh')"
   ]
  },
  {
   "cell_type": "code",
   "execution_count": 6,
   "metadata": {},
   "outputs": [
    {
     "data": {
      "text/plain": [
       "<AxesSubplot:xlabel='age'>"
      ]
     },
     "execution_count": 6,
     "metadata": {},
     "output_type": "execute_result"
    },
    {
     "data": {
      "image/png": "[encoded data removed]",
      "text/plain": [
       "<Figure size 432x288 with 1 Axes>"
      ]
     },
     "metadata": {
      "needs_background": "light"
     },
     "output_type": "display_data"
    }
   ],
   "source": [
    "sns.distplot(train_set.age)"
   ]
  },
  {
   "cell_type": "code",
   "execution_count": null,
   "metadata": {},
   "outputs": [],
   "source": [
    "train_set[(train_set.age>=35)&(train_set.age<=50)].label.value_counts()/train_set[(train_set.age>=35)&(train_set.age<=50)].label.value_counts().sum()"
   ]
  },
  {
   "cell_type": "code",
   "execution_count": null,
   "metadata": {},
   "outputs": [],
   "source": [
    "train_set[(train_set.age<35)].label.value_counts()/train_set[(train_set.age<35)].label.value_counts().sum()"
   ]
  },
  {
   "cell_type": "code",
   "execution_count": null,
   "metadata": {},
   "outputs": [],
   "source": [
    "train_set[(train_set.age<20)].label.value_counts()/train_set[(train_set.age<20)].label.value_counts().sum()"
   ]
  },
  {
   "cell_type": "code",
   "execution_count": null,
   "metadata": {},
   "outputs": [],
   "source": [
    "train_set[(train_set.age>=20)&(train_set.age<=30)].label.value_counts()/train_set[(train_set.age>=20)&(train_set.age<=30)].label.value_counts().sum()"
   ]
  },
  {
   "cell_type": "code",
   "execution_count": null,
   "metadata": {},
   "outputs": [],
   "source": [
    "train_set[(train_set.age>=30)&(train_set.age<=40)].label.value_counts()/train_set[(train_set.age>=30)&(train_set.age<=40)].label.value_counts().sum()"
   ]
  },
  {
   "cell_type": "code",
   "execution_count": null,
   "metadata": {},
   "outputs": [],
   "source": [
    "train_set[(train_set.age>=40)&(train_set.age<=50)].label.value_counts()/train_set[(train_set.age>=40)&(train_set.age<=50)].label.value_counts().sum()"
   ]
  },
  {
   "cell_type": "code",
   "execution_count": null,
   "metadata": {},
   "outputs": [],
   "source": [
    "train_set[(train_set.age>=50)].label.value_counts()/train_set[(train_set.age>=50)].label.value_counts().sum()"
   ]
  },
  {
   "cell_type": "code",
   "execution_count": null,
   "metadata": {},
   "outputs": [],
   "source": [
    "train_set[(train_set.age>=35)].label.value_counts()/train_set[(train_set.age>=35)].label.value_counts().sum()"
   ]
  },
  {
   "cell_type": "code",
   "execution_count": null,
   "metadata": {},
   "outputs": [],
   "source": [
    "train_set[(train_set.age<35)].label.value_counts()/train_set[(train_set.age<35)].label.value_counts().sum()"
   ]
  },
  {
   "cell_type": "markdown",
   "metadata": {},
   "source": [
    "## Field_39: has some float and int so convert them all into float"
   ]
  },
  {
   "cell_type": "code",
   "execution_count": 7,
   "metadata": {},
   "outputs": [],
   "source": [
    "train_set.Field_39 = np.where((train_set.Field_39 == 'DN') | (train_set.Field_39 == 'GD'), \\\n",
    "                              'nan', train_set.Field_39)"
   ]
  },
  {
   "cell_type": "code",
   "execution_count": 8,
   "metadata": {},
   "outputs": [],
   "source": [
    "train_set.Field_39 = train_set.Field_39.astype(float)"
   ]
  },
  {
   "cell_type": "code",
   "execution_count": 9,
   "metadata": {},
   "outputs": [
    {
     "data": {
      "text/plain": [
       "<AxesSubplot:xlabel='Field_39'>"
      ]
     },
     "execution_count": 9,
     "metadata": {},
     "output_type": "execute_result"
    },
    {
     "data": {
      "image/png": "[encoded data removed]",
      "text/plain": [
       "<Figure size 432x288 with 1 Axes>"
      ]
     },
     "metadata": {
      "needs_background": "light"
     },
     "output_type": "display_data"
    }
   ],
   "source": [
    "sns.distplot(train_set.Field_39)"
   ]
  },
  {
   "cell_type": "markdown",
   "metadata": {},
   "source": [
    "## Field_42"
   ]
  },
  {
   "cell_type": "code",
   "execution_count": 10,
   "metadata": {},
   "outputs": [
    {
     "data": {
      "text/plain": [
       "<AxesSubplot:xlabel='Field_42'>"
      ]
     },
     "execution_count": 10,
     "metadata": {},
     "output_type": "execute_result"
    },
    {
     "data": {
      "image/png": "[encoded data removed]",
      "text/plain": [
       "<Figure size 432x288 with 1 Axes>"
      ]
     },
     "metadata": {
      "needs_background": "light"
     },
     "output_type": "display_data"
    }
   ],
   "source": [
    "make_float(train_set, ['Field_42'])\n",
    "\n",
    "sns.distplot(train_set.Field_42)"
   ]
  },
  {
   "cell_type": "markdown",
   "metadata": {},
   "source": [
    "## Field_47"
   ]
  },
  {
   "cell_type": "code",
   "execution_count": 11,
   "metadata": {},
   "outputs": [],
   "source": [
    "map_dict_field_47 = {'Zezo': 0, 'One': 1, 'Two': 2, \\\n",
    "                     'Three': 3, 'Four':4}"
   ]
  },
  {
   "cell_type": "code",
   "execution_count": 12,
   "metadata": {},
   "outputs": [],
   "source": [
    "train_set.Field_47 = train_set.Field_47.map(map_dict_field_47)"
   ]
  },
  {
   "cell_type": "code",
   "execution_count": 13,
   "metadata": {},
   "outputs": [
    {
     "data": {
      "text/plain": [
       "<AxesSubplot:xlabel='Field_47'>"
      ]
     },
     "execution_count": 13,
     "metadata": {},
     "output_type": "execute_result"
    },
    {
     "data": {
      "image/png": "[encoded data removed]",
      "text/plain": [
       "<Figure size 432x288 with 1 Axes>"
      ]
     },
     "metadata": {
      "needs_background": "light"
     },
     "output_type": "display_data"
    }
   ],
   "source": [
    "sns.distplot(train_set.Field_47)"
   ]
  },
  {
   "cell_type": "markdown",
   "metadata": {},
   "source": [
    "## Field_50 and 51 , only have a few (4 and 6) records of 0, make it nan also"
   ]
  },
  {
   "cell_type": "code",
   "execution_count": 14,
   "metadata": {},
   "outputs": [],
   "source": [
    "map_dict_field_51 = {'1': 1}\n",
    "train_set.Field_51 = train_set.Field_51.map(map_dict_field_51)"
   ]
  },
  {
   "cell_type": "markdown",
   "metadata": {},
   "source": [
    "## Field_53"
   ]
  },
  {
   "cell_type": "code",
   "execution_count": 15,
   "metadata": {},
   "outputs": [
    {
     "data": {
      "text/plain": [
       "<AxesSubplot:xlabel='Field_53'>"
      ]
     },
     "execution_count": 15,
     "metadata": {},
     "output_type": "execute_result"
    },
    {
     "data": {
      "image/png": "[encoded data removed]",
      "text/plain": [
       "<Figure size 432x288 with 1 Axes>"
      ]
     },
     "metadata": {
      "needs_background": "light"
     },
     "output_type": "display_data"
    }
   ],
   "source": [
    "make_float(train_set, ['Field_53'])\n",
    "\n",
    "sns.distplot(train_set.Field_53)"
   ]
  },
  {
   "cell_type": "code",
   "execution_count": 16,
   "metadata": {},
   "outputs": [
    {
     "data": {
      "text/plain": [
       "<AxesSubplot:xlabel='Field_53'>"
      ]
     },
     "execution_count": 16,
     "metadata": {},
     "output_type": "execute_result"
    },
    {
     "data": {
      "image/png": "[encoded data removed]",
      "text/plain": [
       "<Figure size 432x288 with 1 Axes>"
      ]
     },
     "metadata": {
      "needs_background": "light"
     },
     "output_type": "display_data"
    }
   ],
   "source": [
    "sns.boxplot(train_set.Field_53)"
   ]
  },
  {
   "cell_type": "markdown",
   "metadata": {},
   "source": [
    "## Field_58"
   ]
  },
  {
   "cell_type": "code",
   "execution_count": 17,
   "metadata": {},
   "outputs": [
    {
     "data": {
      "text/plain": [
       "<AxesSubplot:xlabel='Field_58'>"
      ]
     },
     "execution_count": 17,
     "metadata": {},
     "output_type": "execute_result"
    },
    {
     "data": {
      "image/png": "[encoded data removed]",
      "text/plain": [
       "<Figure size 432x288 with 1 Axes>"
      ]
     },
     "metadata": {
      "needs_background": "light"
     },
     "output_type": "display_data"
    }
   ],
   "source": [
    "make_float(train_set, ['Field_58'])\n",
    "\n",
    "sns.distplot(train_set.Field_58)"
   ]
  },
  {
   "cell_type": "markdown",
   "metadata": {},
   "source": [
    "## Field_60"
   ]
  },
  {
   "cell_type": "code",
   "execution_count": 18,
   "metadata": {},
   "outputs": [
    {
     "data": {
      "text/plain": [
       "<AxesSubplot:xlabel='Field_60'>"
      ]
     },
     "execution_count": 18,
     "metadata": {},
     "output_type": "execute_result"
    },
    {
     "data": {
      "image/png": "[encoded data removed]",
      "text/plain": [
       "<Figure size 432x288 with 1 Axes>"
      ]
     },
     "metadata": {
      "needs_background": "light"
     },
     "output_type": "display_data"
    }
   ],
   "source": [
    "make_float(train_set, ['Field_60'])\n",
    "\n",
    "sns.distplot(train_set.Field_60)"
   ]
  },
  {
   "cell_type": "markdown",
   "metadata": {},
   "source": [
    "## Field_61, 62 "
   ]
  },
  {
   "cell_type": "markdown",
   "metadata": {},
   "source": [
    "## most likely drop 61\n",
    "Field_61: Field_62\n",
    "Khối DN có vốn DTNN:"
   ]
  },
  {
   "cell_type": "code",
   "execution_count": 19,
   "metadata": {},
   "outputs": [],
   "source": [
    "# remove all Vietnamese accents in the words\n",
    "train_set.Field_61 = train_set.Field_61.apply(lambda x: unidecode.unidecode(x).lower() \\\n",
    "                     if type(x) == str else np.nan)\n",
    "\n",
    "\n",
    "train_set.Field_62 = train_set.Field_62.apply(lambda x: unidecode.unidecode(x).lower() \\\n",
    "                     if type(x) == str else np.nan)"
   ]
  },
  {
   "cell_type": "code",
   "execution_count": 20,
   "metadata": {},
   "outputs": [],
   "source": [
    "#cross tab of Field_61 and 62\n",
    "field6162_ct = pd.crosstab(train_set.Field_61,train_set.Field_62)\n"
   ]
  },
  {
   "cell_type": "code",
   "execution_count": 21,
   "metadata": {},
   "outputs": [],
   "source": [
    "field6162_dict ={}\n",
    "for idx in field6162_ct.index:\n",
    "    \n",
    "#     print (idx, ':', \\\n",
    "#            field6162_ct.loc[idx][(field6162_ct.loc[idx] > 0)].index)\n",
    "    field6162_dict[idx] = field6162_ct.loc[idx][(field6162_ct.loc[idx] > 0)].index[0]\n",
    "#     field6162_dict[idx] ="
   ]
  },
  {
   "cell_type": "markdown",
   "metadata": {},
   "source": [
    "## Field_62 can be refined using values from crosstab between Field_61 and Field_62\n",
    "## Keep the dict for later"
   ]
  },
  {
   "cell_type": "code",
   "execution_count": 22,
   "metadata": {},
   "outputs": [],
   "source": [
    "field62_map = {'i': 'i', 'v': 'v', 'ii': 'ii', 'iv': 'iv', 'iii': 'iii',\\\n",
    "              'khoi dn co von dtnn': 'i', 'ho gia dinh': 'v',\\\n",
    "              'khoi dn ngoai quoc doanh': 'i', 'khoi hs, dang, doan': 'i',\\\n",
    "              '3': 'iii', '2': 'ii'}"
   ]
  },
  {
   "cell_type": "code",
   "execution_count": 23,
   "metadata": {},
   "outputs": [
    {
     "data": {
      "text/plain": [
       "i      17693\n",
       "v       4859\n",
       "ii      1353\n",
       "iv       827\n",
       "iii      820\n",
       "Name: Field_62, dtype: int64"
      ]
     },
     "execution_count": 23,
     "metadata": {},
     "output_type": "execute_result"
    }
   ],
   "source": [
    "train_set.Field_62.map(field62_map).value_counts()"
   ]
  },
  {
   "cell_type": "code",
   "execution_count": 24,
   "metadata": {},
   "outputs": [],
   "source": [
    "cols_to_drop.append('Field_61')"
   ]
  },
  {
   "cell_type": "markdown",
   "metadata": {},
   "source": [
    "## Field_63"
   ]
  },
  {
   "cell_type": "code",
   "execution_count": 25,
   "metadata": {},
   "outputs": [
    {
     "data": {
      "text/plain": [
       "<AxesSubplot:xlabel='Field_63'>"
      ]
     },
     "execution_count": 25,
     "metadata": {},
     "output_type": "execute_result"
    },
    {
     "data": {
      "image/png": "[encoded data removed]",
      "text/plain": [
       "<Figure size 432x288 with 1 Axes>"
      ]
     },
     "metadata": {
      "needs_background": "light"
     },
     "output_type": "display_data"
    }
   ],
   "source": [
    "make_float(train_set, ['Field_63'])\n",
    "\n",
    "sns.distplot(train_set.Field_63)"
   ]
  },
  {
   "cell_type": "code",
   "execution_count": 27,
   "metadata": {},
   "outputs": [
    {
     "data": {
      "text/plain": [
       "<AxesSubplot:xlabel='Field_63'>"
      ]
     },
     "execution_count": 27,
     "metadata": {},
     "output_type": "execute_result"
    },
    {
     "data": {
      "image/png": "[encoded data removed]",
      "text/plain": [
       "<Figure size 432x288 with 1 Axes>"
      ]
     },
     "metadata": {
      "needs_background": "light"
     },
     "output_type": "display_data"
    }
   ],
   "source": [
    "sns.boxplot(train_set.Field_63)"
   ]
  },
  {
   "cell_type": "markdown",
   "metadata": {},
   "source": [
    "## Field_64"
   ]
  },
  {
   "cell_type": "code",
   "execution_count": 31,
   "metadata": {},
   "outputs": [
    {
     "data": {
      "text/plain": [
       "<AxesSubplot:xlabel='Field_64'>"
      ]
     },
     "execution_count": 31,
     "metadata": {},
     "output_type": "execute_result"
    },
    {
     "data": {
      "image/png": "[encoded data removed]",
      "text/plain": [
       "<Figure size 432x288 with 1 Axes>"
      ]
     },
     "metadata": {
      "needs_background": "light"
     },
     "output_type": "display_data"
    }
   ],
   "source": [
    "make_float(train_set, ['Field_64'])\n",
    "\n",
    "sns.distplot(train_set.Field_64)"
   ]
  },
  {
   "cell_type": "code",
   "execution_count": 33,
   "metadata": {},
   "outputs": [
    {
     "data": {
      "text/plain": [
       "<AxesSubplot:xlabel='Field_64'>"
      ]
     },
     "execution_count": 33,
     "metadata": {},
     "output_type": "execute_result"
    },
    {
     "data": {
      "image/png": "[encoded data removed]",
      "text/plain": [
       "<Figure size 432x288 with 1 Axes>"
      ]
     },
     "metadata": {
      "needs_background": "light"
     },
     "output_type": "display_data"
    }
   ],
   "source": [
    "sns.boxplot(train_set.Field_64)"
   ]
  },
  {
   "cell_type": "markdown",
   "metadata": {},
   "source": [
    "## Field_65, 66 : maybe just leave them as is"
   ]
  },
  {
   "cell_type": "code",
   "execution_count": 34,
   "metadata": {},
   "outputs": [],
   "source": [
    "pd.crosstab(train_set.Field_65, train_set.Field_66).to_csv('field6566.csv')"
   ]
  },
  {
   "cell_type": "code",
   "execution_count": 35,
   "metadata": {},
   "outputs": [
    {
     "data": {
      "text/plain": [
       "nan                                                         28884\n",
       "Vùng 1                                                      11780\n",
       "Vùng 2                                                       5026\n",
       "Vùng 3                                                       4071\n",
       "Vùng 4                                                       1657\n",
       "DN đầu tư NN (Vùng 1 có ĐT) {01->09, 15}                     1137\n",
       "DN đầu tư NN (Vùng 2 có ĐT) {10->14, 16, 19->23, 25, 29}      228\n",
       "DN đầu tư NN (Vùng 3 có ĐT) {17, 18, 24, 26->28}              127\n",
       "2                                                              33\n",
       "DN tư nhân                                                     30\n",
       "DN đầu tư NN (Vùng 4 có ĐT)                                    29\n",
       "1                                                              12\n",
       "5                                                               6\n",
       "3                                                               4\n",
       "Khối DN có vốn DTNN                                             3\n",
       "4                                                               2\n",
       "0                                                               1\n",
       "Name: Field_65, dtype: int64"
      ]
     },
     "execution_count": 35,
     "metadata": {},
     "output_type": "execute_result"
    }
   ],
   "source": [
    "train_set.Field_65.value_counts()"
   ]
  },
  {
   "cell_type": "code",
   "execution_count": 36,
   "metadata": {},
   "outputs": [
    {
     "data": {
      "text/plain": [
       "nan       28240\n",
       "D          5297\n",
       "C          4519\n",
       "G          3721\n",
       "E          3606\n",
       "F          2505\n",
       "B          2327\n",
       "I          1531\n",
       "H          1228\n",
       "Vùng 2       27\n",
       "Vùng 1       12\n",
       "1             6\n",
       "3             3\n",
       "Vùng 3        3\n",
       "7             2\n",
       "Vùng 4        2\n",
       "2             1\n",
       "Name: Field_66, dtype: int64"
      ]
     },
     "execution_count": 36,
     "metadata": {},
     "output_type": "execute_result"
    }
   ],
   "source": [
    "train_set.Field_66.value_counts()"
   ]
  },
  {
   "cell_type": "markdown",
   "metadata": {},
   "source": [
    "## Field_67"
   ]
  },
  {
   "cell_type": "code",
   "execution_count": 37,
   "metadata": {},
   "outputs": [
    {
     "data": {
      "text/plain": [
       "<AxesSubplot:xlabel='Field_67'>"
      ]
     },
     "execution_count": 37,
     "metadata": {},
     "output_type": "execute_result"
    },
    {
     "data": {
      "image/png": "[encoded data removed]",
      "text/plain": [
       "<Figure size 432x288 with 1 Axes>"
      ]
     },
     "metadata": {
      "needs_background": "light"
     },
     "output_type": "display_data"
    }
   ],
   "source": [
    "make_float(train_set, ['Field_67'])\n",
    "sns.distplot(train_set.Field_67)"
   ]
  },
  {
   "cell_type": "code",
   "execution_count": 38,
   "metadata": {},
   "outputs": [
    {
     "data": {
      "text/plain": [
       "<AxesSubplot:xlabel='Field_67'>"
      ]
     },
     "execution_count": 38,
     "metadata": {},
     "output_type": "execute_result"
    },
    {
     "data": {
      "image/png": "[encoded data removed]",
      "text/plain": [
       "<Figure size 432x288 with 1 Axes>"
      ]
     },
     "metadata": {
      "needs_background": "light"
     },
     "output_type": "display_data"
    }
   ],
   "source": [
    "sns.boxplot(train_set.Field_67)"
   ]
  },
  {
   "cell_type": "markdown",
   "metadata": {},
   "source": [
    "## Field_68: tax code: drop"
   ]
  },
  {
   "cell_type": "markdown",
   "metadata": {},
   "source": [
    "## Field_69\n",
    "## Whatever > 1 is likely errors"
   ]
  },
  {
   "cell_type": "code",
   "execution_count": 40,
   "metadata": {},
   "outputs": [],
   "source": [
    "make_float(train_set, ['Field_69'])\n",
    "train_set.Field_69 = np.where(train_set.Field_69 <= 1, \\\n",
    "                              train_set.Field_69 , np.nan)"
   ]
  },
  {
   "cell_type": "code",
   "execution_count": 41,
   "metadata": {},
   "outputs": [
    {
     "data": {
      "text/plain": [
       "<AxesSubplot:xlabel='Field_69'>"
      ]
     },
     "execution_count": 41,
     "metadata": {},
     "output_type": "execute_result"
    },
    {
     "data": {
      "image/png": "[encoded data removed]",
      "text/plain": [
       "<Figure size 432x288 with 1 Axes>"
      ]
     },
     "metadata": {
      "needs_background": "light"
     },
     "output_type": "display_data"
    }
   ],
   "source": [
    "sns.boxplot(train_set.Field_69 )"
   ]
  },
  {
   "cell_type": "code",
   "execution_count": 42,
   "metadata": {},
   "outputs": [
    {
     "data": {
      "text/plain": [
       "<AxesSubplot:xlabel='Field_69'>"
      ]
     },
     "execution_count": 42,
     "metadata": {},
     "output_type": "execute_result"
    },
    {
     "data": {
      "image/png": "[encoded data removed]",
      "text/plain": [
       "<Figure size 432x288 with 1 Axes>"
      ]
     },
     "metadata": {
      "needs_background": "light"
     },
     "output_type": "display_data"
    }
   ],
   "source": [
    "make_float(train_set, ['Field_69'])\n",
    "\n",
    "sns.distplot(train_set.Field_69)"
   ]
  },
  {
   "cell_type": "markdown",
   "metadata": {},
   "source": [
    "\n",
    "## Field_70\n",
    "## there are a few string mixed in, so make them nans\n",
    "## also there are outliers"
   ]
  },
  {
   "cell_type": "code",
   "execution_count": 43,
   "metadata": {},
   "outputs": [
    {
     "data": {
      "text/plain": [
       "1                                     3\n",
       "0.53                                  3\n",
       "Vùng 2                                2\n",
       "0.7                                   2\n",
       "0.72                                  2\n",
       "784722                                2\n",
       "0.1                                   2\n",
       "0.5                                   1\n",
       "0.78                                  1\n",
       "Cônh nhân tổ thống kê                 1\n",
       "Vùng 1                                1\n",
       "0.75                                  1\n",
       "0.5                                   1\n",
       "0.46                                  1\n",
       "0.36                                  1\n",
       "0.04                                  1\n",
       "784722.0                              1\n",
       "0.59                                  1\n",
       "0.36                                  1\n",
       "amp                                   1\n",
       "0.61                                  1\n",
       "0.22                                  1\n",
       "0.66                                  1\n",
       "0.42                                  1\n",
       "0.18                                  1\n",
       "nhân viên kinh doanh dự án samsung    1\n",
       "0.37                                  1\n",
       "0.51                                  1\n",
       "0.54                                  1\n",
       "E                                     1\n",
       "0.22                                  1\n",
       "0.07                                  1\n",
       "D                                     1\n",
       "0.37                                  1\n",
       "Name: Field_70, dtype: int64"
      ]
     },
     "execution_count": 43,
     "metadata": {},
     "output_type": "execute_result"
    }
   ],
   "source": [
    "train_set.Field_70.value_counts()[100:]"
   ]
  },
  {
   "cell_type": "code",
   "execution_count": 44,
   "metadata": {},
   "outputs": [
    {
     "data": {
      "text/plain": [
       "<AxesSubplot:xlabel='Field_70'>"
      ]
     },
     "execution_count": 44,
     "metadata": {},
     "output_type": "execute_result"
    },
    {
     "data": {
      "image/png": "[encoded data removed]",
      "text/plain": [
       "<Figure size 432x288 with 1 Axes>"
      ]
     },
     "metadata": {
      "needs_background": "light"
     },
     "output_type": "display_data"
    }
   ],
   "source": [
    "make_float(train_set, ['Field_70'])\n",
    "\n",
    "sns.distplot(train_set.Field_70)"
   ]
  },
  {
   "cell_type": "code",
   "execution_count": 45,
   "metadata": {},
   "outputs": [],
   "source": [
    "train_set.Field_70 = np.where(train_set.Field_70 <= 1,\\\n",
    "                              train_set.Field_70, np.nan)"
   ]
  },
  {
   "cell_type": "code",
   "execution_count": 46,
   "metadata": {},
   "outputs": [
    {
     "data": {
      "text/plain": [
       "<AxesSubplot:xlabel='Field_70'>"
      ]
     },
     "execution_count": 46,
     "metadata": {},
     "output_type": "execute_result"
    },
    {
     "data": {
      "image/png": "[encoded data removed]",
      "text/plain": [
       "<Figure size 432x288 with 1 Axes>"
      ]
     },
     "metadata": {
      "needs_background": "light"
     },
     "output_type": "display_data"
    }
   ],
   "source": [
    "sns.boxplot(train_set.Field_70)"
   ]
  },
  {
   "cell_type": "markdown",
   "metadata": {},
   "source": [
    "## Field_71\n",
    "## some string mixed in, make those nan\n",
    "## also likely errors or maybe outliers, make them nan too"
   ]
  },
  {
   "cell_type": "code",
   "execution_count": 47,
   "metadata": {},
   "outputs": [
    {
     "data": {
      "text/plain": [
       "nan       27466\n",
       "0.06        732\n",
       "0.245       603\n",
       "0.04        545\n",
       "0.175       349\n",
       "          ...  \n",
       "-0.155        1\n",
       "-0.06         1\n",
       "1.0           1\n",
       "1             1\n",
       "-0.07         1\n",
       "Name: Field_71, Length: 491, dtype: int64"
      ]
     },
     "execution_count": 47,
     "metadata": {},
     "output_type": "execute_result"
    }
   ],
   "source": [
    "train_set.Field_71.value_counts(dropna=False).sort_values(ascending=False)"
   ]
  },
  {
   "cell_type": "code",
   "execution_count": 48,
   "metadata": {},
   "outputs": [
    {
     "data": {
      "text/plain": [
       "<AxesSubplot:xlabel='Field_71'>"
      ]
     },
     "execution_count": 48,
     "metadata": {},
     "output_type": "execute_result"
    },
    {
     "data": {
      "image/png": "[encoded data removed]",
      "text/plain": [
       "<Figure size 432x288 with 1 Axes>"
      ]
     },
     "metadata": {
      "needs_background": "light"
     },
     "output_type": "display_data"
    }
   ],
   "source": [
    "make_float(train_set, ['Field_71'])\n",
    "\n",
    "sns.distplot(train_set.Field_71)"
   ]
  },
  {
   "cell_type": "code",
   "execution_count": 49,
   "metadata": {},
   "outputs": [],
   "source": [
    "train_set.Field_71 = np.where(train_set.Field_71 <= 1,\\\n",
    "                              train_set.Field_71, np.nan)"
   ]
  },
  {
   "cell_type": "code",
   "execution_count": 50,
   "metadata": {},
   "outputs": [
    {
     "data": {
      "text/plain": [
       "<AxesSubplot:xlabel='Field_71'>"
      ]
     },
     "execution_count": 50,
     "metadata": {},
     "output_type": "execute_result"
    },
    {
     "data": {
      "image/png": "[encoded data removed]",
      "text/plain": [
       "<Figure size 432x288 with 1 Axes>"
      ]
     },
     "metadata": {
      "needs_background": "light"
     },
     "output_type": "display_data"
    }
   ],
   "source": [
    "sns.distplot(train_set.Field_71)"
   ]
  },
  {
   "cell_type": "code",
   "execution_count": 51,
   "metadata": {},
   "outputs": [
    {
     "data": {
      "text/plain": [
       "<AxesSubplot:xlabel='Field_71'>"
      ]
     },
     "execution_count": 51,
     "metadata": {},
     "output_type": "execute_result"
    },
    {
     "data": {
      "image/png": "[encoded data removed]",
      "text/plain": [
       "<Figure size 432x288 with 1 Axes>"
      ]
     },
     "metadata": {
      "needs_background": "light"
     },
     "output_type": "display_data"
    }
   ],
   "source": [
    "sns.boxplot(train_set.Field_71)"
   ]
  },
  {
   "cell_type": "markdown",
   "metadata": {},
   "source": [
    "## Field_72\n",
    "## some outliers, make them nan"
   ]
  },
  {
   "cell_type": "code",
   "execution_count": 52,
   "metadata": {},
   "outputs": [
    {
     "data": {
      "text/plain": [
       "<AxesSubplot:xlabel='Field_72'>"
      ]
     },
     "execution_count": 52,
     "metadata": {},
     "output_type": "execute_result"
    },
    {
     "data": {
      "image/png": "[encoded data removed]",
      "text/plain": [
       "<Figure size 432x288 with 1 Axes>"
      ]
     },
     "metadata": {
      "needs_background": "light"
     },
     "output_type": "display_data"
    }
   ],
   "source": [
    "make_float(train_set, ['Field_72'])\n",
    "\n",
    "sns.distplot(train_set.Field_72)"
   ]
  },
  {
   "cell_type": "code",
   "execution_count": 53,
   "metadata": {},
   "outputs": [],
   "source": [
    "train_set.Field_72 = np.where(train_set.Field_72 <= 10,\\\n",
    "                              train_set.Field_72, np.nan)"
   ]
  },
  {
   "cell_type": "code",
   "execution_count": 54,
   "metadata": {},
   "outputs": [
    {
     "data": {
      "text/plain": [
       "<AxesSubplot:xlabel='Field_72'>"
      ]
     },
     "execution_count": 54,
     "metadata": {},
     "output_type": "execute_result"
    },
    {
     "data": {
      "image/png": "[encoded data removed]",
      "text/plain": [
       "<Figure size 432x288 with 1 Axes>"
      ]
     },
     "metadata": {
      "needs_background": "light"
     },
     "output_type": "display_data"
    }
   ],
   "source": [
    "sns.distplot(train_set.Field_72)"
   ]
  },
  {
   "cell_type": "code",
   "execution_count": 55,
   "metadata": {},
   "outputs": [
    {
     "data": {
      "text/plain": [
       "<AxesSubplot:xlabel='Field_72'>"
      ]
     },
     "execution_count": 55,
     "metadata": {},
     "output_type": "execute_result"
    },
    {
     "data": {
      "image/png": "[encoded data removed]",
      "text/plain": [
       "<Figure size 432x288 with 1 Axes>"
      ]
     },
     "metadata": {
      "needs_background": "light"
     },
     "output_type": "display_data"
    }
   ],
   "source": [
    "sns.boxplot(train_set.Field_72)"
   ]
  },
  {
   "cell_type": "markdown",
   "metadata": {},
   "source": [
    "## Field_73\n",
    "## some strings mixed i and errors (values too big) make em nan"
   ]
  },
  {
   "cell_type": "code",
   "execution_count": 56,
   "metadata": {},
   "outputs": [
    {
     "data": {
      "text/plain": [
       "1.0             28697\n",
       "nan             23887\n",
       "0.0               377\n",
       "0.37                4\n",
       "0.21                3\n",
       "-0.04               2\n",
       "0.43                2\n",
       "0.35                2\n",
       "0.38                2\n",
       "0.63                2\n",
       "-0.64               2\n",
       "-0.18               2\n",
       "-0.88               2\n",
       "0.945               2\n",
       "-0.07               2\n",
       "0.62                1\n",
       "0.07                1\n",
       "0.59                1\n",
       "0.52                1\n",
       "0.06                1\n",
       "0.81                1\n",
       "-0.19               1\n",
       "-0.03               1\n",
       "-0.21               1\n",
       "-0.87               1\n",
       "0.04                1\n",
       "309544848.0         1\n",
       "-0.13               1\n",
       "3400388086.0        1\n",
       "0.645               1\n",
       "0.09                1\n",
       "0.465               1\n",
       "1600638237.0        1\n",
       "0.12                1\n",
       "-0.51               1\n",
       "0.44                1\n",
       "0.285               1\n",
       "0.22                1\n",
       "0.48                1\n",
       "0.14                1\n",
       "0.27                1\n",
       "-0.29               1\n",
       "0.96                1\n",
       "0.215               1\n",
       "-0.38               1\n",
       "0.49                1\n",
       "-0.01               1\n",
       "0.1                 1\n",
       "0.39                1\n",
       "0.01                1\n",
       "0.6                 1\n",
       "-0.58               1\n",
       "0.17                1\n",
       "0.13                1\n",
       "0.08                1\n",
       "-0.17               1\n",
       "-0.42               1\n",
       "Name: Field_73, dtype: int64"
      ]
     },
     "execution_count": 56,
     "metadata": {},
     "output_type": "execute_result"
    }
   ],
   "source": [
    "train_set.Field_73.value_counts(dropna=False)"
   ]
  },
  {
   "cell_type": "code",
   "execution_count": 57,
   "metadata": {},
   "outputs": [
    {
     "data": {
      "text/plain": [
       "<AxesSubplot:xlabel='Field_73'>"
      ]
     },
     "execution_count": 57,
     "metadata": {},
     "output_type": "execute_result"
    },
    {
     "data": {
      "image/png": "[encoded data removed]",
      "text/plain": [
       "<Figure size 432x288 with 1 Axes>"
      ]
     },
     "metadata": {
      "needs_background": "light"
     },
     "output_type": "display_data"
    }
   ],
   "source": [
    "make_float(train_set, ['Field_73'])\n",
    "\n",
    "sns.distplot(train_set.Field_73)"
   ]
  },
  {
   "cell_type": "code",
   "execution_count": 58,
   "metadata": {},
   "outputs": [
    {
     "data": {
      "text/plain": [
       "<AxesSubplot:xlabel='Field_73'>"
      ]
     },
     "execution_count": 58,
     "metadata": {},
     "output_type": "execute_result"
    },
    {
     "data": {
      "image/png": "[encoded data removed]",
      "text/plain": [
       "<Figure size 432x288 with 1 Axes>"
      ]
     },
     "metadata": {
      "needs_background": "light"
     },
     "output_type": "display_data"
    }
   ],
   "source": [
    "sns.boxplot(train_set.Field_73)"
   ]
  },
  {
   "cell_type": "code",
   "execution_count": 59,
   "metadata": {},
   "outputs": [],
   "source": [
    "train_set.Field_73 = np.where(train_set.Field_73 <= 2,\\\n",
    "                              train_set.Field_73, np.nan)"
   ]
  },
  {
   "cell_type": "code",
   "execution_count": 60,
   "metadata": {},
   "outputs": [
    {
     "data": {
      "text/plain": [
       "<AxesSubplot:xlabel='Field_73'>"
      ]
     },
     "execution_count": 60,
     "metadata": {},
     "output_type": "execute_result"
    },
    {
     "data": {
      "image/png": "[encoded data removed]",
      "text/plain": [
       "<Figure size 432x288 with 1 Axes>"
      ]
     },
     "metadata": {
      "needs_background": "light"
     },
     "output_type": "display_data"
    }
   ],
   "source": [
    "sns.boxplot(train_set.Field_73)"
   ]
  },
  {
   "cell_type": "code",
   "execution_count": 62,
   "metadata": {},
   "outputs": [
    {
     "data": {
      "text/plain": [
       "<AxesSubplot:xlabel='Field_73'>"
      ]
     },
     "execution_count": 62,
     "metadata": {},
     "output_type": "execute_result"
    },
    {
     "data": {
      "image/png": "[encoded data removed]",
      "text/plain": [
       "<Figure size 432x288 with 1 Axes>"
      ]
     },
     "metadata": {
      "needs_background": "light"
     },
     "output_type": "display_data"
    }
   ],
   "source": [
    "sns.distplot(train_set.Field_73)"
   ]
  },
  {
   "cell_type": "markdown",
   "metadata": {},
   "source": [
    "## Field_74"
   ]
  },
  {
   "cell_type": "code",
   "execution_count": 63,
   "metadata": {},
   "outputs": [
    {
     "data": {
      "text/plain": [
       "<AxesSubplot:xlabel='Field_74'>"
      ]
     },
     "execution_count": 63,
     "metadata": {},
     "output_type": "execute_result"
    },
    {
     "data": {
      "image/png": "[encoded data removed]",
      "text/plain": [
       "<Figure size 432x288 with 1 Axes>"
      ]
     },
     "metadata": {
      "needs_background": "light"
     },
     "output_type": "display_data"
    }
   ],
   "source": [
    "make_float(train_set, ['Field_74'])\n",
    "\n",
    "sns.distplot(train_set.Field_74)"
   ]
  },
  {
   "cell_type": "code",
   "execution_count": 64,
   "metadata": {},
   "outputs": [
    {
     "data": {
      "text/plain": [
       "<AxesSubplot:xlabel='Field_74'>"
      ]
     },
     "execution_count": 64,
     "metadata": {},
     "output_type": "execute_result"
    },
    {
     "data": {
      "image/png": "[encoded data removed]",
      "text/plain": [
       "<Figure size 432x288 with 1 Axes>"
      ]
     },
     "metadata": {
      "needs_background": "light"
     },
     "output_type": "display_data"
    }
   ],
   "source": [
    "sns.boxplot(train_set.Field_74)"
   ]
  },
  {
   "cell_type": "markdown",
   "metadata": {},
   "source": [
    "## Field_75\n",
    "\n",
    "## look like some outliers ( > 14 and < 0)\n",
    "## with discrete values, this looks like categorical"
   ]
  },
  {
   "cell_type": "code",
   "execution_count": 65,
   "metadata": {},
   "outputs": [
    {
     "data": {
      "text/plain": [
       "<AxesSubplot:xlabel='Field_75'>"
      ]
     },
     "execution_count": 65,
     "metadata": {},
     "output_type": "execute_result"
    },
    {
     "data": {
      "image/png": "[encoded data removed]",
      "text/plain": [
       "<Figure size 432x288 with 1 Axes>"
      ]
     },
     "metadata": {
      "needs_background": "light"
     },
     "output_type": "display_data"
    }
   ],
   "source": [
    "make_float(train_set, ['Field_75'])\n",
    "\n",
    "sns.distplot(train_set.Field_75)"
   ]
  },
  {
   "cell_type": "code",
   "execution_count": 66,
   "metadata": {},
   "outputs": [],
   "source": [
    "train_set.Field_75 = np.where( (train_set.Field_75 >= 0) & (train_set.Field_75 <= 100),\\\n",
    "                              train_set.Field_75, np.nan)"
   ]
  },
  {
   "cell_type": "code",
   "execution_count": 67,
   "metadata": {},
   "outputs": [
    {
     "data": {
      "text/plain": [
       "<AxesSubplot:xlabel='Field_75'>"
      ]
     },
     "execution_count": 67,
     "metadata": {},
     "output_type": "execute_result"
    },
    {
     "data": {
      "image/png": "[encoded data removed]",
      "text/plain": [
       "<Figure size 432x288 with 1 Axes>"
      ]
     },
     "metadata": {
      "needs_background": "light"
     },
     "output_type": "display_data"
    }
   ],
   "source": [
    "sns.distplot(train_set.Field_75)"
   ]
  },
  {
   "cell_type": "code",
   "execution_count": 68,
   "metadata": {},
   "outputs": [
    {
     "data": {
      "text/plain": [
       "<AxesSubplot:xlabel='Field_75'>"
      ]
     },
     "execution_count": 68,
     "metadata": {},
     "output_type": "execute_result"
    },
    {
     "data": {
      "image/png": "[encoded data removed]",
      "text/plain": [
       "<Figure size 432x288 with 1 Axes>"
      ]
     },
     "metadata": {
      "needs_background": "light"
     },
     "output_type": "display_data"
    }
   ],
   "source": [
    "sns.boxplot(train_set.Field_75)"
   ]
  },
  {
   "cell_type": "markdown",
   "metadata": {},
   "source": [
    "## Field_76: something like Field_75"
   ]
  },
  {
   "cell_type": "code",
   "execution_count": 69,
   "metadata": {},
   "outputs": [
    {
     "data": {
      "text/plain": [
       "nan       29504\n",
       "0.0       11245\n",
       "1.0        6533\n",
       "2.0        3877\n",
       "3.0        1284\n",
       "4.0         398\n",
       "5.0         116\n",
       "6.0          30\n",
       "7.0          13\n",
       "8.0           8\n",
       "9.0           5\n",
       "10.0          2\n",
       "3286.0        2\n",
       "3278.0        2\n",
       "0.27          2\n",
       "0.41          2\n",
       "0.62          1\n",
       "4010.0        1\n",
       "14.0          1\n",
       "1090.0        1\n",
       "2535.0        1\n",
       "0.74          1\n",
       "11.0          1\n",
       "Name: Field_76, dtype: int64"
      ]
     },
     "execution_count": 69,
     "metadata": {},
     "output_type": "execute_result"
    }
   ],
   "source": [
    "train_set.Field_76.value_counts(dropna=False)"
   ]
  },
  {
   "cell_type": "code",
   "execution_count": 70,
   "metadata": {},
   "outputs": [
    {
     "data": {
      "text/plain": [
       "<AxesSubplot:xlabel='Field_76'>"
      ]
     },
     "execution_count": 70,
     "metadata": {},
     "output_type": "execute_result"
    },
    {
     "data": {
      "image/png": "[encoded data removed]",
      "text/plain": [
       "<Figure size 432x288 with 1 Axes>"
      ]
     },
     "metadata": {
      "needs_background": "light"
     },
     "output_type": "display_data"
    }
   ],
   "source": [
    "make_float(train_set, ['Field_76'])\n",
    "\n",
    "sns.distplot(train_set.Field_76)"
   ]
  },
  {
   "cell_type": "code",
   "execution_count": 71,
   "metadata": {},
   "outputs": [],
   "source": [
    "train_set.Field_76 = np.where( (train_set.Field_76 >= 0) & (train_set.Field_76 <= 100),\\\n",
    "                              train_set.Field_76, np.nan)"
   ]
  },
  {
   "cell_type": "code",
   "execution_count": 72,
   "metadata": {},
   "outputs": [
    {
     "data": {
      "text/plain": [
       "<AxesSubplot:xlabel='Field_76'>"
      ]
     },
     "execution_count": 72,
     "metadata": {},
     "output_type": "execute_result"
    },
    {
     "data": {
      "image/png": "[encoded data removed]",
      "text/plain": [
       "<Figure size 432x288 with 1 Axes>"
      ]
     },
     "metadata": {
      "needs_background": "light"
     },
     "output_type": "display_data"
    }
   ],
   "source": [
    "sns.distplot(train_set.Field_76)"
   ]
  },
  {
   "cell_type": "code",
   "execution_count": 73,
   "metadata": {},
   "outputs": [
    {
     "data": {
      "text/plain": [
       "<AxesSubplot:xlabel='Field_76'>"
      ]
     },
     "execution_count": 73,
     "metadata": {},
     "output_type": "execute_result"
    },
    {
     "data": {
      "image/png": "[encoded data removed]",
      "text/plain": [
       "<Figure size 432x288 with 1 Axes>"
      ]
     },
     "metadata": {
      "needs_background": "light"
     },
     "output_type": "display_data"
    }
   ],
   "source": [
    "sns.boxplot(train_set.Field_76)"
   ]
  },
  {
   "cell_type": "markdown",
   "metadata": {},
   "source": [
    "## Field_77: like Field_75 76"
   ]
  },
  {
   "cell_type": "code",
   "execution_count": 74,
   "metadata": {},
   "outputs": [
    {
     "data": {
      "text/plain": [
       "nan       29504\n",
       "4.0        4463\n",
       "1.0        4220\n",
       "3.0        4177\n",
       "2.0        3372\n",
       "5.0        2914\n",
       "6.0        1710\n",
       "7.0         915\n",
       "0.0         612\n",
       "8.0         531\n",
       "9.0         257\n",
       "10.0        175\n",
       "11.0         82\n",
       "12.0         52\n",
       "13.0         25\n",
       "14.0         17\n",
       "0.205         2\n",
       "0.405         1\n",
       "2536.0        1\n",
       "Name: Field_77, dtype: int64"
      ]
     },
     "execution_count": 74,
     "metadata": {},
     "output_type": "execute_result"
    }
   ],
   "source": [
    "train_set.Field_77.value_counts(dropna=False)"
   ]
  },
  {
   "cell_type": "code",
   "execution_count": 75,
   "metadata": {},
   "outputs": [
    {
     "data": {
      "text/plain": [
       "<AxesSubplot:xlabel='Field_77'>"
      ]
     },
     "execution_count": 75,
     "metadata": {},
     "output_type": "execute_result"
    },
    {
     "data": {
      "image/png": "[encoded data removed]",
      "text/plain": [
       "<Figure size 432x288 with 1 Axes>"
      ]
     },
     "metadata": {
      "needs_background": "light"
     },
     "output_type": "display_data"
    }
   ],
   "source": [
    "make_float(train_set, ['Field_77'])\n",
    "\n",
    "sns.distplot(train_set.Field_77)"
   ]
  },
  {
   "cell_type": "code",
   "execution_count": 76,
   "metadata": {},
   "outputs": [
    {
     "data": {
      "text/plain": [
       "0.000         612\n",
       "0.205           2\n",
       "0.405           1\n",
       "1.000        4220\n",
       "2.000        3372\n",
       "3.000        4177\n",
       "4.000        4463\n",
       "5.000        2914\n",
       "6.000        1710\n",
       "7.000         915\n",
       "8.000         531\n",
       "9.000         257\n",
       "10.000        175\n",
       "11.000         82\n",
       "12.000         52\n",
       "13.000         25\n",
       "14.000         17\n",
       "2536.000        1\n",
       "NaN         29504\n",
       "Name: Field_77, dtype: int64"
      ]
     },
     "execution_count": 76,
     "metadata": {},
     "output_type": "execute_result"
    }
   ],
   "source": [
    "train_set.Field_77.value_counts(dropna=False).sort_index()"
   ]
  },
  {
   "cell_type": "code",
   "execution_count": 77,
   "metadata": {},
   "outputs": [],
   "source": [
    "train_set.Field_77 = np.where( (train_set.Field_77 >= 0) & (train_set.Field_77 <= 100),\\\n",
    "                              train_set.Field_77, np.nan)"
   ]
  },
  {
   "cell_type": "code",
   "execution_count": 78,
   "metadata": {},
   "outputs": [
    {
     "data": {
      "text/plain": [
       "<AxesSubplot:xlabel='Field_77'>"
      ]
     },
     "execution_count": 78,
     "metadata": {},
     "output_type": "execute_result"
    },
    {
     "data": {
      "image/png": "[encoded data removed]",
      "text/plain": [
       "<Figure size 432x288 with 1 Axes>"
      ]
     },
     "metadata": {
      "needs_background": "light"
     },
     "output_type": "display_data"
    }
   ],
   "source": [
    "sns.distplot(train_set.Field_77)"
   ]
  },
  {
   "cell_type": "code",
   "execution_count": 79,
   "metadata": {},
   "outputs": [
    {
     "data": {
      "text/plain": [
       "<AxesSubplot:xlabel='Field_76'>"
      ]
     },
     "execution_count": 79,
     "metadata": {},
     "output_type": "execute_result"
    },
    {
     "data": {
      "image/png": "[encoded data removed]",
      "text/plain": [
       "<Figure size 432x288 with 1 Axes>"
      ]
     },
     "metadata": {
      "needs_background": "light"
     },
     "output_type": "display_data"
    }
   ],
   "source": [
    "sns.boxplot(train_set.Field_76)"
   ]
  },
  {
   "cell_type": "markdown",
   "metadata": {},
   "source": [
    "## Field_78"
   ]
  },
  {
   "cell_type": "code",
   "execution_count": 80,
   "metadata": {},
   "outputs": [
    {
     "data": {
      "text/plain": [
       "<AxesSubplot:xlabel='Field_78'>"
      ]
     },
     "execution_count": 80,
     "metadata": {},
     "output_type": "execute_result"
    },
    {
     "data": {
      "image/png": "[encoded data removed]",
      "text/plain": [
       "<Figure size 432x288 with 1 Axes>"
      ]
     },
     "metadata": {
      "needs_background": "light"
     },
     "output_type": "display_data"
    }
   ],
   "source": [
    "make_float(train_set, ['Field_78'])\n",
    "\n",
    "sns.distplot(train_set.Field_78)"
   ]
  },
  {
   "cell_type": "code",
   "execution_count": 81,
   "metadata": {},
   "outputs": [
    {
     "data": {
      "text/plain": [
       "<AxesSubplot:xlabel='Field_78'>"
      ]
     },
     "execution_count": 81,
     "metadata": {},
     "output_type": "execute_result"
    },
    {
     "data": {
      "image/png": "[encoded data removed]",
      "text/plain": [
       "<Figure size 432x288 with 1 Axes>"
      ]
     },
     "metadata": {
      "needs_background": "light"
     },
     "output_type": "display_data"
    }
   ],
   "source": [
    "sns.boxplot(train_set.Field_78)"
   ]
  },
  {
   "cell_type": "markdown",
   "metadata": {},
   "source": [
    "## Field_79: only 1 has val < 0 -> make it nan"
   ]
  },
  {
   "cell_type": "code",
   "execution_count": 82,
   "metadata": {},
   "outputs": [
    {
     "data": {
      "text/plain": [
       "<AxesSubplot:xlabel='Field_79'>"
      ]
     },
     "execution_count": 82,
     "metadata": {},
     "output_type": "execute_result"
    },
    {
     "data": {
      "image/png": "[encoded data removed]",
      "text/plain": [
       "<Figure size 432x288 with 1 Axes>"
      ]
     },
     "metadata": {
      "needs_background": "light"
     },
     "output_type": "display_data"
    }
   ],
   "source": [
    "make_float(train_set, ['Field_79'])\n",
    "\n",
    "sns.distplot(train_set.Field_79)"
   ]
  },
  {
   "cell_type": "code",
   "execution_count": 83,
   "metadata": {},
   "outputs": [],
   "source": [
    "train_set.Field_79 = np.where( (train_set.Field_79 >= 0),\\\n",
    "                              train_set.Field_79, np.nan)"
   ]
  },
  {
   "cell_type": "code",
   "execution_count": 84,
   "metadata": {},
   "outputs": [
    {
     "data": {
      "text/plain": [
       "<AxesSubplot:xlabel='Field_79'>"
      ]
     },
     "execution_count": 84,
     "metadata": {},
     "output_type": "execute_result"
    },
    {
     "data": {
      "image/png": "[encoded data removed]",
      "text/plain": [
       "<Figure size 432x288 with 1 Axes>"
      ]
     },
     "metadata": {
      "needs_background": "light"
     },
     "output_type": "display_data"
    }
   ],
   "source": [
    "sns.boxplot(train_set.Field_79)"
   ]
  },
  {
   "cell_type": "markdown",
   "metadata": {},
   "source": [
    "## Field_80"
   ]
  },
  {
   "cell_type": "code",
   "execution_count": 85,
   "metadata": {},
   "outputs": [
    {
     "data": {
      "text/plain": [
       "<AxesSubplot:xlabel='Field_80'>"
      ]
     },
     "execution_count": 85,
     "metadata": {},
     "output_type": "execute_result"
    },
    {
     "data": {
      "image/png": "[encoded data removed]",
      "text/plain": [
       "<Figure size 432x288 with 1 Axes>"
      ]
     },
     "metadata": {
      "needs_background": "light"
     },
     "output_type": "display_data"
    }
   ],
   "source": [
    "make_float(train_set, ['Field_80'])\n",
    "\n",
    "sns.distplot(train_set.Field_80)"
   ]
  },
  {
   "cell_type": "code",
   "execution_count": 86,
   "metadata": {},
   "outputs": [
    {
     "data": {
      "text/plain": [
       "<AxesSubplot:xlabel='Field_80'>"
      ]
     },
     "execution_count": 86,
     "metadata": {},
     "output_type": "execute_result"
    },
    {
     "data": {
      "image/png": "[encoded data removed]",
      "text/plain": [
       "<Figure size 432x288 with 1 Axes>"
      ]
     },
     "metadata": {
      "needs_background": "light"
     },
     "output_type": "display_data"
    }
   ],
   "source": [
    "sns.boxplot(train_set.Field_80)"
   ]
  },
  {
   "cell_type": "markdown",
   "metadata": {},
   "source": [
    "## Field_81"
   ]
  },
  {
   "cell_type": "code",
   "execution_count": 87,
   "metadata": {},
   "outputs": [
    {
     "data": {
      "text/plain": [
       "<AxesSubplot:xlabel='Field_81'>"
      ]
     },
     "execution_count": 87,
     "metadata": {},
     "output_type": "execute_result"
    },
    {
     "data": {
      "image/png": "[encoded data removed]",
      "text/plain": [
       "<Figure size 432x288 with 1 Axes>"
      ]
     },
     "metadata": {
      "needs_background": "light"
     },
     "output_type": "display_data"
    }
   ],
   "source": [
    "make_float(train_set, ['Field_81'])\n",
    "\n",
    "sns.distplot(train_set.Field_81)"
   ]
  },
  {
   "cell_type": "code",
   "execution_count": 88,
   "metadata": {},
   "outputs": [
    {
     "data": {
      "text/plain": [
       "<AxesSubplot:xlabel='Field_81'>"
      ]
     },
     "execution_count": 88,
     "metadata": {},
     "output_type": "execute_result"
    },
    {
     "data": {
      "image/png": "[encoded data removed]",
      "text/plain": [
       "<Figure size 432x288 with 1 Axes>"
      ]
     },
     "metadata": {
      "needs_background": "light"
     },
     "output_type": "display_data"
    }
   ],
   "source": [
    "sns.boxplot(train_set.Field_81)"
   ]
  },
  {
   "cell_type": "markdown",
   "metadata": {},
   "source": [
    "## Field_82: looks like values apart from 0 1 2 3 4 are errors"
   ]
  },
  {
   "cell_type": "code",
   "execution_count": 89,
   "metadata": {},
   "outputs": [
    {
     "data": {
      "text/plain": [
       "<AxesSubplot:xlabel='Field_82'>"
      ]
     },
     "execution_count": 89,
     "metadata": {},
     "output_type": "execute_result"
    },
    {
     "data": {
      "image/png": "[encoded data removed]",
      "text/plain": [
       "<Figure size 432x288 with 1 Axes>"
      ]
     },
     "metadata": {
      "needs_background": "light"
     },
     "output_type": "display_data"
    }
   ],
   "source": [
    "make_float(train_set, ['Field_82'])\n",
    "\n",
    "sns.distplot(train_set.Field_82)"
   ]
  },
  {
   "cell_type": "code",
   "execution_count": 90,
   "metadata": {},
   "outputs": [
    {
     "data": {
      "text/plain": [
       "-177.000000        1\n",
       "-137.000000        1\n",
       "-136.000000        1\n",
       "-132.000000        1\n",
       "-119.000000        1\n",
       "-99.000000         2\n",
       "-81.000000         1\n",
       "-78.000000         1\n",
       "-70.000000         1\n",
       "-64.000000         1\n",
       "-56.000000         1\n",
       "-46.500000         1\n",
       "-20.000000         1\n",
       "-7.000000          1\n",
       " 0.000000          9\n",
       " 1.000000      36200\n",
       " 2.000000       5089\n",
       " 3.000000       4685\n",
       " 4.000000       6993\n",
       " 6.000000          1\n",
       " 7.000000          1\n",
       " 9.666667          2\n",
       " 10.000000         1\n",
       " 12.000000         1\n",
       " 15.000000         1\n",
       " 15.500000         1\n",
       " 22.000000         1\n",
       " 61.000000         1\n",
       "Name: Field_82, dtype: int64"
      ]
     },
     "execution_count": 90,
     "metadata": {},
     "output_type": "execute_result"
    }
   ],
   "source": [
    "train_set.Field_82.value_counts().sort_index()"
   ]
  },
  {
   "cell_type": "code",
   "execution_count": 91,
   "metadata": {},
   "outputs": [],
   "source": [
    "train_set.Field_82 = np.where( (train_set.Field_82 >= 0) & (train_set.Field_82 <= 5),\\\n",
    "                              train_set.Field_82, np.nan)"
   ]
  },
  {
   "cell_type": "code",
   "execution_count": 92,
   "metadata": {},
   "outputs": [
    {
     "data": {
      "text/plain": [
       "<AxesSubplot:xlabel='Field_82'>"
      ]
     },
     "execution_count": 92,
     "metadata": {},
     "output_type": "execute_result"
    },
    {
     "data": {
      "image/png": "[encoded data removed]",
      "text/plain": [
       "<Figure size 432x288 with 1 Axes>"
      ]
     },
     "metadata": {
      "needs_background": "light"
     },
     "output_type": "display_data"
    }
   ],
   "source": [
    "sns.boxplot(train_set.Field_82)"
   ]
  },
  {
   "cell_type": "code",
   "execution_count": 93,
   "metadata": {},
   "outputs": [
    {
     "data": {
      "text/plain": [
       "<AxesSubplot:xlabel='Field_82'>"
      ]
     },
     "execution_count": 93,
     "metadata": {},
     "output_type": "execute_result"
    },
    {
     "data": {
      "image/png": "[encoded data removed]",
      "text/plain": [
       "<Figure size 432x288 with 1 Axes>"
      ]
     },
     "metadata": {
      "needs_background": "light"
     },
     "output_type": "display_data"
    }
   ],
   "source": [
    "sns.distplot(train_set.Field_82)"
   ]
  },
  {
   "cell_type": "markdown",
   "metadata": {},
   "source": [
    "## create a new column name partner_sum"
   ]
  },
  {
   "cell_type": "code",
   "execution_count": 95,
   "metadata": {},
   "outputs": [],
   "source": [
    "partners_cols = ['partner0_A', 'partner0_B', 'partner0_C',\n",
    "       'partner0_D', 'partner0_E', 'partner0_F', 'partner0_G', 'partner0_H',\n",
    "       'partner1_A', 'partner1_C', 'partner1_G', 'partner1_H', 'partner2_A',\n",
    "       'partner2_C', 'partner2_D', 'partner2_F', 'partner2_H', 'partner3_A',\n",
    "       'partner3_D', 'partner3_E', 'partner4_L', 'partner5_A', 'partner5_D',\n",
    "       'partner5_G']"
   ]
  },
  {
   "cell_type": "code",
   "execution_count": 96,
   "metadata": {},
   "outputs": [],
   "source": [
    "train_set['partner_sum'] = train_set[partners_cols].\\\n",
    "        applymap(lambda x: np.nan if x=='nan' else x).sum(axis=1)"
   ]
  },
  {
   "cell_type": "code",
   "execution_count": 97,
   "metadata": {},
   "outputs": [],
   "source": [
    "train_set[partners_cols] = train_set[partners_cols].\\\n",
    "            applymap(lambda x: np.nan if x=='nan' else x)"
   ]
  },
  {
   "cell_type": "code",
   "execution_count": 98,
   "metadata": {},
   "outputs": [],
   "source": [
    "partners_cols.append('partner_sum')"
   ]
  },
  {
   "cell_type": "markdown",
   "metadata": {},
   "source": [
    "<!-- ## From the below correlations, we can drop:\n",
    "['partner0_C', 'partner0_D', 'partner0_E', 'partner0_F',\\\n",
    "                     'partner2_C', 'partner2_D', 'partner2_F', 'partner2_F',\\\n",
    "                     'partner2_H'] -->"
   ]
  },
  {
   "cell_type": "code",
   "execution_count": 112,
   "metadata": {},
   "outputs": [],
   "source": [
    "# partners_cols_corr = train_set[partners_cols].corr()\n",
    "# for col in partners_cols:\n",
    "#     print (\"For\", col)\n",
    "#     print (partners_cols_corr[col][partners_cols_corr[col]>0.9])"
   ]
  },
  {
   "cell_type": "markdown",
   "metadata": {},
   "source": [
    "## friendCount"
   ]
  },
  {
   "cell_type": "code",
   "execution_count": 113,
   "metadata": {},
   "outputs": [
    {
     "data": {
      "text/plain": [
       "<AxesSubplot:xlabel='friendCount'>"
      ]
     },
     "execution_count": 113,
     "metadata": {},
     "output_type": "execute_result"
    },
    {
     "data": {
      "image/png": "[encoded data removed]",
      "text/plain": [
       "<Figure size 432x288 with 1 Axes>"
      ]
     },
     "metadata": {
      "needs_background": "light"
     },
     "output_type": "display_data"
    }
   ],
   "source": [
    "make_float(train_set, ['friendCount'])\n",
    "\n",
    "sns.distplot(train_set.friendCount)"
   ]
  },
  {
   "cell_type": "code",
   "execution_count": 114,
   "metadata": {},
   "outputs": [
    {
     "data": {
      "text/plain": [
       "<AxesSubplot:xlabel='friendCount'>"
      ]
     },
     "execution_count": 114,
     "metadata": {},
     "output_type": "execute_result"
    },
    {
     "data": {
      "image/png": "[encoded data removed]",
      "text/plain": [
       "<Figure size 432x288 with 1 Axes>"
      ]
     },
     "metadata": {
      "needs_background": "light"
     },
     "output_type": "display_data"
    }
   ],
   "source": [
    "sns.boxplot(train_set.friendCount)"
   ]
  },
  {
   "cell_type": "markdown",
   "metadata": {},
   "source": [
    "## subscriberCount\n"
   ]
  },
  {
   "cell_type": "code",
   "execution_count": 115,
   "metadata": {},
   "outputs": [
    {
     "data": {
      "text/plain": [
       "<AxesSubplot:xlabel='subscriberCount'>"
      ]
     },
     "execution_count": 115,
     "metadata": {},
     "output_type": "execute_result"
    },
    {
     "data": {
      "image/png": "[encoded data removed]",
      "text/plain": [
       "<Figure size 432x288 with 1 Axes>"
      ]
     },
     "metadata": {
      "needs_background": "light"
     },
     "output_type": "display_data"
    }
   ],
   "source": [
    "make_float(train_set, ['subscriberCount'])\n",
    "\n",
    "sns.distplot(train_set.subscriberCount)"
   ]
  },
  {
   "cell_type": "code",
   "execution_count": 116,
   "metadata": {},
   "outputs": [
    {
     "data": {
      "text/plain": [
       "0    13205\n",
       "1     5318\n",
       "Name: label, dtype: int64"
      ]
     },
     "execution_count": 116,
     "metadata": {},
     "output_type": "execute_result"
    }
   ],
   "source": [
    "train_set[train_set.subscriberCount <= 10].label.value_counts()"
   ]
  },
  {
   "cell_type": "code",
   "execution_count": 117,
   "metadata": {},
   "outputs": [
    {
     "data": {
      "text/plain": [
       "0    4107\n",
       "1    1249\n",
       "Name: label, dtype: int64"
      ]
     },
     "execution_count": 117,
     "metadata": {},
     "output_type": "execute_result"
    }
   ],
   "source": [
    "train_set[train_set.subscriberCount > 10].label.value_counts()"
   ]
  },
  {
   "cell_type": "code",
   "execution_count": 118,
   "metadata": {},
   "outputs": [
    {
     "ename": "SyntaxError",
     "evalue": "invalid syntax (<ipython-input-118-6098a1d63e51>, line 1)",
     "output_type": "error",
     "traceback": [
      "\u001b[0;36m  File \u001b[0;32m\"<ipython-input-118-6098a1d63e51>\"\u001b[0;36m, line \u001b[0;32m1\u001b[0m\n\u001b[0;31m    sns.distplot(train_set[train_set.subscrisns.distplot(train_set.friendCount)berCount > 100].subscriberCount)\u001b[0m\n\u001b[0m                                                                                      ^\u001b[0m\n\u001b[0;31mSyntaxError\u001b[0m\u001b[0;31m:\u001b[0m invalid syntax\n"
     ]
    }
   ],
   "source": [
    "sns.distplot(train_set[train_set.subscrisns.distplot(train_set.friendCount)berCount > 100].subscriberCount)"
   ]
  },
  {
   "cell_type": "code",
   "execution_count": 119,
   "metadata": {},
   "outputs": [
    {
     "data": {
      "text/plain": [
       "<AxesSubplot:xlabel='subscriberCount'>"
      ]
     },
     "execution_count": 119,
     "metadata": {},
     "output_type": "execute_result"
    },
    {
     "data": {
      "image/png": "[encoded data removed]",
      "text/plain": [
       "<Figure size 432x288 with 1 Axes>"
      ]
     },
     "metadata": {
      "needs_background": "light"
     },
     "output_type": "display_data"
    }
   ],
   "source": [
    "sns.boxplot(train_set.subscriberCount)"
   ]
  },
  {
   "cell_type": "markdown",
   "metadata": {},
   "source": [
    "## topFriends: looks like there should be online from 0 - 5. Anything more than 5, we'll make it 5"
   ]
  },
  {
   "cell_type": "code",
   "execution_count": 120,
   "metadata": {},
   "outputs": [
    {
     "data": {
      "text/plain": [
       "<AxesSubplot:xlabel='topFriends'>"
      ]
     },
     "execution_count": 120,
     "metadata": {},
     "output_type": "execute_result"
    },
    {
     "data": {
      "image/png": "[encoded data removed]",
      "text/plain": [
       "<Figure size 432x288 with 1 Axes>"
      ]
     },
     "metadata": {
      "needs_background": "light"
     },
     "output_type": "display_data"
    }
   ],
   "source": [
    "make_float(train_set, ['topFriends'])\n",
    "\n",
    "sns.distplot(train_set.topFriends)"
   ]
  },
  {
   "cell_type": "code",
   "execution_count": 121,
   "metadata": {},
   "outputs": [],
   "source": [
    "train_set.topFriends = np.where( (train_set.topFriends >= 0) & (train_set.topFriends <= 5),\\\n",
    "                              train_set.topFriends, np.nan)"
   ]
  },
  {
   "cell_type": "code",
   "execution_count": 122,
   "metadata": {},
   "outputs": [
    {
     "data": {
      "text/plain": [
       "<AxesSubplot:xlabel='topFriends'>"
      ]
     },
     "execution_count": 122,
     "metadata": {},
     "output_type": "execute_result"
    },
    {
     "data": {
      "image/png": "[encoded data removed]",
      "text/plain": [
       "<Figure size 432x288 with 1 Axes>"
      ]
     },
     "metadata": {
      "needs_background": "light"
     },
     "output_type": "display_data"
    }
   ],
   "source": [
    "sns.distplot(train_set.topFriends)"
   ]
  },
  {
   "cell_type": "markdown",
   "metadata": {},
   "source": [
    "## numOrg: make it limit from 0-15"
   ]
  },
  {
   "cell_type": "code",
   "execution_count": 137,
   "metadata": {},
   "outputs": [
    {
     "data": {
      "text/plain": [
       "<AxesSubplot:xlabel='numOrg'>"
      ]
     },
     "execution_count": 137,
     "metadata": {},
     "output_type": "execute_result"
    },
    {
     "data": {
      "image/png": "[encoded data removed]",
      "text/plain": [
       "<Figure size 432x288 with 1 Axes>"
      ]
     },
     "metadata": {
      "needs_background": "light"
     },
     "output_type": "display_data"
    }
   ],
   "source": [
    "make_float(train_set, ['numOrg'])\n",
    "\n",
    "sns.distplot(train_set.numOrg)"
   ]
  },
  {
   "cell_type": "code",
   "execution_count": 145,
   "metadata": {},
   "outputs": [
    {
     "data": {
      "text/plain": [
       "0    23497\n",
       "1    10664\n",
       "Name: label, dtype: int64"
      ]
     },
     "execution_count": 145,
     "metadata": {},
     "output_type": "execute_result"
    }
   ],
   "source": [
    "train_set.numOrg = np.where( (train_set.numOrg >= 0) & (train_set.numOrg <= 15),\\\n",
    "                              train_set.numOrg, np.nan)"
   ]
  },
  {
   "cell_type": "code",
   "execution_count": 146,
   "metadata": {},
   "outputs": [],
   "source": [
    "train_set.numOrg = np.where( (train_set.numOrg >= 15), 15 , train_set.numOrg)\n",
    "train_set.numOrg = np.where( (train_set.numOrg < 0), 0 , train_set.numOrg)"
   ]
  },
  {
   "cell_type": "code",
   "execution_count": 148,
   "metadata": {},
   "outputs": [
    {
     "data": {
      "text/plain": [
       "<AxesSubplot:xlabel='numOrg'>"
      ]
     },
     "execution_count": 148,
     "metadata": {},
     "output_type": "execute_result"
    },
    {
     "data": {
      "image/png": "[encoded data removed]",
      "text/plain": [
       "<Figure size 432x288 with 1 Axes>"
      ]
     },
     "metadata": {
      "needs_background": "light"
     },
     "output_type": "display_data"
    }
   ],
   "source": [
    "sns.distplot(train_set.numOrg)"
   ]
  },
  {
   "cell_type": "code",
   "execution_count": 149,
   "metadata": {},
   "outputs": [
    {
     "data": {
      "text/plain": [
       "<AxesSubplot:xlabel='numOrg'>"
      ]
     },
     "execution_count": 149,
     "metadata": {},
     "output_type": "execute_result"
    },
    {
     "data": {
      "image/png": "[encoded data removed]",
      "text/plain": [
       "<Figure size 432x288 with 1 Axes>"
      ]
     },
     "metadata": {
      "needs_background": "light"
     },
     "output_type": "display_data"
    }
   ],
   "source": [
    "sns.boxplot(train_set.numOrg)"
   ]
  },
  {
   "cell_type": "code",
   "execution_count": 150,
   "metadata": {},
   "outputs": [
    {
     "data": {
      "text/plain": [
       "Index(['label', 'Field_3', 'Field_4', 'Field_10', 'Field_12', 'Field_13',\n",
       "       'Field_19', 'Field_20', 'Field_21', 'Field_22', 'Field_23', 'Field_28',\n",
       "       'Field_29', 'ngaySinh', 'Field_36', 'Field_39', 'Field_42', 'Field_47',\n",
       "       'Field_51', 'Field_53', 'Field_58', 'Field_60', 'Field_61', 'Field_62',\n",
       "       'Field_63', 'Field_64', 'Field_65', 'Field_66', 'Field_67', 'Field_69',\n",
       "       'Field_70', 'Field_71', 'Field_72', 'Field_73', 'Field_74', 'Field_75',\n",
       "       'Field_76', 'Field_77', 'friendCount', 'info_social_sex',\n",
       "       'subscriberCount', 'topFriends', 'numOrg', 'F_numOrg', 'F_numQuery',\n",
       "       'E_numOrg', 'E_numQuery', 'C_numOrg', 'C_numQuery', 'G_numOrg',\n",
       "       'G_numQuery', 'A_numOrg', 'A_numQuery', 'summary_6m', 'summary_3m',\n",
       "       'summary_1m', 'summary_1w', 'partner0_A', 'partner0_B', 'partner0_C',\n",
       "       'partner0_D', 'partner0_E', 'partner0_F', 'partner0_G', 'partner0_H',\n",
       "       'partner1_A', 'partner1_C', 'partner1_G', 'partner1_H', 'partner2_A',\n",
       "       'partner2_C', 'partner2_D', 'partner2_F', 'partner2_H', 'partner3_A',\n",
       "       'partner3_D', 'partner3_E', 'partner4_L', 'partner5_A', 'partner5_D',\n",
       "       'partner5_G', 'brief', 'num_of_phone', 'Field_78', 'Field_79',\n",
       "       'Field_80', 'Field_81', 'Field_82', 'E_diff_date', 'F_diff_date',\n",
       "       'G_diff_date', 'A_diff_date', 'Unnamed: 94', 'Unnamed: 95',\n",
       "       'Unnamed: 96', 'Unnamed: 97', 'Unnamed: 98', 'Unnamed: 99', 'age',\n",
       "       'partner_sum'],\n",
       "      dtype='object')"
      ]
     },
     "execution_count": 150,
     "metadata": {},
     "output_type": "execute_result"
    }
   ],
   "source": [
    "train_set.columns"
   ]
  },
  {
   "cell_type": "markdown",
   "metadata": {},
   "source": [
    "## F_numOrg: make limit (0-5)"
   ]
  },
  {
   "cell_type": "code",
   "execution_count": 153,
   "metadata": {},
   "outputs": [
    {
     "data": {
      "text/plain": [
       "<AxesSubplot:xlabel='F_numOrg'>"
      ]
     },
     "execution_count": 153,
     "metadata": {},
     "output_type": "execute_result"
    },
    {
     "data": {
      "image/png": "[encoded data removed]",
      "text/plain": [
       "<Figure size 432x288 with 1 Axes>"
      ]
     },
     "metadata": {
      "needs_background": "light"
     },
     "output_type": "display_data"
    }
   ],
   "source": [
    "make_float(train_set, ['F_numOrg'])\n",
    "\n",
    "sns.distplot(train_set.F_numOrg)"
   ]
  },
  {
   "cell_type": "code",
   "execution_count": 154,
   "metadata": {},
   "outputs": [
    {
     "data": {
      "text/plain": [
       "<AxesSubplot:xlabel='F_numOrg'>"
      ]
     },
     "execution_count": 154,
     "metadata": {},
     "output_type": "execute_result"
    },
    {
     "data": {
      "image/png": "[encoded data removed]",
      "text/plain": [
       "<Figure size 432x288 with 1 Axes>"
      ]
     },
     "metadata": {
      "needs_background": "light"
     },
     "output_type": "display_data"
    }
   ],
   "source": [
    "sns.boxplot(train_set.F_numOrg)"
   ]
  },
  {
   "cell_type": "code",
   "execution_count": 156,
   "metadata": {},
   "outputs": [],
   "source": [
    "train_set.F_numOrg = np.where( (train_set.F_numOrg >= 5), 5 , train_set.F_numOrg)\n",
    "train_set.F_numOrg = np.where( (train_set.F_numOrg < 1), 1 , train_set.F_numOrg)"
   ]
  },
  {
   "cell_type": "code",
   "execution_count": 157,
   "metadata": {},
   "outputs": [
    {
     "data": {
      "text/plain": [
       "<AxesSubplot:xlabel='F_numOrg'>"
      ]
     },
     "execution_count": 157,
     "metadata": {},
     "output_type": "execute_result"
    },
    {
     "data": {
      "image/png": "[encoded data removed]",
      "text/plain": [
       "<Figure size 432x288 with 1 Axes>"
      ]
     },
     "metadata": {
      "needs_background": "light"
     },
     "output_type": "display_data"
    }
   ],
   "source": [
    "sns.distplot(train_set.F_numOrg)"
   ]
  },
  {
   "cell_type": "code",
   "execution_count": 158,
   "metadata": {},
   "outputs": [
    {
     "data": {
      "text/plain": [
       "<AxesSubplot:xlabel='F_numOrg'>"
      ]
     },
     "execution_count": 158,
     "metadata": {},
     "output_type": "execute_result"
    },
    {
     "data": {
      "image/png": "[encoded data removed]",
      "text/plain": [
       "<Figure size 432x288 with 1 Axes>"
      ]
     },
     "metadata": {
      "needs_background": "light"
     },
     "output_type": "display_data"
    }
   ],
   "source": [
    "sns.boxplot(train_set.F_numOrg)"
   ]
  },
  {
   "cell_type": "markdown",
   "metadata": {},
   "source": [
    "## F_numQuery: make limit 1-5"
   ]
  },
  {
   "cell_type": "code",
   "execution_count": 163,
   "metadata": {},
   "outputs": [
    {
     "data": {
      "text/plain": [
       "1.0       17533\n",
       "2.0        5102\n",
       "3.0        1645\n",
       "4.0         521\n",
       "5.0         183\n",
       "6.0          84\n",
       "7.0          22\n",
       "8.0          10\n",
       "9.0           7\n",
       "0.0           6\n",
       "12.0          2\n",
       "10.0          2\n",
       "16.0          2\n",
       "5627.0        1\n",
       "15.0          1\n",
       "11.0          1\n",
       "13.0          1\n",
       "57.0          1\n",
       "Name: F_numQuery, dtype: int64"
      ]
     },
     "execution_count": 163,
     "metadata": {},
     "output_type": "execute_result"
    }
   ],
   "source": [
    "make_float(train_set, ['F_numQuery'])\n",
    "\n",
    "train_set.F_numQuery.value_counts()"
   ]
  },
  {
   "cell_type": "code",
   "execution_count": 196,
   "metadata": {},
   "outputs": [],
   "source": [
    "train_set.F_numQuery = np.where( (train_set.F_numQuery >= 5), 5 , train_set.F_numQuery)\n",
    "train_set.F_numQuery = np.where( (train_set.F_numQuery < 1), 1 , train_set.F_numQuery)"
   ]
  },
  {
   "cell_type": "code",
   "execution_count": 197,
   "metadata": {},
   "outputs": [
    {
     "data": {
      "text/plain": [
       "<AxesSubplot:xlabel='F_numQuery'>"
      ]
     },
     "execution_count": 197,
     "metadata": {},
     "output_type": "execute_result"
    },
    {
     "data": {
      "image/png": "[encoded data removed]",
      "text/plain": [
       "<Figure size 432x288 with 1 Axes>"
      ]
     },
     "metadata": {
      "needs_background": "light"
     },
     "output_type": "display_data"
    }
   ],
   "source": [
    "sns.distplot(train_set.F_numQuery)"
   ]
  },
  {
   "cell_type": "code",
   "execution_count": 171,
   "metadata": {},
   "outputs": [
    {
     "data": {
      "text/plain": [
       "<AxesSubplot:xlabel='F_numQuery'>"
      ]
     },
     "execution_count": 171,
     "metadata": {},
     "output_type": "execute_result"
    },
    {
     "data": {
      "image/png": "[encoded data removed]",
      "text/plain": [
       "<Figure size 432x288 with 1 Axes>"
      ]
     },
     "metadata": {
      "needs_background": "light"
     },
     "output_type": "display_data"
    }
   ],
   "source": [
    "sns.boxplot(train_set.F_numQuery)"
   ]
  },
  {
   "cell_type": "markdown",
   "metadata": {},
   "source": [
    "## E_numOrg: limit 1-5"
   ]
  },
  {
   "cell_type": "code",
   "execution_count": 173,
   "metadata": {},
   "outputs": [
    {
     "data": {
      "text/plain": [
       "1.0    19400\n",
       "2.0     4975\n",
       "3.0     1108\n",
       "4.0      195\n",
       "5.0       26\n",
       "6.0        2\n",
       "7.0        1\n",
       "Name: E_numOrg, dtype: int64"
      ]
     },
     "execution_count": 173,
     "metadata": {},
     "output_type": "execute_result"
    }
   ],
   "source": [
    "make_float(train_set, ['E_numOrg'])\n",
    "train_set.E_numOrg.value_counts()\n"
   ]
  },
  {
   "cell_type": "code",
   "execution_count": 184,
   "metadata": {},
   "outputs": [],
   "source": [
    "\n",
    "train_set.E_numOrg = np.where( (train_set.E_numOrg >= 5), 5 , train_set.E_numOrg)\n",
    "train_set.E_numOrg = np.where( (train_set.E_numOrg < 1), 1 , train_set.E_numOrg)\n"
   ]
  },
  {
   "cell_type": "code",
   "execution_count": 185,
   "metadata": {},
   "outputs": [
    {
     "data": {
      "text/plain": [
       "<AxesSubplot:xlabel='E_numOrg'>"
      ]
     },
     "execution_count": 185,
     "metadata": {},
     "output_type": "execute_result"
    },
    {
     "data": {
      "image/png": "[encoded data removed]",
      "text/plain": [
       "<Figure size 432x288 with 1 Axes>"
      ]
     },
     "metadata": {
      "needs_background": "light"
     },
     "output_type": "display_data"
    }
   ],
   "source": [
    "sns.distplot(train_set.E_numOrg)\n"
   ]
  },
  {
   "cell_type": "code",
   "execution_count": 186,
   "metadata": {},
   "outputs": [
    {
     "data": {
      "text/plain": [
       "<AxesSubplot:xlabel='E_numOrg'>"
      ]
     },
     "execution_count": 186,
     "metadata": {},
     "output_type": "execute_result"
    },
    {
     "data": {
      "image/png": "[encoded data removed]",
      "text/plain": [
       "<Figure size 432x288 with 1 Axes>"
      ]
     },
     "metadata": {
      "needs_background": "light"
     },
     "output_type": "display_data"
    }
   ],
   "source": [
    "sns.boxplot(train_set.E_numOrg)"
   ]
  },
  {
   "cell_type": "markdown",
   "metadata": {},
   "source": [
    "## E_numQuery: 1-5"
   ]
  },
  {
   "cell_type": "code",
   "execution_count": 192,
   "metadata": {},
   "outputs": [
    {
     "data": {
      "text/plain": [
       "1.0     16363\n",
       "2.0      5682\n",
       "3.0      2202\n",
       "4.0       885\n",
       "5.0       355\n",
       "6.0       129\n",
       "7.0        48\n",
       "8.0        18\n",
       "9.0        12\n",
       "10.0       10\n",
       "12.0        1\n",
       "46.0        1\n",
       "11.0        1\n",
       "14.0        1\n",
       "0.0         1\n",
       "16.0        1\n",
       "Name: E_numQuery, dtype: int64"
      ]
     },
     "execution_count": 192,
     "metadata": {},
     "output_type": "execute_result"
    }
   ],
   "source": [
    "make_float(train_set, ['E_numQuery'])\n",
    "train_set.E_numQuery.value_counts()\n"
   ]
  },
  {
   "cell_type": "code",
   "execution_count": 206,
   "metadata": {},
   "outputs": [
    {
     "data": {
      "text/plain": [
       "<AxesSubplot:xlabel='E_numQuery'>"
      ]
     },
     "execution_count": 206,
     "metadata": {},
     "output_type": "execute_result"
    },
    {
     "data": {
      "image/png": "[encoded data removed]",
      "text/plain": [
       "<Figure size 432x288 with 1 Axes>"
      ]
     },
     "metadata": {
      "needs_background": "light"
     },
     "output_type": "display_data"
    }
   ],
   "source": [
    "train_set.E_numQuery.value_counts()\n",
    "make_float(train_set, ['E_numQuery'])\n",
    "\n",
    "\n",
    "\n",
    "train_set.E_numQuery = np.where( (train_set.E_numQuery >= 5), 5 , train_set.E_numQuery)\n",
    "train_set.E_numQuery = np.where( (train_set.E_numQuery < 1), 1 , train_set.E_numQuery)\n",
    "\n",
    "\n",
    "sns.distplot(train_set.E_numQuery)\n"
   ]
  },
  {
   "cell_type": "code",
   "execution_count": 207,
   "metadata": {},
   "outputs": [
    {
     "data": {
      "text/plain": [
       "<AxesSubplot:xlabel='E_numQuery'>"
      ]
     },
     "execution_count": 207,
     "metadata": {},
     "output_type": "execute_result"
    },
    {
     "data": {
      "image/png": "[encoded data removed]",
      "text/plain": [
       "<Figure size 432x288 with 1 Axes>"
      ]
     },
     "metadata": {
      "needs_background": "light"
     },
     "output_type": "display_data"
    }
   ],
   "source": [
    "\n",
    "sns.boxplot(train_set.E_numQuery)"
   ]
  },
  {
   "cell_type": "markdown",
   "metadata": {},
   "source": [
    "## C_numOrg: limit 1-5"
   ]
  },
  {
   "cell_type": "code",
   "execution_count": 216,
   "metadata": {},
   "outputs": [
    {
     "data": {
      "text/plain": [
       "1.0    20413\n",
       "2.0     1402\n",
       "3.0       89\n",
       "4.0        1\n",
       "Name: C_numOrg, dtype: int64"
      ]
     },
     "execution_count": 216,
     "metadata": {},
     "output_type": "execute_result"
    }
   ],
   "source": [
    "make_float(train_set, ['C_numOrg'])\n",
    "train_set.C_numOrg.value_counts()\n",
    "\n"
   ]
  },
  {
   "cell_type": "code",
   "execution_count": 217,
   "metadata": {},
   "outputs": [
    {
     "data": {
      "text/plain": [
       "<AxesSubplot:xlabel='C_numOrg'>"
      ]
     },
     "execution_count": 217,
     "metadata": {},
     "output_type": "execute_result"
    },
    {
     "data": {
      "image/png": "[encoded data removed]",
      "text/plain": [
       "<Figure size 432x288 with 1 Axes>"
      ]
     },
     "metadata": {
      "needs_background": "light"
     },
     "output_type": "display_data"
    }
   ],
   "source": [
    "\n",
    "train_set.C_numOrg = np.where( (train_set.C_numOrg >= 5), 5 , train_set.C_numOrg)\n",
    "train_set.C_numOrg = np.where( (train_set.C_numOrg < 1), 1 , train_set.C_numOrg)\n",
    "\n",
    "\n",
    "sns.distplot(train_set.C_numOrg)\n"
   ]
  },
  {
   "cell_type": "code",
   "execution_count": 218,
   "metadata": {},
   "outputs": [
    {
     "data": {
      "text/plain": [
       "<AxesSubplot:xlabel='C_numOrg'>"
      ]
     },
     "execution_count": 218,
     "metadata": {},
     "output_type": "execute_result"
    },
    {
     "data": {
      "image/png": "[encoded data removed]",
      "text/plain": [
       "<Figure size 432x288 with 1 Axes>"
      ]
     },
     "metadata": {
      "needs_background": "light"
     },
     "output_type": "display_data"
    }
   ],
   "source": [
    "\n",
    "sns.boxplot(train_set.C_numOrg)"
   ]
  },
  {
   "cell_type": "markdown",
   "metadata": {},
   "source": [
    "## C_numQuery"
   ]
  },
  {
   "cell_type": "code",
   "execution_count": 201,
   "metadata": {},
   "outputs": [],
   "source": [
    "train_set.C_numQuery.value_counts()\n",
    "make_float(train_set, ['C_numQuery'])\n"
   ]
  },
  {
   "cell_type": "code",
   "execution_count": 203,
   "metadata": {},
   "outputs": [
    {
     "data": {
      "text/plain": [
       "<AxesSubplot:xlabel='C_numQuery'>"
      ]
     },
     "execution_count": 203,
     "metadata": {},
     "output_type": "execute_result"
    },
    {
     "data": {
      "image/png": "[encoded data removed]",
      "text/plain": [
       "<Figure size 432x288 with 1 Axes>"
      ]
     },
     "metadata": {
      "needs_background": "light"
     },
     "output_type": "display_data"
    }
   ],
   "source": [
    "\n",
    "\n",
    "\n",
    "train_set.C_numQuery = np.where( (train_set.C_numQuery >= 5), 5 , train_set.C_numQuery)\n",
    "train_set.C_numQuery = np.where( (train_set.C_numQuery < 1), 1 , train_set.C_numQuery)\n",
    "\n",
    "\n",
    "sns.distplot(train_set.C_numQuery)\n"
   ]
  },
  {
   "cell_type": "code",
   "execution_count": 204,
   "metadata": {},
   "outputs": [
    {
     "data": {
      "text/plain": [
       "<AxesSubplot:xlabel='C_numQuery'>"
      ]
     },
     "execution_count": 204,
     "metadata": {},
     "output_type": "execute_result"
    },
    {
     "data": {
      "image/png": "[encoded data removed]",
      "text/plain": [
       "<Figure size 432x288 with 1 Axes>"
      ]
     },
     "metadata": {
      "needs_background": "light"
     },
     "output_type": "display_data"
    }
   ],
   "source": [
    "\n",
    "sns.boxplot(train_set.C_numQuery)"
   ]
  },
  {
   "cell_type": "markdown",
   "metadata": {},
   "source": [
    "## G_numOrg: limit 1-5"
   ]
  },
  {
   "cell_type": "code",
   "execution_count": 220,
   "metadata": {},
   "outputs": [
    {
     "data": {
      "text/plain": [
       "1.0     20778\n",
       "2.0      2639\n",
       "3.0       226\n",
       "4.0         7\n",
       "15.0        1\n",
       "Name: G_numOrg, dtype: int64"
      ]
     },
     "execution_count": 220,
     "metadata": {},
     "output_type": "execute_result"
    }
   ],
   "source": [
    "make_float(train_set, ['G_numOrg'])\n",
    "train_set.G_numOrg.value_counts()\n"
   ]
  },
  {
   "cell_type": "code",
   "execution_count": 221,
   "metadata": {},
   "outputs": [
    {
     "data": {
      "text/plain": [
       "<AxesSubplot:xlabel='G_numOrg'>"
      ]
     },
     "execution_count": 221,
     "metadata": {},
     "output_type": "execute_result"
    },
    {
     "data": {
      "image/png": "[encoded data removed]",
      "text/plain": [
       "<Figure size 432x288 with 1 Axes>"
      ]
     },
     "metadata": {
      "needs_background": "light"
     },
     "output_type": "display_data"
    }
   ],
   "source": [
    "\n",
    "\n",
    "\n",
    "train_set.G_numOrg = np.where( (train_set.G_numOrg >= 5), 5 , train_set.G_numOrg)\n",
    "train_set.G_numOrg = np.where( (train_set.G_numOrg < 1), 1 , train_set.G_numOrg)\n",
    "\n",
    "\n",
    "sns.distplot(train_set.G_numOrg)\n",
    "\n"
   ]
  },
  {
   "cell_type": "code",
   "execution_count": 222,
   "metadata": {},
   "outputs": [
    {
     "data": {
      "text/plain": [
       "<AxesSubplot:xlabel='G_numOrg'>"
      ]
     },
     "execution_count": 222,
     "metadata": {},
     "output_type": "execute_result"
    },
    {
     "data": {
      "image/png": "[encoded data removed]",
      "text/plain": [
       "<Figure size 432x288 with 1 Axes>"
      ]
     },
     "metadata": {
      "needs_background": "light"
     },
     "output_type": "display_data"
    }
   ],
   "source": [
    "sns.boxplot(train_set.G_numOrg)"
   ]
  },
  {
   "cell_type": "markdown",
   "metadata": {},
   "source": [
    "## G_numQuery: limit 1-5"
   ]
  },
  {
   "cell_type": "code",
   "execution_count": 210,
   "metadata": {},
   "outputs": [],
   "source": [
    "train_set.G_numQuery.value_counts()\n",
    "make_float(train_set, ['G_numQuery'])\n"
   ]
  },
  {
   "cell_type": "code",
   "execution_count": 211,
   "metadata": {},
   "outputs": [
    {
     "data": {
      "text/plain": [
       "1.0     20239\n",
       "2.0      2627\n",
       "3.0       563\n",
       "4.0       144\n",
       "5.0        55\n",
       "6.0        18\n",
       "7.0         7\n",
       "14.0        3\n",
       "13.0        1\n",
       "8.0         1\n",
       "Name: G_numQuery, dtype: int64"
      ]
     },
     "execution_count": 211,
     "metadata": {},
     "output_type": "execute_result"
    }
   ],
   "source": [
    "train_set.G_numQuery.value_counts()\n"
   ]
  },
  {
   "cell_type": "code",
   "execution_count": 213,
   "metadata": {},
   "outputs": [
    {
     "data": {
      "text/plain": [
       "<AxesSubplot:xlabel='G_numQuery'>"
      ]
     },
     "execution_count": 213,
     "metadata": {},
     "output_type": "execute_result"
    },
    {
     "data": {
      "image/png": "[encoded data removed]",
      "text/plain": [
       "<Figure size 432x288 with 1 Axes>"
      ]
     },
     "metadata": {
      "needs_background": "light"
     },
     "output_type": "display_data"
    }
   ],
   "source": [
    "train_set.G_numQuery = np.where( (train_set.G_numQuery >= 5), 5 , train_set.G_numQuery)\n",
    "train_set.G_numQuery = np.where( (train_set.G_numQuery < 1), 1 , train_set.G_numQuery)\n",
    "\n",
    "\n",
    "sns.distplot(train_set.G_numQuery)"
   ]
  },
  {
   "cell_type": "code",
   "execution_count": 214,
   "metadata": {},
   "outputs": [
    {
     "data": {
      "text/plain": [
       "<AxesSubplot:xlabel='G_numQuery'>"
      ]
     },
     "execution_count": 214,
     "metadata": {},
     "output_type": "execute_result"
    },
    {
     "data": {
      "image/png": "[encoded data removed]",
      "text/plain": [
       "<Figure size 432x288 with 1 Axes>"
      ]
     },
     "metadata": {
      "needs_background": "light"
     },
     "output_type": "display_data"
    }
   ],
   "source": [
    "sns.boxplot(train_set.G_numQuery)"
   ]
  },
  {
   "cell_type": "markdown",
   "metadata": {},
   "source": [
    "## A_numOrg : limit 1-10\n"
   ]
  },
  {
   "cell_type": "code",
   "execution_count": 224,
   "metadata": {},
   "outputs": [
    {
     "data": {
      "text/plain": [
       "2.0     8978\n",
       "3.0     8392\n",
       "1.0     7913\n",
       "4.0     6323\n",
       "5.0     4101\n",
       "6.0     2654\n",
       "7.0     1432\n",
       "8.0      793\n",
       "9.0      417\n",
       "10.0     173\n",
       "11.0      74\n",
       "12.0      30\n",
       "13.0      14\n",
       "15.0       3\n",
       "Name: A_numOrg, dtype: int64"
      ]
     },
     "execution_count": 224,
     "metadata": {},
     "output_type": "execute_result"
    }
   ],
   "source": [
    "make_float(train_set, ['A_numOrg'])\n",
    "train_set.A_numOrg.value_counts()\n"
   ]
  },
  {
   "cell_type": "code",
   "execution_count": 225,
   "metadata": {},
   "outputs": [
    {
     "data": {
      "text/plain": [
       "<AxesSubplot:xlabel='A_numOrg'>"
      ]
     },
     "execution_count": 225,
     "metadata": {},
     "output_type": "execute_result"
    },
    {
     "data": {
      "image/png": "[encoded data removed]",
      "text/plain": [
       "<Figure size 432x288 with 1 Axes>"
      ]
     },
     "metadata": {
      "needs_background": "light"
     },
     "output_type": "display_data"
    }
   ],
   "source": [
    "\n",
    "\n",
    "\n",
    "train_set.A_numOrg = np.where( (train_set.A_numOrg >= 10), 10 , train_set.A_numOrg)\n",
    "train_set.A_numOrg = np.where( (train_set.A_numOrg < 1), 1 , train_set.A_numOrg)\n",
    "\n",
    "\n",
    "sns.distplot(train_set.A_numOrg)\n"
   ]
  },
  {
   "cell_type": "code",
   "execution_count": 226,
   "metadata": {},
   "outputs": [
    {
     "data": {
      "text/plain": [
       "<AxesSubplot:xlabel='A_numOrg'>"
      ]
     },
     "execution_count": 226,
     "metadata": {},
     "output_type": "execute_result"
    },
    {
     "data": {
      "image/png": "[encoded data removed]",
      "text/plain": [
       "<Figure size 432x288 with 1 Axes>"
      ]
     },
     "metadata": {
      "needs_background": "light"
     },
     "output_type": "display_data"
    }
   ],
   "source": [
    "sns.boxplot(train_set.A_numOrg)"
   ]
  },
  {
   "cell_type": "markdown",
   "metadata": {},
   "source": [
    "## A_numQuery: limit 1-15"
   ]
  },
  {
   "cell_type": "code",
   "execution_count": 227,
   "metadata": {},
   "outputs": [
    {
     "data": {
      "text/plain": [
       "2.0     7601\n",
       "3.0     7136\n",
       "1.0     7108\n",
       "4.0     5450\n",
       "5.0     4092\n",
       "6.0     2992\n",
       "7.0     2089\n",
       "8.0     1436\n",
       "9.0     1044\n",
       "10.0     714\n",
       "11.0     494\n",
       "12.0     329\n",
       "13.0     234\n",
       "14.0     169\n",
       "15.0     134\n",
       "16.0      85\n",
       "18.0      46\n",
       "17.0      44\n",
       "19.0      26\n",
       "20.0      18\n",
       "21.0      16\n",
       "23.0      11\n",
       "26.0       8\n",
       "25.0       7\n",
       "22.0       6\n",
       "24.0       6\n",
       "27.0       5\n",
       "33.0       4\n",
       "28.0       3\n",
       "35.0       2\n",
       "34.0       2\n",
       "40.0       1\n",
       "30.0       1\n",
       "63.0       1\n",
       "38.0       1\n",
       "42.0       1\n",
       "Name: A_numQuery, dtype: int64"
      ]
     },
     "execution_count": 227,
     "metadata": {},
     "output_type": "execute_result"
    }
   ],
   "source": [
    "make_float(train_set, ['A_numQuery'])\n",
    "train_set.A_numQuery.value_counts()\n",
    "\n"
   ]
  },
  {
   "cell_type": "code",
   "execution_count": 228,
   "metadata": {},
   "outputs": [
    {
     "data": {
      "text/plain": [
       "<AxesSubplot:xlabel='A_numQuery'>"
      ]
     },
     "execution_count": 228,
     "metadata": {},
     "output_type": "execute_result"
    },
    {
     "data": {
      "image/png": "[encoded data removed]",
      "text/plain": [
       "<Figure size 432x288 with 1 Axes>"
      ]
     },
     "metadata": {
      "needs_background": "light"
     },
     "output_type": "display_data"
    }
   ],
   "source": [
    "\n",
    "\n",
    "train_set.A_numQuery = np.where( (train_set.A_numQuery >= 15), 15 , train_set.A_numQuery)\n",
    "train_set.A_numQuery = np.where( (train_set.A_numQuery < 1), 1 , train_set.A_numQuery)\n",
    "\n",
    "\n",
    "sns.distplot(train_set.A_numQuery)"
   ]
  },
  {
   "cell_type": "code",
   "execution_count": 229,
   "metadata": {},
   "outputs": [
    {
     "data": {
      "text/plain": [
       "<AxesSubplot:xlabel='A_numQuery'>"
      ]
     },
     "execution_count": 229,
     "metadata": {},
     "output_type": "execute_result"
    },
    {
     "data": {
      "image/png": "[encoded data removed]",
      "text/plain": [
       "<Figure size 432x288 with 1 Axes>"
      ]
     },
     "metadata": {
      "needs_background": "light"
     },
     "output_type": "display_data"
    }
   ],
   "source": [
    "\n",
    "sns.boxplot(train_set.A_numQuery)"
   ]
  },
  {
   "cell_type": "code",
   "execution_count": 230,
   "metadata": {},
   "outputs": [
    {
     "data": {
      "text/plain": [
       "Index(['label', 'Field_3', 'Field_4', 'Field_10', 'Field_12', 'Field_13',\n",
       "       'Field_19', 'Field_20', 'Field_21', 'Field_22', 'Field_23', 'Field_28',\n",
       "       'Field_29', 'ngaySinh', 'Field_36', 'Field_39', 'Field_42', 'Field_47',\n",
       "       'Field_51', 'Field_53', 'Field_58', 'Field_60', 'Field_61', 'Field_62',\n",
       "       'Field_63', 'Field_64', 'Field_65', 'Field_66', 'Field_67', 'Field_69',\n",
       "       'Field_70', 'Field_71', 'Field_72', 'Field_73', 'Field_74', 'Field_75',\n",
       "       'Field_76', 'Field_77', 'friendCount', 'info_social_sex',\n",
       "       'subscriberCount', 'topFriends', 'numOrg', 'F_numOrg', 'F_numQuery',\n",
       "       'E_numOrg', 'E_numQuery', 'C_numOrg', 'C_numQuery', 'G_numOrg',\n",
       "       'G_numQuery', 'A_numOrg', 'A_numQuery', 'summary_6m', 'summary_3m',\n",
       "       'summary_1m', 'summary_1w', 'partner0_A', 'partner0_B', 'partner0_C',\n",
       "       'partner0_D', 'partner0_E', 'partner0_F', 'partner0_G', 'partner0_H',\n",
       "       'partner1_A', 'partner1_C', 'partner1_G', 'partner1_H', 'partner2_A',\n",
       "       'partner2_C', 'partner2_D', 'partner2_F', 'partner2_H', 'partner3_A',\n",
       "       'partner3_D', 'partner3_E', 'partner4_L', 'partner5_A', 'partner5_D',\n",
       "       'partner5_G', 'brief', 'num_of_phone', 'Field_78', 'Field_79',\n",
       "       'Field_80', 'Field_81', 'Field_82', 'E_diff_date', 'F_diff_date',\n",
       "       'G_diff_date', 'A_diff_date', 'Unnamed: 94', 'Unnamed: 95',\n",
       "       'Unnamed: 96', 'Unnamed: 97', 'Unnamed: 98', 'Unnamed: 99', 'age',\n",
       "       'partner_sum'],\n",
       "      dtype='object')"
      ]
     },
     "execution_count": 230,
     "metadata": {},
     "output_type": "execute_result"
    }
   ],
   "source": [
    "train_set.columns"
   ]
  },
  {
   "cell_type": "code",
   "execution_count": 125,
   "metadata": {},
   "outputs": [
    {
     "name": "stdout",
     "output_type": "stream",
     "text": [
      "For partner0_A\n",
      "partner0_A    1.000000\n",
      "partner0_C    0.913411\n",
      "partner0_D    0.945770\n",
      "partner0_E    0.942555\n",
      "partner0_F    0.943628\n",
      "Name: partner0_A, dtype: float64\n",
      "For partner0_C\n",
      "partner0_A    0.913411\n",
      "partner0_C    1.000000\n",
      "partner0_D    0.907392\n",
      "partner0_E    0.904729\n",
      "Name: partner0_C, dtype: float64\n",
      "For partner0_D\n",
      "partner0_A    0.945770\n",
      "partner0_C    0.907392\n",
      "partner0_D    1.000000\n",
      "partner0_E    0.997379\n",
      "partner0_F    0.993257\n",
      "Name: partner0_D, dtype: float64\n",
      "For partner0_E\n",
      "partner0_A    0.942555\n",
      "partner0_C    0.904729\n",
      "partner0_D    0.997379\n",
      "partner0_E    1.000000\n",
      "partner0_F    0.995465\n",
      "Name: partner0_E, dtype: float64\n",
      "For partner0_F\n",
      "partner0_A    0.943628\n",
      "partner0_D    0.993257\n",
      "partner0_E    0.995465\n",
      "partner0_F    1.000000\n",
      "Name: partner0_F, dtype: float64\n",
      "For partner2_A\n",
      "partner2_A    1.000000\n",
      "partner2_C    0.996217\n",
      "partner2_D    0.990345\n",
      "partner2_F    0.997250\n",
      "partner2_H    0.992076\n",
      "Name: partner2_A, dtype: float64\n",
      "For partner2_C\n",
      "partner2_A    0.996217\n",
      "partner2_C    1.000000\n",
      "partner2_D    0.993419\n",
      "partner2_F    0.998965\n",
      "partner2_H    0.995848\n",
      "Name: partner2_C, dtype: float64\n",
      "For partner2_D\n",
      "partner2_A    0.990345\n",
      "partner2_C    0.993419\n",
      "partner2_D    1.000000\n",
      "partner2_F    0.992391\n",
      "partner2_H    0.996170\n",
      "Name: partner2_D, dtype: float64\n",
      "For partner2_F\n",
      "partner2_A    0.997250\n",
      "partner2_C    0.998965\n",
      "partner2_D    0.992391\n",
      "partner2_F    1.000000\n",
      "partner2_H    0.994818\n",
      "Name: partner2_F, dtype: float64\n",
      "For partner2_H\n",
      "partner2_A    0.992076\n",
      "partner2_C    0.995848\n",
      "partner2_D    0.996170\n",
      "partner2_F    0.994818\n",
      "partner2_H    1.000000\n",
      "Name: partner2_H, dtype: float64\n"
     ]
    }
   ],
   "source": [
    "train_cols_corr = train_set.corr()\n",
    "for col in train_cols_corr.columns:\n",
    "    res = train_cols_corr[col][train_cols_corr[col]>0.9]\n",
    "    if len(res)>1:\n",
    "        print (\"For\", col)\n",
    "        print (res)"
   ]
  },
  {
   "cell_type": "code",
   "execution_count": null,
   "metadata": {},
   "outputs": [],
   "source": [
    "cols_to_drop"
   ]
  },
  {
   "cell_type": "code",
   "execution_count": null,
   "metadata": {},
   "outputs": [],
   "source": []
  },
  {
   "cell_type": "code",
   "execution_count": null,
   "metadata": {},
   "outputs": [],
   "source": []
  },
  {
   "cell_type": "code",
   "execution_count": null,
   "metadata": {},
   "outputs": [],
   "source": [
    "train_set_.corr()['Field_74']"
   ]
  },
  {
   "cell_type": "code",
   "execution_count": null,
   "metadata": {},
   "outputs": [],
   "source": [
    "train_set.subscriberCount.value_counts(dropna=False)"
   ]
  },
  {
   "cell_type": "code",
   "execution_count": null,
   "metadata": {},
   "outputs": [],
   "source": []
  },
  {
   "cell_type": "code",
   "execution_count": null,
   "metadata": {},
   "outputs": [],
   "source": [
    "train_set.Field_78.value_counts(dropna=False)"
   ]
  },
  {
   "cell_type": "code",
   "execution_count": null,
   "metadata": {},
   "outputs": [],
   "source": []
  },
  {
   "cell_type": "code",
   "execution_count": null,
   "metadata": {},
   "outputs": [],
   "source": []
  },
  {
   "cell_type": "code",
   "execution_count": null,
   "metadata": {},
   "outputs": [],
   "source": []
  },
  {
   "cell_type": "code",
   "execution_count": null,
   "metadata": {},
   "outputs": [],
   "source": []
  },
  {
   "cell_type": "code",
   "execution_count": null,
   "metadata": {},
   "outputs": [],
   "source": [
    "train_set.Field_68.value_counts(dropna=False).sort_values(ascending= False)[:10]"
   ]
  },
  {
   "cell_type": "code",
   "execution_count": null,
   "metadata": {},
   "outputs": [],
   "source": [
    "pd.crosstab(train_set.Field_67.value_counts(dropna=False).sort_values(ascending= False)[:10], \\\n",
    "            train_set.Field_68.value_counts(dropna=False).sort_values(ascending= False)[:10])"
   ]
  },
  {
   "cell_type": "code",
   "execution_count": null,
   "metadata": {},
   "outputs": [],
   "source": [
    "train_set[train_set.Field_56 == 'Doanh nghiệp có vốn đầu tư nước ngoài'].label.value_counts()"
   ]
  },
  {
   "cell_type": "code",
   "execution_count": null,
   "metadata": {},
   "outputs": [],
   "source": [
    "train_set.Field_41.apply(lambda x: 'a' \\\n",
    "                         if (pd.isnull(x)) else x)"
   ]
  },
  {
   "cell_type": "code",
   "execution_count": null,
   "metadata": {},
   "outputs": [],
   "source": [
    "train_set[train_set.Field_41 == '2019-01-01']"
   ]
  },
  {
   "cell_type": "code",
   "execution_count": null,
   "metadata": {},
   "outputs": [],
   "source": [
    "train_set.iloc[8696].Field_41.isnumeric()"
   ]
  },
  {
   "cell_type": "code",
   "execution_count": null,
   "metadata": {},
   "outputs": [],
   "source": [
    "train_set.Field_41.apply(lambda x: x if (pd.isnull(x)) else str(x))"
   ]
  },
  {
   "cell_type": "code",
   "execution_count": null,
   "metadata": {},
   "outputs": [],
   "source": [
    "train_set[(train_set.Field_41).isnull()].Field_41"
   ]
  },
  {
   "cell_type": "code",
   "execution_count": null,
   "metadata": {},
   "outputs": [],
   "source": [
    "pd.isnull(train_set.loc[1].Field_41)"
   ]
  },
  {
   "cell_type": "code",
   "execution_count": null,
   "metadata": {},
   "outputs": [],
   "source": []
  },
  {
   "cell_type": "code",
   "execution_count": null,
   "metadata": {},
   "outputs": [],
   "source": [
    "sns.distplot(train_set[train_set.Field_36=='HC'].age)"
   ]
  },
  {
   "cell_type": "code",
   "execution_count": null,
   "metadata": {},
   "outputs": [],
   "source": [
    "train_set[train_set.Field_36=='CH'].label.value_counts()/train_set[train_set.Field_36=='CH'].label.value_counts().sum()"
   ]
  },
  {
   "cell_type": "code",
   "execution_count": null,
   "metadata": {},
   "outputs": [],
   "source": [
    "sns.distplot(train_set[train_set.Field_36=='DN'].age)"
   ]
  },
  {
   "cell_type": "code",
   "execution_count": null,
   "metadata": {},
   "outputs": [],
   "source": [
    "sns.distplot(train_set.Field_29.value_counts())"
   ]
  },
  {
   "cell_type": "code",
   "execution_count": null,
   "metadata": {},
   "outputs": [],
   "source": [
    "train_set.Field_39.value_counts().iloc[:20]"
   ]
  },
  {
   "cell_type": "code",
   "execution_count": null,
   "metadata": {},
   "outputs": [],
   "source": []
  },
  {
   "cell_type": "code",
   "execution_count": null,
   "metadata": {},
   "outputs": [],
   "source": [
    "# # store all duplicated columns\n",
    "# duplicated_cols_dict= {}\n",
    "# duplicated_cols_list_full = []\n",
    "\n",
    "\n",
    "# # THIS FUNCTION is to drop all duplicates columns\n",
    "# for i, col in enumerate(train_set_original.columns):\n",
    "#     duplicated_cols_list= []\n",
    "#     # if the col is already one of the keys\n",
    "#     # then skip\n",
    "#     if col in duplicated_cols_list_full:\n",
    "#         continue\n",
    "#     for c in train_set_original.columns:\n",
    "#         if (train_set_original[col].equals(train_set_original[c])):\n",
    "#             duplicated_cols_list.append(c)\n",
    "#             duplicated_cols_list_full.append(c)\n",
    "        \n",
    "           \n",
    "#     if (len(duplicated_cols_list) > 1):\n",
    "#         duplicated_cols_dict[col] = duplicated_cols_list   \n",
    "\n",
    "# from matplotlib.cbook import flatten\n",
    "\n",
    "# # determine duplicated columns to drop\n",
    "# drop_cols = set(list(flatten(list(duplicated_cols_dict.values())))) - set(duplicated_cols_dict.keys())"
   ]
  },
  {
   "cell_type": "code",
   "execution_count": null,
   "metadata": {},
   "outputs": [],
   "source": [
    "# drop the duplicates\n",
    "\n",
    "# train_set= train_set_original.drop(drop_cols, axis= 1).copy()\n",
    "# test_set= test_set_original.drop(drop_cols, axis= 1).copy()"
   ]
  },
  {
   "cell_type": "code",
   "execution_count": null,
   "metadata": {
    "scrolled": true
   },
   "outputs": [],
   "source": [
    "cols_Vincent = train_set.columns[:int(len(train_set.columns)/2)]\n",
    "cols_Duong = train_set.columns[int(len(train_set.columns)/2):]\n"
   ]
  },
  {
   "cell_type": "code",
   "execution_count": null,
   "metadata": {},
   "outputs": [],
   "source": [
    "# na_counts= train_set.isna().sum().sort_values()\n",
    "# fig, ax = plt.subplots(figsize= (20,15))\n",
    "# total_samples= len(train_set)\n",
    "\n",
    "# ax.bar(na_counts.index,na_counts.values/total_samples)\n",
    "# ax.set_xlabel(\"column \", fontsize= 30)\n",
    "# ax.set_ylabel(\"counts\", fontsize= 30)\n",
    "# ax.set_xticklabels([])\n",
    "# ax.set_title(\"Percentages of missing values in each column\", fontsize= 35)"
   ]
  },
  {
   "cell_type": "code",
   "execution_count": null,
   "metadata": {},
   "outputs": [],
   "source": [
    "# train_set.describe()"
   ]
  },
  {
   "cell_type": "code",
   "execution_count": null,
   "metadata": {},
   "outputs": [],
   "source": [
    "# print (\"Labels count\")\n",
    "# train_set.label.value_counts()"
   ]
  },
  {
   "cell_type": "code",
   "execution_count": null,
   "metadata": {},
   "outputs": [],
   "source": [
    "# corrs = train_set.corr()['label'].sort_values()\n",
    "# # exclude nan corrs\n",
    "# corrs = corrs[corrs.values < 1]\n",
    "\n",
    "# fig, ax = plt.subplots(figsize= (20,15))\n",
    "# total_samples= len(train_set)\n",
    "\n",
    "# ax.bar(corrs.index,corrs.values)\n",
    "# ax.set_xlabel(\"column \", fontsize= 30)\n",
    "# ax.set_ylabel(\"correlation\", fontsize= 30)\n",
    "# ax.set_xticklabels([])\n",
    "# ax.set_title(\"Correlation with labels\", fontsize= 35)"
   ]
  },
  {
   "cell_type": "code",
   "execution_count": null,
   "metadata": {},
   "outputs": [],
   "source": [
    "from datetime import datetime\n",
    "\n",
    "train_set['E_endDate'] = train_set['E_endDate'].apply(lambda row: \\\n",
    "              np.nan \\\n",
    "                    if row is np.nan \\\n",
    "                else datetime.strptime(row, '%Y-%m-%d'))\n",
    "\n",
    "train_set['E_startDate'] = train_set['E_startDate'].apply(lambda row: \\\n",
    "              np.nan \\\n",
    "                    if row is np.nan \\\n",
    "                else datetime.strptime(row, '%Y-%m-%d'))\n",
    "\n",
    "\n",
    "train_set['C_endDate'] = train_set['C_endDate'].apply(lambda row: \\\n",
    "              np.nan \\\n",
    "                    if row is np.nan \\\n",
    "                else datetime.strptime(row, '%Y-%m-%d'))\n",
    "\n",
    "train_set['C_startDate'] = train_set['C_startDate'].apply(lambda row: \\\n",
    "              np.nan \\\n",
    "                    if row is np.nan \\\n",
    "                else datetime.strptime(row, '%Y-%m-%d'))\n",
    "\n",
    "\n",
    "train_set['F_endDate'] = train_set['F_endDate'].apply(lambda row: \\\n",
    "              np.nan \\\n",
    "                    if row is np.nan \\\n",
    "                else datetime.strptime(row, '%Y-%m-%d'))\n",
    "\n",
    "train_set['F_startDate'] = train_set['F_startDate'].apply(lambda row: \\\n",
    "              np.nan \\\n",
    "                    if row is np.nan \\\n",
    "                else datetime.strptime(row, '%Y-%m-%d'))\n",
    "\n",
    "train_set['G_startDate'] = train_set['G_startDate'].apply(lambda row: \\\n",
    "              np.nan \\\n",
    "                    if row is np.nan \\\n",
    "                else datetime.strptime(row, '%Y-%m-%d'))\n",
    "\n",
    "train_set['G_endDate'] = train_set['G_endDate'].apply(lambda row: \\\n",
    "              np.nan \\\n",
    "                    if row is np.nan \\\n",
    "                else datetime.strptime(row, '%Y-%m-%d'))               \n",
    "\n",
    "\n",
    "train_set['A_endDate'] = train_set['A_endDate'].apply(lambda row: \\\n",
    "              np.nan \\\n",
    "                    if row is np.nan \\\n",
    "                else datetime.strptime(row, '%Y-%m-%d'))\n",
    "\n",
    "train_set['A_startDate'] = train_set['A_startDate'].apply(lambda row: \\\n",
    "              np.nan \\\n",
    "                    if row is np.nan \\\n",
    "                else datetime.strptime(row, '%Y-%m-%d'))  \n",
    "\n",
    "train_set['E_diff_date']= (train_set['E_endDate'] - train_set['E_startDate']).dt.days\n",
    "\n",
    "train_set['F_diff_date']= (train_set['F_endDate'] - train_set['F_startDate']).dt.days\n",
    "\n",
    "train_set['G_diff_date']= (train_set['G_endDate'] - train_set['G_startDate']).dt.days\n",
    "\n",
    "train_set['A_diff_date']= (train_set['A_endDate'] - train_set['A_startDate']).dt.days\n",
    "\n",
    "train_set.drop(['E_endDate', 'E_startDate', 'F_endDate', 'F_startDate',\\\n",
    "                       'G_endDate', 'G_startDate', 'A_endDate', 'A_startDate',\\\n",
    "                       'C_endDate', 'C_startDate'],\\\n",
    "                    axis= 1, inplace= True)\n",
    "\n",
    "useless_cols = ['currentLocationLocationId', 'currentLocationLatitude', \n",
    "                'currentLocationLongitude', 'homeTownLocationId', \n",
    "                'homeTownLatitude', 'homeTownLongitude',\n",
    "                'data.basic_info.locale', 'currentLocationCity',\n",
    "                'currentLocationCountry', 'currentLocationName', \n",
    "                'currentLocationState', 'homeTownCity', \n",
    "                'homeTownCountry', 'homeTownName', 'homeTownState']\n",
    "\n",
    "train_set.drop(useless_cols, axis= 1, inplace= True)"
   ]
  },
  {
   "cell_type": "code",
   "execution_count": null,
   "metadata": {},
   "outputs": [],
   "source": [
    "train_set.to_csv('./Data/train_set_drop_duplicates_fix_startenddate.csv')"
   ]
  },
  {
   "cell_type": "code",
   "execution_count": null,
   "metadata": {},
   "outputs": [],
   "source": [
    "len(train_set.columns)"
   ]
  },
  {
   "cell_type": "markdown",
   "metadata": {},
   "source": [
    "## Duong's part"
   ]
  },
  {
   "cell_type": "code",
   "execution_count": null,
   "metadata": {},
   "outputs": [],
   "source": [
    "# Fix maCv column\n",
    "# remove accent, make all lower case\n",
    "\n",
    "train_set.maCv = train_set.maCv.apply(lambda x: unidecode.unidecode(x).lower() \\\n",
    "                     if type(x) == str else np.nan)"
   ]
  },
  {
   "cell_type": "code",
   "execution_count": null,
   "metadata": {},
   "outputs": [],
   "source": [
    "sns.distplot(train_set.Field_20.values)"
   ]
  },
  {
   "cell_type": "code",
   "execution_count": null,
   "metadata": {},
   "outputs": [],
   "source": [
    "train_set[train_set.Field_20 == 0].maCv"
   ]
  },
  {
   "cell_type": "code",
   "execution_count": null,
   "metadata": {},
   "outputs": [],
   "source": [
    "train_set.Field_20"
   ]
  },
  {
   "cell_type": "code",
   "execution_count": null,
   "metadata": {},
   "outputs": [],
   "source": [
    "# # tai xe and lai xe is 1\n",
    "# # ky thuat, ky su\n",
    "# # thu kho, cong nhan,tho phu, cn\n",
    "# # can bo, to truong \n",
    "# # nhan vien, nv, ke toan vien\n",
    "\n",
    "# main_cv = ['cong nhan', 'nhan vien', 'giao vien', 'ky su', 'can bo', 'ky thuat',\\\n",
    "#           'dieu duong', 'giam sat', 'ke toan', 'quan ly', 'lao dong', 'huan luyen vien',\\\n",
    "#           'bao mau']\n",
    "\n",
    "# for ix, cv in enumerate(train_set.maCv.values):\n",
    "#     for mcv in main_cv:\n",
    "#         if type (cv) == str:\n",
    "#             if ('cn' in cv):\n",
    "#                 train_set.maCv.iloc[ix] = 'cong nhan'\n",
    "#             elif ('nv' in cv):\n",
    "#                 train_set.maCv.iloc[ix] = 'nhan vien'\n",
    "#             elif ((cv == 'lai xe')| (cv == 'lai xe taxi') | (cv == 'lai xe con')):\n",
    "#                 train_set.maCv.iloc[ix] = 'tai xe'\n",
    "#             elif(cv == 'ki thuat vien'):\n",
    "#                 train_set.maCv.iloc[ix] = 'ky thuat'\n",
    "#             elif ((cv == 'duoc sy trung hoc')|(cv == 'duoc si trung hoc')|(cv == 'duoc sy')):\n",
    "#                 train_set.maCv.iloc[ix] = 'duoc sy'\n",
    "#             elif (cv == 'undefined'):\n",
    "#                 train_set.maCv.iloc[ix] = np.nan\n",
    "#             elif (mcv in cv):\n",
    "#                 train_set.maCv.iloc[ix] = mcv\n",
    "\n",
    "# blue_collar_jobs = ['cong nhan', 'nhan vien', 'bao ve',  'lai xe',\\\n",
    "#                    'tai xe', 'tho may', 'thu kho', 'cn may',\\\n",
    "#                    'nv ban hang', 'nv', 'cn', 'may cong nghiep']\n",
    "# white_collar_jobs = ['giao vien', 'ky thuat vien', 'ke toan', 'chuyen vien', \\\n",
    "#                     'ky su', 'dieu duong', 'ky thuat', 'dieu duong trung cap',\\\n",
    "#                     'nv ban hang', 'nv', 'dai dien kinh doanh', 'to truong',\\\n",
    "#                     'ke toan vien', ]\n",
    "# minimal_jobs = ['lao dong pho thong', 'ban hang', 'tho phu', 'tap vu', \\\n",
    "#                'phu viec', 'nv bao ve' ]\n",
    "# executive_jobs = ['giam doc', ]\n",
    "# govt_jobs = ['can bo', 'can bo ky thuat', 'can bo cap 2']"
   ]
  },
  {
   "cell_type": "code",
   "execution_count": null,
   "metadata": {},
   "outputs": [],
   "source": [
    "partner_field_list = ['partner0_A', 'partner0_B', 'partner0_C', 'partner0_D',\n",
    "       'partner0_E', 'partner0_F', 'partner0_G', 'partner0_H', 'partner1_A',\n",
    "       'partner1_C', 'partner1_G', 'partner1_H', 'partner2_A', 'partner2_C',\n",
    "       'partner2_D', 'partner2_F', 'partner2_H', 'partner3_A', 'partner3_D',\n",
    "       'partner3_E', 'partner4_L', 'partner5_A', 'partner5_D', 'partner5_G']\n",
    "\n",
    "for col in partner_field_list:\n",
    "\n",
    "    print (\"percentage of nan in\", col, \"=\", \\\n",
    "           train_set[col].value_counts(dropna= False)[np.nan]/train_set[col].value_counts(dropna= False).sum())"
   ]
  },
  {
   "cell_type": "code",
   "execution_count": null,
   "metadata": {},
   "outputs": [],
   "source": [
    "train_set.head()"
   ]
  },
  {
   "cell_type": "markdown",
   "metadata": {},
   "source": [
    "### This can be added later after imputing all the partner columns\n"
   ]
  },
  {
   "cell_type": "code",
   "execution_count": null,
   "metadata": {},
   "outputs": [],
   "source": [
    "# train_set['count_partner']= train_set[partner_field_list].sum(axis=1, skipna= False)"
   ]
  },
  {
   "cell_type": "code",
   "execution_count": null,
   "metadata": {},
   "outputs": [],
   "source": [
    "# ### DUMB MOVE\n",
    "# def encode_partner_fields(df, partner_field_cols):\n",
    "#     partner_field_list = ['partner0_A', 'partner0_B', 'partner0_C', 'partner0_D',\n",
    "#        'partner0_E', 'partner0_F', 'partner0_G', 'partner0_H', 'partner1_A',\n",
    "#        'partner1_C', 'partner1_G', 'partner1_H', 'partner2_A', 'partner2_C',\n",
    "#        'partner2_D', 'partner2_F', 'partner2_H', 'partner3_A', 'partner3_D',\n",
    "#        'partner3_E', 'partner4_L', 'partner5_A', 'partner5_D', 'partner5_G']\n",
    "    \n",
    "#     # Fill partner0_H\n",
    "#     # Logic: partner0_A, partner0_C, partner0_D, partner0_E, \n",
    "#     #          partner0_F, partner1_C, partner2_F =0 then partner0_H= 0\n",
    "#     # If the average of the values of columns is 0 then fill with 0\n",
    "#     # else fill with \n",
    "#     cols_for_partner0_H = ['partner0_A', 'partner0_C', 'partner0_D', 'partner0_E',\\\n",
    "#                            'partner0_F', 'partner1_C', 'partner2_F']\n",
    "#     df['partner0_H'] = round(train_set[cols_for_partner0_H].mean(axis = 1))\n",
    "        \n",
    "        \n",
    "#     # Fill partner5_G\n",
    "#     cols_for_partner5_G = ['partner2_D', 'partner3_E', 'partner2_C', 'partner2_A',\\\n",
    "#                            'partner2_F', 'partner2_H', 'partner5_D', 'partner1_C', 'partner1_H']\n",
    "#     df['partner5_G'] = round(train_set[cols_for_partner5_G].mean(axis = 1))\n",
    "#     df['partner5_G'] = np.where(df['partner5_A'] == 0, 0, df['partner5_G'])\n",
    "    \n",
    "    \n",
    "#     # Fill partner5_D\n",
    "#     cols_for_partner5_D = ['partner2_D', 'partner3_E', 'partner1_G',\\\n",
    "#                            'partner1_C', 'partner1_H']\n",
    "    \n",
    "#     df['partner5_D'] = round(train_set[cols_for_partner5_D].mean(axis = 1))\n",
    "#     df['partner5_D'] = np.where(df['partner5_A'] == 0, 0, df['partner5_D'])\n",
    "    \n",
    "#     # Fill partner2_F\n",
    "#     df['partner2_F'] = np.where(df['partner2_C'] == 1, 1, df['partner2_F'])\n",
    "#     df['partner2_F'] = np.where(df['partner2_A'] == 0, 0, df['partner2_F'])\n",
    "    \n",
    "#     # Fill partner2_H\n",
    "#     cols_for_partner2_H = ['partner2_A', 'partner2_C']\n",
    "#     df['partner2_H'] = round(train_set[cols_for_partner2_H].mean(axis = 1))\n",
    "        \n",
    "#     # Fill partner2_C\n",
    "#     df['partner2_C'] = np.where(df['partner2_A'] == 0, 0, df['partner2_C'])\n",
    "    \n",
    "#     # Fill partner3_E\n",
    "#     cols_for_partner3_E = ['partner1_C', 'partner1_H' ]\n",
    "#     df['partner3_E'] = round(train_set[cols_for_partner3_E].mean(axis = 1))\n",
    "    \n",
    "#     # Fill partner2_D\n",
    "#     df['partner2_D'] = np.where(df['partner2_A'] == 0, 0, df['partner2_D'])\n",
    "    "
   ]
  },
  {
   "cell_type": "code",
   "execution_count": null,
   "metadata": {},
   "outputs": [],
   "source": [
    "train_set.Field_61.value_counts()"
   ]
  },
  {
   "cell_type": "code",
   "execution_count": null,
   "metadata": {},
   "outputs": [],
   "source": [
    "encode_partner_fields(train_set, partner_field_list)"
   ]
  },
  {
   "cell_type": "code",
   "execution_count": null,
   "metadata": {},
   "outputs": [],
   "source": [
    "train_set[(~train_set.brief.isnull()) & (train_set.partner0_A.isnull())]"
   ]
  },
  {
   "cell_type": "code",
   "execution_count": null,
   "metadata": {},
   "outputs": [],
   "source": [
    "train_set[(~train_set.brief.isnull()) & (~train_set.partner0_A.isnull())]"
   ]
  },
  {
   "cell_type": "code",
   "execution_count": null,
   "metadata": {},
   "outputs": [],
   "source": [
    "train_set_original[train_set.Field_62 == 'V'].Field_61.value_counts()"
   ]
  },
  {
   "cell_type": "code",
   "execution_count": null,
   "metadata": {},
   "outputs": [],
   "source": [
    "train_set[train_set.Field_62 == 'I'].Field_61.value_counts()"
   ]
  },
  {
   "cell_type": "code",
   "execution_count": null,
   "metadata": {},
   "outputs": [],
   "source": [
    "train_set[(train_set.Field_3 == 1) & (train_set.Field_4=='T1')]"
   ]
  },
  {
   "cell_type": "code",
   "execution_count": null,
   "metadata": {},
   "outputs": [],
   "source": [
    "train_set.Field_13.value_counts(dropna = False)"
   ]
  },
  {
   "cell_type": "code",
   "execution_count": null,
   "metadata": {},
   "outputs": [],
   "source": [
    "train_set.Field_13.fillna(-1)"
   ]
  },
  {
   "cell_type": "code",
   "execution_count": null,
   "metadata": {},
   "outputs": [],
   "source": [
    "pd.crosstab(train_set.Field_13.fillna(-1), train_set.Field_10.fillna(-1))"
   ]
  },
  {
   "cell_type": "markdown",
   "metadata": {},
   "source": [
    "# train_set.Field_19.value_counts(dropna= False)"
   ]
  },
  {
   "cell_type": "code",
   "execution_count": null,
   "metadata": {},
   "outputs": [],
   "source": [
    "sns.distplot(train_set.Field_20)"
   ]
  },
  {
   "cell_type": "code",
   "execution_count": null,
   "metadata": {},
   "outputs": [],
   "source": [
    "train_set[['Field_27', 'Field_28']].corr()"
   ]
  },
  {
   "cell_type": "code",
   "execution_count": null,
   "metadata": {},
   "outputs": [],
   "source": [
    "sns.distplot(train_set.Field_27*4)"
   ]
  },
  {
   "cell_type": "code",
   "execution_count": null,
   "metadata": {},
   "outputs": [],
   "source": [
    "sns.distplot(train_set.Field_28)"
   ]
  },
  {
   "cell_type": "code",
   "execution_count": null,
   "metadata": {},
   "outputs": [],
   "source": [
    "sns.distplot(train_set.Field_29)"
   ]
  },
  {
   "cell_type": "code",
   "execution_count": null,
   "metadata": {},
   "outputs": [],
   "source": [
    "train_set[(train_set.Field_29).isnull()].label.value_counts()"
   ]
  },
  {
   "cell_type": "code",
   "execution_count": null,
   "metadata": {},
   "outputs": [],
   "source": [
    "train_set[train_set.Field_29>12].label.value_counts(dropna=False)"
   ]
  },
  {
   "cell_type": "code",
   "execution_count": null,
   "metadata": {},
   "outputs": [],
   "source": [
    "train_set[train_set.Field_29<12].label.value_counts(dropna=False)"
   ]
  },
  {
   "cell_type": "code",
   "execution_count": null,
   "metadata": {},
   "outputs": [],
   "source": [
    "train_set[train_set.Field_19 <= 1].label.value_counts()"
   ]
  },
  {
   "cell_type": "code",
   "execution_count": null,
   "metadata": {},
   "outputs": [],
   "source": [
    "train_set[train_set.Field_19 > 1].label.value_counts()"
   ]
  },
  {
   "cell_type": "code",
   "execution_count": null,
   "metadata": {},
   "outputs": [],
   "source": [
    "pd.crosstab(data_Duong_train.A_diff_date, data_Duong_train.label)"
   ]
  },
  {
   "cell_type": "code",
   "execution_count": null,
   "metadata": {},
   "outputs": [],
   "source": [
    "train_set.maCv.value_counts()[:50]"
   ]
  },
  {
   "cell_type": "code",
   "execution_count": null,
   "metadata": {},
   "outputs": [],
   "source": [
    "train_set[train_set.partner0_A.isnull()][:20]"
   ]
  },
  {
   "cell_type": "code",
   "execution_count": null,
   "metadata": {},
   "outputs": [],
   "source": [
    "train_set[(~train_set.brief.isnull()) & (train_set.partner0_A.isnull())].brief.value_counts()"
   ]
  },
  {
   "cell_type": "code",
   "execution_count": null,
   "metadata": {},
   "outputs": [],
   "source": []
  },
  {
   "cell_type": "code",
   "execution_count": null,
   "metadata": {},
   "outputs": [],
   "source": [
    "for col in partner_field_list:\n",
    "\n",
    "    print (\"percentage of nan in\", col, \"=\", \\\n",
    "           train_set[col].value_counts(dropna= False)[np.nan]/train_set[col].value_counts(dropna= False).sum())"
   ]
  },
  {
   "cell_type": "code",
   "execution_count": null,
   "metadata": {},
   "outputs": [],
   "source": [
    "pd.crosstab(train_set.label, train_set['partner0_A']).div(train_set[['partner0_A', 'label']].dropna().partner0_A.value_counts(), axis= 0)"
   ]
  },
  {
   "cell_type": "code",
   "execution_count": null,
   "metadata": {},
   "outputs": [],
   "source": [
    "0.661150*.7/(0.46280499999999997+.1115)"
   ]
  },
  {
   "cell_type": "code",
   "execution_count": null,
   "metadata": {},
   "outputs": [],
   "source": [
    "0.371651*.3/(0.46280499999999997+.1115)"
   ]
  },
  {
   "cell_type": "code",
   "execution_count": null,
   "metadata": {},
   "outputs": [],
   "source": [
    "train_set.columns"
   ]
  },
  {
   "cell_type": "code",
   "execution_count": null,
   "metadata": {},
   "outputs": [],
   "source": []
  },
  {
   "cell_type": "code",
   "execution_count": null,
   "metadata": {},
   "outputs": [],
   "source": [
    "train_set.partner0_A.value_counts()/train_set.partner0_A.value_counts().sum()"
   ]
  },
  {
   "cell_type": "code",
   "execution_count": null,
   "metadata": {},
   "outputs": [],
   "source": [
    "train_set.label.train_set.partner0_B.value_counts()/train_set.partner0_B.value_counts().sum()value_counts()/train_set.label.value_counts().sum()"
   ]
  },
  {
   "cell_type": "code",
   "execution_count": null,
   "metadata": {},
   "outputs": [],
   "source": [
    "pd.crosstab(train_set.label, train_set['partner0_A'])"
   ]
  },
  {
   "cell_type": "code",
   "execution_count": null,
   "metadata": {},
   "outputs": [],
   "source": [
    "for col in partner_field_list:\n",
    "    print (pd.crosstab(train_set.label, train_set[col]), '\\n')"
   ]
  },
  {
   "cell_type": "code",
   "execution_count": null,
   "metadata": {},
   "outputs": [],
   "source": [
    "cols_for_partner0_H = ['partner0_A', 'partner0_C', 'partner0_D', 'partner0_E', 'partner0_F', 'partner1_C', 'partner2_F']\n",
    "\n",
    "round(train_set[cols_for_partner0_H].mean(axis = 1))[:100]"
   ]
  },
  {
   "cell_type": "code",
   "execution_count": null,
   "metadata": {},
   "outputs": [],
   "source": [
    "train_set[cols_for_partner0_H].mean(axis = 1)"
   ]
  },
  {
   "cell_type": "code",
   "execution_count": null,
   "metadata": {},
   "outputs": [],
   "source": [
    "cols_for_partner0_H = ['partner0_A', 'partner0_C', 'partner0_D', 'partner0_E', 'partner0_F', 'partner1_C', 'partner2_F']\n",
    "train_set[cols_for_partner0_H].isnull().sum(axis=1).value_counts()"
   ]
  },
  {
   "cell_type": "code",
   "execution_count": null,
   "metadata": {},
   "outputs": [],
   "source": [
    "cols_Duong"
   ]
  },
  {
   "cell_type": "code",
   "execution_count": null,
   "metadata": {},
   "outputs": [],
   "source": [
    "train_set[train_set.partner0_B.isnull()].label.value_counts()/train_set[train_set.partner0_B.isnull()].label.value_counts().sum()"
   ]
  },
  {
   "cell_type": "code",
   "execution_count": null,
   "metadata": {},
   "outputs": [],
   "source": [
    "train_set[~train_set.partner0_B.isnull()].label.value_counts()/train_set[~train_set.partner0_B.isnull()].label.value_counts().sum()"
   ]
  },
  {
   "cell_type": "code",
   "execution_count": null,
   "metadata": {},
   "outputs": [],
   "source": []
  },
  {
   "cell_type": "code",
   "execution_count": null,
   "metadata": {},
   "outputs": [],
   "source": [
    "def is_cat(df, col, cutoff_cat = 50):\n",
    "    \"\"\"\n",
    "    cutoff_cat: value to determine if a column looks like categorical\n",
    "        instead of numeric one\n",
    "    \"\"\"\n",
    "    if (len(df[col].value_counts().index) < cutoff_cat):\n",
    "        return True\n",
    "    else:\n",
    "        return False"
   ]
  },
  {
   "cell_type": "code",
   "execution_count": null,
   "metadata": {},
   "outputs": [],
   "source": [
    "def fill_numeric_var(df, col, col_median= None, col_std = None, std= True, round_up= True, seed= 76, cuttoff_skewness= 0.2):\n",
    "    \n",
    "    from numpy import random\n",
    "    from scipy import stats\n",
    "    \n",
    "    random.seed(seed)\n",
    "\n",
    "    if ((col_median == None) & (col_std == None)):\n",
    "\n",
    "        # if skewness > cuttoff_skewness \n",
    "        skewness = stats.skew(df[col].values, nan_policy= 'omit').data\n",
    "\n",
    "        if (skewness > cuttoff_skewness):\n",
    "            mean_or_median = 'median'\n",
    "        else:\n",
    "            mean_or_median = 'mean'\n",
    "\n",
    "\n",
    "        if (mean_or_median == 'median'):\n",
    "            col_median = df[col].median()\n",
    "        else:\n",
    "            col_median = df[col].mean()\n",
    "\n",
    "\n",
    "        if (std == True):\n",
    "            col_std = df[col].std()\n",
    "        else:\n",
    "            col_std = 0\n",
    "            \n",
    "        print (\"skewess =\", skewness, \". Fill NAs with\", mean_or_median)\n",
    "\n",
    "    col_random= col_median + col_std*random.randn(len(df))\n",
    "    # if want to round up to interger\n",
    "    if (round_up == True):\n",
    "     \n",
    "        col_random= np.round(col_random)\n",
    "\n",
    "    \n",
    "    # start fill in nulls\n",
    "    col_random = np.where(col_random <0, 0, col_random)\n",
    "    df[col] = np.where(df[col].isnull(), col_random, df[col])\n",
    "    \n",
    "    return col_median, col_std\n"
   ]
  },
  {
   "cell_type": "code",
   "execution_count": null,
   "metadata": {},
   "outputs": [],
   "source": [
    "# check to see if "
   ]
  },
  {
   "cell_type": "code",
   "execution_count": null,
   "metadata": {},
   "outputs": [],
   "source": []
  },
  {
   "cell_type": "code",
   "execution_count": null,
   "metadata": {},
   "outputs": [],
   "source": []
  },
  {
   "cell_type": "code",
   "execution_count": null,
   "metadata": {},
   "outputs": [],
   "source": []
  },
  {
   "cell_type": "code",
   "execution_count": null,
   "metadata": {},
   "outputs": [],
   "source": []
  },
  {
   "cell_type": "code",
   "execution_count": null,
   "metadata": {},
   "outputs": [],
   "source": []
  },
  {
   "cell_type": "code",
   "execution_count": null,
   "metadata": {},
   "outputs": [],
   "source": [
    "def fill_cat_var(df, col_name, probabilities = None, seed= 76):\n",
    "    random.seed(seed)\n",
    "\n",
    "    for name in col_name:\n",
    "        info = df[name].value_counts()/df[name].value_counts().sum()\n",
    "        if (np.array(probabilities == None).any()):\n",
    "            probabilities = info.values\n",
    "\n",
    "        values= info.index\n",
    "        if (len(values) > len(probabilities)):\n",
    "        # if there are more values in test set later:\n",
    "            print (len(info.index), len(p))\n",
    "            random_val= random.choice(values, size= len(df), p = probabilities)\n",
    "            df[name] = np.where(df[name].isnull(), random_val, df[name])\n",
    "            \n",
    "    return probabilities"
   ]
  },
  {
   "cell_type": "code",
   "execution_count": null,
   "metadata": {},
   "outputs": [],
   "source": [
    "import unidecode\n"
   ]
  },
  {
   "cell_type": "code",
   "execution_count": null,
   "metadata": {},
   "outputs": [],
   "source": [
    "unicodedata.normalize('NFKD', 'Nhân viên bán hàng trực tiếp')"
   ]
  },
  {
   "cell_type": "code",
   "execution_count": null,
   "metadata": {},
   "outputs": [],
   "source": [
    "train_set.maCv.value_counts()"
   ]
  },
  {
   "cell_type": "code",
   "execution_count": null,
   "metadata": {},
   "outputs": [],
   "source": [
    "import unidecode\n",
    "accented_string = np.nan\n",
    "unidecode.unidecode(accented_string)"
   ]
  },
  {
   "cell_type": "code",
   "execution_count": null,
   "metadata": {},
   "outputs": [],
   "source": [
    "type(train_set.maCv.iloc[1]) != str"
   ]
  },
  {
   "cell_type": "code",
   "execution_count": null,
   "metadata": {},
   "outputs": [],
   "source": [
    "'cong ' in 'cong nhan san xuat'"
   ]
  },
  {
   "cell_type": "code",
   "execution_count": null,
   "metadata": {},
   "outputs": [],
   "source": [
    "train_set.maCv.apply(lambda x: unidecode.unidecode(x).lower() if type(x) == str else np.nan) .value_counts()"
   ]
  },
  {
   "cell_type": "code",
   "execution_count": null,
   "metadata": {},
   "outputs": [],
   "source": [
    "data_Duong_train = train_set[cols_Duong].copy()\n",
    "data_Duong_train['label'] = train_set.label\n",
    "\n",
    "from datetime import datetime\n",
    "\n",
    "data_Duong_train['E_endDate'] = data_Duong_train['E_endDate'].apply(lambda row: \\\n",
    "              np.nan \\\n",
    "                    if row is np.nan \\\n",
    "                else datetime.strptime(row, '%Y-%m-%d'))\n",
    "\n",
    "data_Duong_train['E_startDate'] = data_Duong_train['E_startDate'].apply(lambda row: \\\n",
    "              np.nan \\\n",
    "                    if row is np.nan \\\n",
    "                else datetime.strptime(row, '%Y-%m-%d'))\n",
    "\n",
    "\n",
    "data_Duong_train['C_endDate'] = data_Duong_train['C_endDate'].apply(lambda row: \\\n",
    "              np.nan \\\n",
    "                    if row is np.nan \\\n",
    "                else datetime.strptime(row, '%Y-%m-%d'))\n",
    "\n",
    "data_Duong_train['C_startDate'] = data_Duong_train['C_startDate'].apply(lambda row: \\\n",
    "              np.nan \\\n",
    "                    if row is np.nan \\\n",
    "                else datetime.strptime(row, '%Y-%m-%d'))\n",
    "\n",
    "\n",
    "data_Duong_train['F_endDate'] = data_Duong_train['F_endDate'].apply(lambda row: \\\n",
    "              np.nan \\\n",
    "                    if row is np.nan \\\n",
    "                else datetime.strptime(row, '%Y-%m-%d'))\n",
    "\n",
    "data_Duong_train['F_startDate'] = data_Duong_train['F_startDate'].apply(lambda row: \\\n",
    "              np.nan \\\n",
    "                    if row is np.nan \\\n",
    "                else datetime.strptime(row, '%Y-%m-%d'))\n",
    "\n",
    "data_Duong_train['G_startDate'] = data_Duong_train['G_startDate'].apply(lambda row: \\\n",
    "              np.nan \\\n",
    "                    if row is np.nan \\\n",
    "                else datetime.strptime(row, '%Y-%m-%d'))\n",
    "\n",
    "data_Duong_train['G_endDate'] = data_Duong_train['G_endDate'].apply(lambda row: \\\n",
    "              np.nan \\\n",
    "                    if row is np.nan \\\n",
    "                else datetime.strptime(row, '%Y-%m-%d'))               \n",
    "\n",
    "\n",
    "data_Duong_train['A_endDate'] = data_Duong_train['A_endDate'].apply(lambda row: \\\n",
    "              np.nan \\\n",
    "                    if row is np.nan \\\n",
    "                else datetime.strptime(row, '%Y-%m-%d'))\n",
    "\n",
    "data_Duong_train['A_startDate'] = data_Duong_train['A_startDate'].apply(lambda row: \\\n",
    "              np.nan \\\n",
    "                    if row is np.nan \\\n",
    "                else datetime.strptime(row, '%Y-%m-%d'))  \n",
    "\n",
    "data_Duong_train['E_diff_date']= (data_Duong_train['E_endDate'] - data_Duong_train['E_startDate']).dt.days\n",
    "\n",
    "data_Duong_train['F_diff_date']= (data_Duong_train['F_endDate'] - data_Duong_train['F_startDate']).dt.days\n",
    "\n",
    "data_Duong_train['G_diff_date']= (data_Duong_train['G_endDate'] - data_Duong_train['G_startDate']).dt.days\n",
    "\n",
    "data_Duong_train['A_diff_date']= (data_Duong_train['A_endDate'] - data_Duong_train['A_startDate']).dt.days\n",
    "\n",
    "data_Duong_train.drop(['E_endDate', 'E_startDate', 'F_endDate', 'F_startDate',\\\n",
    "                       'G_endDate', 'G_startDate', 'A_endDate', 'A_startDate',\\\n",
    "                       'C_endDate', 'C_startDate'],\\\n",
    "                    axis= 1, inplace= True)\n",
    "\n",
    "useless_cols = ['currentLocationLocationId', 'currentLocationLatitude', \n",
    "                'currentLocationLongitude', 'homeTownLocationId', \n",
    "                'homeTownLatitude', 'homeTownLongitude',\n",
    "                'data.basic_info.locale', 'currentLocationCity',\n",
    "                'currentLocationCountry', 'currentLocationName', \n",
    "                'currentLocationState', 'homeTownCity', \n",
    "                'homeTownCountry', 'homeTownName', 'homeTownState']\n",
    "\n",
    "data_Duong_train.drop(useless_cols, axis= 1, inplace= True)"
   ]
  },
  {
   "cell_type": "code",
   "execution_count": null,
   "metadata": {},
   "outputs": [],
   "source": []
  },
  {
   "cell_type": "code",
   "execution_count": null,
   "metadata": {},
   "outputs": [],
   "source": [
    "# cols of numQuery\n",
    "cols_query= ['A_numQuery', 'E_numQuery', 'C_numQuery', 'F_numQuery', 'G_numQuery']\n",
    "\n",
    "# create a column storing sum of numQuery\n",
    "data_Duong_train['sum_numQuery'] = data_Duong_train[cols_query].sum(axis=1)"
   ]
  },
  {
   "cell_type": "code",
   "execution_count": null,
   "metadata": {},
   "outputs": [],
   "source": [
    "data_Duong_train.corr()['summary_6m'].sort_values()"
   ]
  },
  {
   "cell_type": "code",
   "execution_count": null,
   "metadata": {},
   "outputs": [],
   "source": [
    "train_set[train_set.partner0_A.isnull()].label.value_counts()"
   ]
  },
  {
   "cell_type": "code",
   "execution_count": null,
   "metadata": {},
   "outputs": [],
   "source": [
    "sns.scatterplot(data_Duong_train.Field_78, data_Duong_train.label)"
   ]
  },
  {
   "cell_type": "code",
   "execution_count": null,
   "metadata": {},
   "outputs": [],
   "source": [
    "train_set[train_set.Field_80 == train_set.Field_81].partner5_D.value_counts()"
   ]
  },
  {
   "cell_type": "code",
   "execution_count": null,
   "metadata": {},
   "outputs": [],
   "source": [
    "a = train_set[((train_set.Field_79.isnull()) | (train_set.Field_79==0)) &  (~train_set.Field_78.isnull())][['Field_78', 'Field_79', 'Field_80', 'Field_81']]"
   ]
  },
  {
   "cell_type": "code",
   "execution_count": null,
   "metadata": {},
   "outputs": [],
   "source": [
    "train_set[(train_set.Field_80 <0) & ((train_set.Field_81 <0))].label.value_counts()"
   ]
  },
  {
   "cell_type": "code",
   "execution_count": null,
   "metadata": {},
   "outputs": [],
   "source": [
    "(a.Field_78 == a.Field_81).value_counts()"
   ]
  },
  {
   "cell_type": "code",
   "execution_count": null,
   "metadata": {},
   "outputs": [],
   "source": [
    "data_Duong_test = test_set[cols_Duong].copy()\n",
    "from datetime import datetime\n",
    "\n",
    "data_Duong_test['E_endDate'] = data_Duong_test['E_endDate'].apply(lambda row: \\\n",
    "              np.nan \\\n",
    "                    if row is np.nan \\\n",
    "                else datetime.strptime(row, '%m/%d/%Y'))\n",
    "\n",
    "data_Duong_test['E_startDate'] = data_Duong_test['E_startDate'].apply(lambda row: \\\n",
    "              np.nan \\\n",
    "                    if row is np.nan \\\n",
    "                else datetime.strptime(row, '%m/%d/%Y'))\n",
    "\n",
    "\n",
    "data_Duong_test['F_endDate'] = data_Duong_test['F_endDate'].apply(lambda row: \\\n",
    "              np.nan \\\n",
    "                    if row is np.nan \\\n",
    "                else datetime.strptime(row, '%m/%d/%Y'))\n",
    "\n",
    "data_Duong_test['F_startDate'] = data_Duong_test['F_startDate'].apply(lambda row: \\\n",
    "              np.nan \\\n",
    "                    if row is np.nan \\\n",
    "                else datetime.strptime(row, '%m/%d/%Y'))\n",
    "\n",
    "data_Duong_test['G_startDate'] = data_Duong_test['G_startDate'].apply(lambda row: \\\n",
    "              np.nan \\\n",
    "                    if row is np.nan \\\n",
    "                else datetime.strptime(row, '%m/%d/%Y'))\n",
    "\n",
    "data_Duong_test['G_endDate'] = data_Duong_test['G_endDate'].apply(lambda row: \\\n",
    "              np.nan \\\n",
    "                    if row is np.nan \\\n",
    "                else datetime.strptime(row, '%m/%d/%Y'))               \n",
    "\n",
    "\n",
    "data_Duong_test['A_endDate'] = data_Duong_test['A_endDate'].apply(lambda row: \\\n",
    "              np.nan \\\n",
    "                    if row is np.nan \\\n",
    "                else datetime.strptime(row, '%m/%d/%Y'))\n",
    "\n",
    "data_Duong_test['A_startDate'] = data_Duong_test['A_startDate'].apply(lambda row: \\\n",
    "              np.nan \\\n",
    "                    if row is np.nan \\\n",
    "                else datetime.strptime(row, '%m/%d/%Y'))  \n",
    "\n",
    "data_Duong_test['E_diff_date']= (data_Duong_test['E_endDate'] - data_Duong_test['E_startDate']).dt.days\n",
    "\n",
    "data_Duong_test['F_diff_date']= (data_Duong_test['F_endDate'] - data_Duong_test['F_startDate']).dt.days\n",
    "\n",
    "data_Duong_test['G_diff_date']= (data_Duong_test['G_endDate'] - data_Duong_test['G_startDate']).dt.days\n",
    "\n",
    "data_Duong_test['A_diff_date']= (data_Duong_test['A_endDate'] - data_Duong_test['A_startDate']).dt.days\n",
    "\n",
    "data_Duong_test.drop(['E_endDate', 'E_startDate', 'F_endDate', 'F_startDate', 'G_endDate', 'G_startDate', 'A_endDate', 'A_startDate'],\\\n",
    "                    axis= 1, inplace= True)\n",
    "\n",
    "useless_cols = ['currentLocationLocationId', 'currentLocationLatitude', \n",
    "                'currentLocationLongitude', 'homeTownLocationId', \n",
    "                'homeTownLatitude', 'homeTownLongitude',\n",
    "                'data.basic_info.locale', 'currentLocationCity',\n",
    "                'currentLocationCountry', 'currentLocationName', \n",
    "                'currentLocationState', 'homeTownCity', \n",
    "                'homeTownCountry', 'homeTownName', 'homeTownState']\n",
    "\n",
    "data_Duong_test.drop(useless_cols, axis= 1, inplace= True)\n"
   ]
  },
  {
   "cell_type": "code",
   "execution_count": null,
   "metadata": {},
   "outputs": [],
   "source": [
    "cat_cols = ['info_social_sex', 'topFriends', 'numOrg', 'F_numOrg', 'F_numQuery',\\\n",
    "           'E_numOrg', 'E_numQuery', 'C_numOrg', 'C_numQuery',\\\n",
    "           'partner0_A', 'partner0_B', 'partner0_C', 'partner0_D',\n",
    "           'partner0_E', 'partner0_F', 'partner0_G', 'partner0_H', 'partner1_A',\n",
    "           'partner1_C', 'partner1_G', 'partner1_H', 'partner2_A', 'partner2_C',\n",
    "           'partner2_D', 'partner2_F', 'partner2_H', 'partner3_A', 'partner3_D',\n",
    "           'partner3_E', 'partner4_L', 'partner5_A', 'partner5_D', 'partner5_G',\n",
    "           'brief', 'num_of_phone', 'Field_82' ]\n",
    "num_cols = ['subscriberCount', 'numOrg', \\\n",
    "            'summary_6m', 'summary_3m', 'summary_1m','summary_1w',\n",
    "           'Field_78', 'Field_79', 'Field_80', 'Field_81',\n",
    "           'E_diff_date', 'F_diff_date', 'G_diff_date', 'A_diff_date']\n",
    "\n",
    "for col in data_Duong_train.columns:\n",
    "    print (col)\n",
    "    if is_cat(data_Duong_train, col):\n",
    "        pr = fill_cat_var(data_Duong_train, [col])\n",
    "        fill_cat_var(data_Duong_test, [col], pr)\n",
    "    else:\n",
    "        m, s = fill_numeric_var(data_Duong_train, col)\n",
    "        fill_numeric_var(data_Duong_test, col, m, s )\n",
    "        "
   ]
  },
  {
   "cell_type": "code",
   "execution_count": null,
   "metadata": {},
   "outputs": [],
   "source": [
    "data_Duong.to_csv(\"/home/mangxu/MachineLearning/CreditScoreChallenge/Data/data_Vincent_dumbass_filled.csv\")"
   ]
  },
  {
   "cell_type": "code",
   "execution_count": null,
   "metadata": {},
   "outputs": [],
   "source": []
  },
  {
   "cell_type": "code",
   "execution_count": null,
   "metadata": {},
   "outputs": [],
   "source": []
  },
  {
   "cell_type": "code",
   "execution_count": null,
   "metadata": {},
   "outputs": [],
   "source": [
    "data_Duong.head()"
   ]
  },
  {
   "cell_type": "code",
   "execution_count": null,
   "metadata": {},
   "outputs": [],
   "source": [
    "na_counts= data_Duong.isna().sum().sort_values()\n",
    "fig, ax = plt.subplots(figsize= (20,15))\n",
    "total_samples= len(data_Duong)\n",
    "\n",
    "ax.bar(na_counts.index,na_counts.values/total_samples)\n",
    "ax.set_xlabel(\"column \", fontsize= 30)\n",
    "ax.set_ylabel(\"counts\", fontsize= 30)\n",
    "ax.set_xticklabels([])\n",
    "ax.set_title(\"Percentages of missing values in each column\", fontsize= 35)"
   ]
  },
  {
   "cell_type": "code",
   "execution_count": null,
   "metadata": {},
   "outputs": [],
   "source": [
    "corrs = data_Duong.corr()['label'].sort_values()\n",
    "# exclude nan corrs\n",
    "corrs = corrs[corrs.values < 1]\n",
    "\n",
    "fig, ax = plt.subplots(figsize= (20,15))\n",
    "total_samples= len(data_Duong)\n",
    "\n",
    "ax.bar(corrs.index, corrs.values)\n",
    "ax.set_xlabel(\"column \", fontsize= 30)\n",
    "ax.set_ylabel(\"correlation\", fontsize= 30)\n",
    "ax.set_xticklabels([])\n",
    "ax.set_title(\"Correlation with labels\", fontsize= 35)"
   ]
  },
  {
   "cell_type": "markdown",
   "metadata": {},
   "source": [
    "### Drop columns about geological info"
   ]
  },
  {
   "cell_type": "code",
   "execution_count": null,
   "metadata": {},
   "outputs": [],
   "source": [
    "useless_cols = ['currentLocationLocationId', 'currentLocationLatitude', \n",
    "                'currentLocationLongitude', 'homeTownLocationId', \n",
    "                'homeTownLatitude', 'homeTownLongitude',\n",
    "                'data.basic_info.locale', 'currentLocationCity',\n",
    "                'currentLocationCountry', 'currentLocationName', \n",
    "                'currentLocationState', 'homeTownCity', \n",
    "                'homeTownCountry', 'homeTownName', 'homeTownState']\n",
    "\n",
    "data_Duong.drop(useless_cols, axis= 1, inplace= True)"
   ]
  },
  {
   "cell_type": "markdown",
   "metadata": {},
   "source": [
    "### For info_social_sex column:"
   ]
  },
  {
   "cell_type": "code",
   "execution_count": null,
   "metadata": {},
   "outputs": [],
   "source": [
    "label_by_info_social_sex = data_Duong.groupby(['label'])\\\n",
    "                ['info_social_sex'].value_counts()\n",
    "df = pd.DataFrame(label_by_info_social_sex).\\\n",
    "    rename({'info_social_sex':'counts'}, axis=1).reset_index()"
   ]
  },
  {
   "cell_type": "markdown",
   "metadata": {},
   "source": [
    "### Female has a slightly higher chance of having label 0.\n",
    "### For the existing values, there are more male than female customers."
   ]
  },
  {
   "cell_type": "code",
   "execution_count": null,
   "metadata": {},
   "outputs": [],
   "source": [
    "df['pct2'] = df['counts']/df['counts'].sum()\n",
    "\n",
    "import seaborn as sns\n",
    "\n",
    "fig, ax = plt.subplots(figsize= (15,8))\n",
    "sns.barplot(x= 'info_social_sex', y = 'pct2', \\\n",
    "            hue= 'label', data= df, ax=ax)\n",
    "\n",
    "ax.set_title(\"pct of Info social sex by label\")"
   ]
  },
  {
   "cell_type": "code",
   "execution_count": null,
   "metadata": {},
   "outputs": [],
   "source": [
    "print (\"percentages of male and female in column info_social_sex:\")\n",
    "info_social_sex_pct_original = data_Duong.info_social_sex.value_counts()/data_Duong.info_social_sex.value_counts().sum()\n",
    "info_social_sex_pct_original"
   ]
  },
  {
   "cell_type": "code",
   "execution_count": null,
   "metadata": {},
   "outputs": [],
   "source": [
    "info_social_sex_pct_original"
   ]
  },
  {
   "cell_type": "markdown",
   "metadata": {},
   "source": [
    "### We'll fill in missing values with 60% male and 40% female"
   ]
  },
  {
   "cell_type": "code",
   "execution_count": null,
   "metadata": {},
   "outputs": [],
   "source": [
    "fill_cat_var(data_Duong, ['info_social_sex'])"
   ]
  },
  {
   "cell_type": "code",
   "execution_count": null,
   "metadata": {},
   "outputs": [],
   "source": [
    "print (\"After filling all NAs...\")\n",
    "data_Duong['info_social_sex'].value_counts()/data_Duong['info_social_sex'].value_counts().sum()"
   ]
  },
  {
   "cell_type": "markdown",
   "metadata": {},
   "source": [
    "## subscriberCount column\n",
    "### Plot its distributions"
   ]
  },
  {
   "cell_type": "markdown",
   "metadata": {},
   "source": [
    "### A lot of missing values"
   ]
  },
  {
   "cell_type": "code",
   "execution_count": null,
   "metadata": {},
   "outputs": [],
   "source": [
    "data_Duong.subscriberCount.value_counts(dropna= False)"
   ]
  },
  {
   "cell_type": "markdown",
   "metadata": {},
   "source": [
    "## If subscriberCount > 60,000 then label = 0\n",
    "## We can use it as a factor to automatically fill in label later\n"
   ]
  },
  {
   "cell_type": "code",
   "execution_count": null,
   "metadata": {},
   "outputs": [],
   "source": [
    "sns.scatterplot(data_Duong.label, data_Duong.subscriberCount)"
   ]
  },
  {
   "cell_type": "markdown",
   "metadata": {},
   "source": [
    "### it seems like the more subsciber counts, the more likely its label will be 0"
   ]
  },
  {
   "cell_type": "code",
   "execution_count": null,
   "metadata": {},
   "outputs": [],
   "source": [
    "sns.set(style=\"whitegrid\")\n",
    "plt.rcParams[\"figure.figsize\"] = (15,8)\n",
    "\n",
    "sns.boxplot(x= 'label', y= 'subscriberCount', data= data_Duong[data_Duong.subscriberCount <100000])\n",
    "plt.suptitle(\"box plots of labels based on subscriberCount\")"
   ]
  },
  {
   "cell_type": "code",
   "execution_count": null,
   "metadata": {},
   "outputs": [],
   "source": [
    "sns.distplot(data_Duong[data_Duong.subscriberCount < 60000].subscriberCount)"
   ]
  },
  {
   "cell_type": "markdown",
   "metadata": {},
   "source": [
    "## Fill in NAs of subscriberCount with median and std\n"
   ]
  },
  {
   "cell_type": "code",
   "execution_count": null,
   "metadata": {},
   "outputs": [],
   "source": [
    "fill_null_with_median(data_Duong, 'subscriberCount')"
   ]
  },
  {
   "cell_type": "code",
   "execution_count": null,
   "metadata": {},
   "outputs": [],
   "source": [
    "sns.distplot(data_Duong[data_Duong.subscriberCount < 60000].subscriberCount)"
   ]
  },
  {
   "cell_type": "markdown",
   "metadata": {},
   "source": [
    "# COLUMN TOPFRIENDS"
   ]
  },
  {
   "cell_type": "code",
   "execution_count": null,
   "metadata": {},
   "outputs": [],
   "source": [
    "label_by_topFriends = data_Duong.groupby('label')['topFriends'].\\\n",
    "        value_counts().sort_index()\n",
    "df_label_by_topFriends= pd.DataFrame(label_by_topFriends).\\\n",
    "        rename({'topFriends':'counts'}, axis=1).reset_index()"
   ]
  },
  {
   "cell_type": "markdown",
   "metadata": {},
   "source": [
    "## most samples has topFriends= 5"
   ]
  },
  {
   "cell_type": "code",
   "execution_count": null,
   "metadata": {},
   "outputs": [],
   "source": [
    "fig, ax = plt.subplots(figsize= (15,8))\n",
    "sns.barplot(x= 'topFriends', y = 'counts', \\\n",
    "            hue= 'label', data= df_label_by_topFriends, ax=ax)\n",
    "\n",
    "\n",
    "ax.set_title(\"Counts topFriends by label\")"
   ]
  },
  {
   "cell_type": "code",
   "execution_count": null,
   "metadata": {},
   "outputs": [],
   "source": [
    "df_label_by_topFriends['pct_by_group'] = df_label_by_topFriends.counts/\\\n",
    "        np.array(list(df_label_by_topFriends.groupby('topFriends').sum()['counts'].values)*2)\n",
    "\n",
    "fig, ax = plt.subplots(figsize= (15,8))\n",
    "sns.barplot(x= 'topFriends', y = 'pct_by_group', \\\n",
    "            hue= 'label', data= df_label_by_topFriends, ax=ax)\n",
    "\n",
    "ax.set_title(\"percentage of labels by group of topFriends by label\")"
   ]
  },
  {
   "cell_type": "markdown",
   "metadata": {},
   "source": [
    "## Looks like most group will have the same proportions of label 0 and 1.\n",
    "\n",
    "## fill in missing data randomly based on proportions of topFriends \"categories\" (0-5)"
   ]
  },
  {
   "cell_type": "code",
   "execution_count": null,
   "metadata": {},
   "outputs": [],
   "source": [
    "fill_cat_var(data_Duong, ['topFriends'])"
   ]
  },
  {
   "cell_type": "markdown",
   "metadata": {},
   "source": [
    "# COLUMN numOrg"
   ]
  },
  {
   "cell_type": "code",
   "execution_count": null,
   "metadata": {},
   "outputs": [],
   "source": [
    "plt.hist(data_Duong.numOrg, bins= range(0, int(data_Duong.numOrg.max()), 1))"
   ]
  },
  {
   "cell_type": "markdown",
   "metadata": {},
   "source": [
    "## Looks skewed. Fill with median"
   ]
  },
  {
   "cell_type": "code",
   "execution_count": null,
   "metadata": {},
   "outputs": [],
   "source": [
    "fill_numeric_var(data_Duong, 'numOrg')"
   ]
  },
  {
   "cell_type": "code",
   "execution_count": null,
   "metadata": {},
   "outputs": [],
   "source": [
    "data_Duong.F_numOrg.value_counts()"
   ]
  },
  {
   "cell_type": "code",
   "execution_count": null,
   "metadata": {},
   "outputs": [],
   "source": [
    "data_Duong.columns"
   ]
  },
  {
   "cell_type": "code",
   "execution_count": null,
   "metadata": {},
   "outputs": [],
   "source": [
    "fill_numeric_var(data_Duong, 'F_numOrg')"
   ]
  },
  {
   "cell_type": "code",
   "execution_count": null,
   "metadata": {},
   "outputs": [],
   "source": [
    "len(data_Duong.F_numOrg.value_counts().index) > 500"
   ]
  },
  {
   "cell_type": "code",
   "execution_count": null,
   "metadata": {},
   "outputs": [],
   "source": []
  },
  {
   "cell_type": "markdown",
   "metadata": {},
   "source": [
    "### After filling nulls"
   ]
  },
  {
   "cell_type": "code",
   "execution_count": null,
   "metadata": {},
   "outputs": [],
   "source": [
    "plt.hist(data_Duong.A_numOrg, bins= range(0, 16, 1))"
   ]
  },
  {
   "cell_type": "code",
   "execution_count": null,
   "metadata": {},
   "outputs": [],
   "source": [
    "plt.hist(data_Duong.F_numQuery)"
   ]
  },
  {
   "cell_type": "code",
   "execution_count": null,
   "metadata": {},
   "outputs": [],
   "source": [
    "data_Duong.columns"
   ]
  },
  {
   "cell_type": "code",
   "execution_count": null,
   "metadata": {},
   "outputs": [],
   "source": []
  },
  {
   "cell_type": "code",
   "execution_count": null,
   "metadata": {},
   "outputs": [],
   "source": []
  },
  {
   "cell_type": "code",
   "execution_count": null,
   "metadata": {},
   "outputs": [],
   "source": []
  },
  {
   "cell_type": "markdown",
   "metadata": {},
   "source": [
    "# create custom columns"
   ]
  },
  {
   "cell_type": "markdown",
   "metadata": {},
   "source": [
    "### column diff_start_end_date = diff between E_startDate and E_endDate"
   ]
  },
  {
   "cell_type": "code",
   "execution_count": null,
   "metadata": {},
   "outputs": [],
   "source": [
    "from datetime import datetime\n",
    "\n",
    "data_Duong['E_endDate'] = data_Duong['E_endDate'].apply(lambda row: \\\n",
    "              datetime.strptime('1900-01-01', '%Y-%m-%d') \\\n",
    "                    if row is np.nan \\\n",
    "                else datetime.strptime(row, '%Y-%m-%d'))\n",
    "\n",
    "data_Duong['E_startDate'] = data_Duong['E_startDate'].apply(lambda row: \\\n",
    "              datetime.strptime('1900-01-01', '%Y-%m-%d') \\\n",
    "                    if row is np.nan \\\n",
    "                else datetime.strptime(row, '%Y-%m-%d'))\n",
    "\n",
    "\n",
    "data_Duong['F_endDate'] = data_Duong['F_endDate'].apply(lambda row: \\\n",
    "              datetime.strptime('1900-01-01', '%Y-%m-%d') \\\n",
    "                    if row is np.nan \\\n",
    "                else datetime.strptime(row, '%Y-%m-%d'))\n",
    "\n",
    "data_Duong['F_startDate'] = data_Duong['F_startDate'].apply(lambda row: \\\n",
    "              datetime.strptime('1900-01-01', '%Y-%m-%d') \\\n",
    "                    if row is np.nan \\\n",
    "                else datetime.strptime(row, '%Y-%m-%d'))\n",
    "\n",
    "data_Duong['G_startDate'] = data_Duong['G_startDate'].apply(lambda row: \\\n",
    "              datetime.strptime('1900-01-01', '%Y-%m-%d') \\\n",
    "                    if row is np.nan \\\n",
    "                else datetime.strptime(row, '%Y-%m-%d'))\n",
    "\n",
    "data_Duong['G_endDate'] = data_Duong['G_endDate'].apply(lambda row: \\\n",
    "              datetime.strptime('1900-01-01', '%Y-%m-%d') \\\n",
    "                    if row is np.nan \\\n",
    "                else datetime.strptime(row, '%Y-%m-%d'))               \n",
    "\n",
    "\n",
    "data_Duong['A_endDate'] = data_Duong['A_endDate'].apply(lambda row: \\\n",
    "              datetime.strptime('1900-01-01', '%Y-%m-%d') \\\n",
    "                    if row is np.nan \\\n",
    "                else datetime.strptime(row, '%Y-%m-%d'))\n",
    "\n",
    "data_Duong['A_startDate'] = data_Duong['A_startDate'].apply(lambda row: \\\n",
    "              datetime.strptime('1900-01-01', '%Y-%m-%d') \\\n",
    "                    if row is np.nan \\\n",
    "                else datetime.strptime(row, '%Y-%m-%d'))  \n",
    "\n",
    "data_Duong['E_diff_date']= data_Duong['E_endDate'] - data_Duong['E_startDate']\n",
    "\n",
    "data_Duong['F_diff_date']= data_Duong['F_endDate'] - data_Duong['F_startDate']\n",
    "\n",
    "data_Duong['G_diff_date']= data_Duong['G_endDate'] - data_Duong['G_startDate']\n",
    "\n",
    "data_Duong['A_diff_date']= data_Duong['A_endDate'] - data_Duong['A_startDate']"
   ]
  },
  {
   "cell_type": "markdown",
   "metadata": {},
   "source": [
    "## *letter*_diff_date = diff between *letter*_startDate and *letter*_endDate"
   ]
  },
  {
   "cell_type": "code",
   "execution_count": null,
   "metadata": {},
   "outputs": [],
   "source": [
    "data_Duong[['E_endDate', 'F_endDate']]"
   ]
  },
  {
   "cell_type": "code",
   "execution_count": null,
   "metadata": {},
   "outputs": [],
   "source": [
    "train_set.Field_1"
   ]
  },
  {
   "cell_type": "code",
   "execution_count": null,
   "metadata": {},
   "outputs": [],
   "source": [
    "data_Duong['E_diff_date']= data_Duong['E_endDate'] - data_Duong['E_startDate']\n",
    "\n",
    "data_Duong['F_diff_date']= data_Duong['F_endDate'] - data_Duong['F_startDate']\n",
    "\n",
    "data_Duong['G_diff_date']= data_Duong['G_endDate'] - data_Duong['G_startDate']\n",
    "\n",
    "data_Duong['A_diff_date']= data_Duong['A_endDate'] - data_Duong['A_startDate']"
   ]
  },
  {
   "cell_type": "code",
   "execution_count": null,
   "metadata": {},
   "outputs": [],
   "source": [
    "E_diff_date_counts = data_Duong['E_diff_date'].value_counts()"
   ]
  },
  {
   "cell_type": "code",
   "execution_count": null,
   "metadata": {},
   "outputs": [],
   "source": [
    "E_diff_date_counts"
   ]
  },
  {
   "cell_type": "code",
   "execution_count": null,
   "metadata": {},
   "outputs": [],
   "source": [
    "plt.bar(E_diff_date_counts.index, E_diff_date_counts.values)"
   ]
  },
  {
   "cell_type": "code",
   "execution_count": null,
   "metadata": {},
   "outputs": [],
   "source": []
  },
  {
   "cell_type": "code",
   "execution_count": null,
   "metadata": {},
   "outputs": [],
   "source": []
  },
  {
   "cell_type": "code",
   "execution_count": null,
   "metadata": {},
   "outputs": [],
   "source": []
  },
  {
   "cell_type": "code",
   "execution_count": null,
   "metadata": {},
   "outputs": [],
   "source": [
    "for i, col in enumerate(data_Duong.columns):\n",
    "    print (i+1, \"/ Column name:\", col)\n",
    "    print(data_Duong[col].value_counts(dropna=False))"
   ]
  },
  {
   "cell_type": "markdown",
   "metadata": {},
   "source": [
    "## Explore topfriends"
   ]
  },
  {
   "cell_type": "code",
   "execution_count": null,
   "metadata": {},
   "outputs": [],
   "source": [
    "topFriends_counts"
   ]
  },
  {
   "cell_type": "code",
   "execution_count": null,
   "metadata": {},
   "outputs": [],
   "source": [
    "train_set['E_endDate'].equals(train_set['G_endDate'])"
   ]
  },
  {
   "cell_type": "code",
   "execution_count": null,
   "metadata": {},
   "outputs": [],
   "source": [
    "train_set[['Field_14','Field_16']].drop_duplicates()"
   ]
  },
  {
   "cell_type": "code",
   "execution_count": null,
   "metadata": {},
   "outputs": [],
   "source": [
    "for i in range(10):\n",
    "    if (i%3 == 0):\n",
    "        continue\n",
    "    print (i)"
   ]
  },
  {
   "cell_type": "code",
   "execution_count": null,
   "metadata": {},
   "outputs": [],
   "source": []
  },
  {
   "cell_type": "code",
   "execution_count": null,
   "metadata": {},
   "outputs": [],
   "source": []
  },
  {
   "cell_type": "code",
   "execution_count": null,
   "metadata": {},
   "outputs": [],
   "source": []
  },
  {
   "cell_type": "code",
   "execution_count": null,
   "metadata": {},
   "outputs": [],
   "source": []
  },
  {
   "cell_type": "code",
   "execution_count": null,
   "metadata": {},
   "outputs": [],
   "source": []
  },
  {
   "cell_type": "code",
   "execution_count": null,
   "metadata": {},
   "outputs": [],
   "source": []
  },
  {
   "cell_type": "code",
   "execution_count": null,
   "metadata": {},
   "outputs": [],
   "source": []
  },
  {
   "cell_type": "code",
   "execution_count": null,
   "metadata": {},
   "outputs": [],
   "source": []
  },
  {
   "cell_type": "code",
   "execution_count": null,
   "metadata": {},
   "outputs": [],
   "source": []
  },
  {
   "cell_type": "code",
   "execution_count": null,
   "metadata": {},
   "outputs": [],
   "source": []
  },
  {
   "cell_type": "code",
   "execution_count": null,
   "metadata": {},
   "outputs": [],
   "source": []
  },
  {
   "cell_type": "code",
   "execution_count": null,
   "metadata": {},
   "outputs": [],
   "source": []
  },
  {
   "cell_type": "code",
   "execution_count": null,
   "metadata": {},
   "outputs": [],
   "source": []
  }
 ],
 "metadata": {
  "kernelspec": {
   "display_name": "Python 3",
   "language": "python",
   "name": "python3"
  },
  "language_info": {
   "codemirror_mode": {
    "name": "ipython",
    "version": 3
   },
   "file_extension": ".py",
   "mimetype": "text/x-python",
   "name": "python",
   "nbconvert_exporter": "python",
   "pygments_lexer": "ipython3",
   "version": "3.7.8"
  }
 },
 "nbformat": 4,
 "nbformat_minor": 4
}
